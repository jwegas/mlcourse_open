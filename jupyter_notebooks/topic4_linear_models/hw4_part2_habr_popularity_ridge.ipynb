{
 "cells": [
  {
   "cell_type": "markdown",
   "metadata": {},
   "source": [
    "<center>\n",
    "<img src=\"../../img/ods_stickers.jpg\">\n",
    "## Открытый курс по машинному обучению\n",
    "</center>\n",
    "<center>Автор материала: Ольга Дайховская"
   ]
  },
  {
   "cell_type": "markdown",
   "metadata": {},
   "source": [
    "# <center> Домашнее задание № 4. Часть 2\n",
    "## <center>  Прогнозирование популярности статей на TechMedia с помощью линейных моделей\n",
    "\n",
    "**В задании Вам предлагается разобраться с тем, как работает TfidfVectorizer и DictVectorizer, затем обучить и настроить модель линейной регрессии Ridge на данных о публикациях на Хабрахабре. Пройдя все шаги, вы сможете получить бейзлайн для [соревнования](https://inclass.kaggle.com/c/howpop-habrahabr-favs-lognorm). \n",
    "Ответьте на все вопросы в этой тетрадке и заполните ответы в [гугл-форме](https://docs.google.com/forms/d/e/1FAIpQLSd8E7naU38ikc9-rd31KeVfez3emCo4Ok1WrpQTr-XCDelRiw/viewform).**"
   ]
  },
  {
   "cell_type": "markdown",
   "metadata": {},
   "source": [
    "**Описание соревнования**\n",
    "\n",
    "Предскажите, как много звездочек наберет статья, зная только ее текст и время публикации\n",
    "\n",
    "Необходимо предсказать популярность поста на Хабре по содержанию и времени публикации. Как известно, пользователи Хабра могут добавлять статьи к себе в избранное. Общее количество пользователей, которое это сделали отображается у статьи количеством звездочек. Будем считать, что число звездочек, поставленных статье, наиболее хорошо отражает ее популярность.\n",
    "\n",
    "Более формально, в качестве метрики популярности статьи будем использовать долю статей за последний месяц, у которых количество звездочек меньше чем у текущей статьи. А точнее, доле числа звездочек можно поставить в соответствие квантили стандартного распределения, таким образом получаем числовую характеристику популярности статьи. Популярность статьи 0 означает, что статья получила ровно столько звездочек, сколько в среднем получают статьи. И соответственно чем больше звездочек получила статья по сравнению со средним, тем выше это число."
   ]
  },
  {
   "cell_type": "markdown",
   "metadata": {},
   "source": [
    "**Приступим:** импортируем необходимые библиотеки и скачаем данные"
   ]
  },
  {
   "cell_type": "code",
   "execution_count": 2,
   "metadata": {
    "collapsed": false
   },
   "outputs": [],
   "source": [
    "import pandas as pd\n",
    "\n",
    "from sklearn.feature_extraction.text import TfidfVectorizer\n",
    "from sklearn.feature_extraction import DictVectorizer\n",
    "\n",
    "#В зависимости от версии sklearn\n",
    "from sklearn.model_selection import train_test_split\n",
    "#from sklearn.cross_validation import train_test_split\n",
    "\n",
    "from sklearn.linear_model import Ridge\n",
    "from sklearn.metrics import mean_squared_error\n",
    "\n",
    "import numpy as np\n",
    "import scipy\n",
    "\n",
    "%matplotlib inline\n",
    "from matplotlib import pyplot as plt"
   ]
  },
  {
   "cell_type": "code",
   "execution_count": 3,
   "metadata": {
    "collapsed": false,
    "scrolled": true
   },
   "outputs": [],
   "source": [
    "train_df = pd.read_csv('../../data/howpop_train.csv')\n",
    "test_df  = pd.read_csv('../../data/howpop_test.csv')"
   ]
  },
  {
   "cell_type": "code",
   "execution_count": 5,
   "metadata": {
    "collapsed": false
   },
   "outputs": [
    {
     "data": {
      "text/html": [
       "<div>\n",
       "<table border=\"1\" class=\"dataframe\">\n",
       "  <thead>\n",
       "    <tr style=\"text-align: right;\">\n",
       "      <th></th>\n",
       "      <th>0</th>\n",
       "      <th>1</th>\n",
       "      <th>2</th>\n",
       "    </tr>\n",
       "  </thead>\n",
       "  <tbody>\n",
       "    <tr>\n",
       "      <th>url</th>\n",
       "      <td>https://habrahabr.ru/post/18284/</td>\n",
       "      <td>https://habrahabr.ru/post/18285/</td>\n",
       "      <td>https://habrahabr.ru/post/18286/</td>\n",
       "    </tr>\n",
       "    <tr>\n",
       "      <th>domain</th>\n",
       "      <td>habrahabr.ru</td>\n",
       "      <td>habrahabr.ru</td>\n",
       "      <td>habrahabr.ru</td>\n",
       "    </tr>\n",
       "    <tr>\n",
       "      <th>post_id</th>\n",
       "      <td>18284</td>\n",
       "      <td>18285</td>\n",
       "      <td>18286</td>\n",
       "    </tr>\n",
       "    <tr>\n",
       "      <th>published</th>\n",
       "      <td>2008-01-01 18:19:00</td>\n",
       "      <td>2008-01-01 18:30:00</td>\n",
       "      <td>2008-01-01 18:34:00</td>\n",
       "    </tr>\n",
       "    <tr>\n",
       "      <th>author</th>\n",
       "      <td>@Tapac</td>\n",
       "      <td>@DezmASter</td>\n",
       "      <td>@DezmASter</td>\n",
       "    </tr>\n",
       "    <tr>\n",
       "      <th>flow</th>\n",
       "      <td>develop</td>\n",
       "      <td>design</td>\n",
       "      <td>design</td>\n",
       "    </tr>\n",
       "    <tr>\n",
       "      <th>polling</th>\n",
       "      <td>False</td>\n",
       "      <td>False</td>\n",
       "      <td>False</td>\n",
       "    </tr>\n",
       "    <tr>\n",
       "      <th>content_len</th>\n",
       "      <td>4305</td>\n",
       "      <td>7344</td>\n",
       "      <td>8431</td>\n",
       "    </tr>\n",
       "    <tr>\n",
       "      <th>title</th>\n",
       "      <td>Новогодний подарок блоггерам — WordPress 2.3.2</td>\n",
       "      <td>Сумасшедшие яйца, или сервис для отслеживания ...</td>\n",
       "      <td>Сумасшедшие яйца, или сервис для отслеживания ...</td>\n",
       "    </tr>\n",
       "    <tr>\n",
       "      <th>comments</th>\n",
       "      <td>0</td>\n",
       "      <td>1</td>\n",
       "      <td>47</td>\n",
       "    </tr>\n",
       "    <tr>\n",
       "      <th>favs</th>\n",
       "      <td>0</td>\n",
       "      <td>1</td>\n",
       "      <td>72</td>\n",
       "    </tr>\n",
       "    <tr>\n",
       "      <th>views</th>\n",
       "      <td>236</td>\n",
       "      <td>353</td>\n",
       "      <td>1200</td>\n",
       "    </tr>\n",
       "    <tr>\n",
       "      <th>votes_plus</th>\n",
       "      <td>0</td>\n",
       "      <td>1</td>\n",
       "      <td>45</td>\n",
       "    </tr>\n",
       "    <tr>\n",
       "      <th>votes_minus</th>\n",
       "      <td>0</td>\n",
       "      <td>0</td>\n",
       "      <td>5</td>\n",
       "    </tr>\n",
       "    <tr>\n",
       "      <th>views_lognorm</th>\n",
       "      <td>-0.792687</td>\n",
       "      <td>-0.485214</td>\n",
       "      <td>0.44609</td>\n",
       "    </tr>\n",
       "    <tr>\n",
       "      <th>favs_lognorm</th>\n",
       "      <td>-1.34407</td>\n",
       "      <td>-0.831946</td>\n",
       "      <td>1.79402</td>\n",
       "    </tr>\n",
       "    <tr>\n",
       "      <th>comments_lognorm</th>\n",
       "      <td>-2.43687</td>\n",
       "      <td>-1.87319</td>\n",
       "      <td>0.574656</td>\n",
       "    </tr>\n",
       "  </tbody>\n",
       "</table>\n",
       "</div>"
      ],
      "text/plain": [
       "                                                               0  \\\n",
       "url                             https://habrahabr.ru/post/18284/   \n",
       "domain                                              habrahabr.ru   \n",
       "post_id                                                    18284   \n",
       "published                                    2008-01-01 18:19:00   \n",
       "author                                                    @Tapac   \n",
       "flow                                                     develop   \n",
       "polling                                                    False   \n",
       "content_len                                                 4305   \n",
       "title             Новогодний подарок блоггерам — WordPress 2.3.2   \n",
       "comments                                                       0   \n",
       "favs                                                           0   \n",
       "views                                                        236   \n",
       "votes_plus                                                     0   \n",
       "votes_minus                                                    0   \n",
       "views_lognorm                                          -0.792687   \n",
       "favs_lognorm                                            -1.34407   \n",
       "comments_lognorm                                        -2.43687   \n",
       "\n",
       "                                                                  1  \\\n",
       "url                                https://habrahabr.ru/post/18285/   \n",
       "domain                                                 habrahabr.ru   \n",
       "post_id                                                       18285   \n",
       "published                                       2008-01-01 18:30:00   \n",
       "author                                                   @DezmASter   \n",
       "flow                                                         design   \n",
       "polling                                                       False   \n",
       "content_len                                                    7344   \n",
       "title             Сумасшедшие яйца, или сервис для отслеживания ...   \n",
       "comments                                                          1   \n",
       "favs                                                              1   \n",
       "views                                                           353   \n",
       "votes_plus                                                        1   \n",
       "votes_minus                                                       0   \n",
       "views_lognorm                                             -0.485214   \n",
       "favs_lognorm                                              -0.831946   \n",
       "comments_lognorm                                           -1.87319   \n",
       "\n",
       "                                                                  2  \n",
       "url                                https://habrahabr.ru/post/18286/  \n",
       "domain                                                 habrahabr.ru  \n",
       "post_id                                                       18286  \n",
       "published                                       2008-01-01 18:34:00  \n",
       "author                                                   @DezmASter  \n",
       "flow                                                         design  \n",
       "polling                                                       False  \n",
       "content_len                                                    8431  \n",
       "title             Сумасшедшие яйца, или сервис для отслеживания ...  \n",
       "comments                                                         47  \n",
       "favs                                                             72  \n",
       "views                                                          1200  \n",
       "votes_plus                                                       45  \n",
       "votes_minus                                                       5  \n",
       "views_lognorm                                               0.44609  \n",
       "favs_lognorm                                                1.79402  \n",
       "comments_lognorm                                           0.574656  "
      ]
     },
     "execution_count": 5,
     "metadata": {},
     "output_type": "execute_result"
    }
   ],
   "source": [
    "train_df.head(3).T"
   ]
  },
  {
   "cell_type": "code",
   "execution_count": 6,
   "metadata": {
    "collapsed": false
   },
   "outputs": [
    {
     "data": {
      "text/plain": [
       "((134137, 17), (3990, 9))"
      ]
     },
     "execution_count": 6,
     "metadata": {},
     "output_type": "execute_result"
    }
   ],
   "source": [
    "train_df.shape, test_df.shape"
   ]
  },
  {
   "cell_type": "markdown",
   "metadata": {},
   "source": [
    "Убедимся, что данные отсортированы по признаку `published`"
   ]
  },
  {
   "cell_type": "code",
   "execution_count": 7,
   "metadata": {
    "collapsed": false
   },
   "outputs": [
    {
     "data": {
      "image/png": "[encoded data removed]",
      "text/plain": [
       "<matplotlib.figure.Figure at 0xd6c0e55da0>"
      ]
     },
     "metadata": {},
     "output_type": "display_data"
    }
   ],
   "source": [
    "train_df['published'].apply(lambda ts: pd.to_datetime(ts).value).plot();"
   ]
  },
  {
   "cell_type": "markdown",
   "metadata": {},
   "source": [
    "**Чтобы ответить на вопросы 1 и 2, можно использовать [pandas.DataFrame.corr()](http://pandas.pydata.org/pandas-docs/stable/generated/pandas.DataFrame.corr.html), [pandas.to_datetime()](http://pandas.pydata.org/pandas-docs/stable/generated/pandas.to_datetime.html) и [pandas.Series.value_counts()](http://pandas.pydata.org/pandas-docs/stable/generated/pandas.Series.value_counts.html)**"
   ]
  },
  {
   "cell_type": "markdown",
   "metadata": {},
   "source": [
    "<font color='red'>Вопрос 1.</font> Есть ли в train_df признаки, корреляция между которыми больше 0.9? Обратите внимание, именно различные признаки - корреляция признака с самим собой естественно больше 0.9 :)\n",
    "- да\n",
    "- нет +\n",
    "- не знаю"
   ]
  },
  {
   "cell_type": "code",
   "execution_count": 14,
   "metadata": {
    "collapsed": false
   },
   "outputs": [
    {
     "data": {
      "text/plain": [
       "comments_lognorm  comments_lognorm    1.000000\n",
       "favs_lognorm      favs_lognorm        1.000000\n",
       "polling           polling             1.000000\n",
       "content_len       content_len         1.000000\n",
       "comments          comments            1.000000\n",
       "favs              favs                1.000000\n",
       "votes_plus        votes_plus          1.000000\n",
       "votes_minus       votes_minus         1.000000\n",
       "views_lognorm     views_lognorm       1.000000\n",
       "views             views               1.000000\n",
       "post_id           post_id             1.000000\n",
       "views_lognorm     favs_lognorm        0.688811\n",
       "favs_lognorm      views_lognorm       0.688811\n",
       "comments          comments_lognorm    0.662740\n",
       "comments_lognorm  comments            0.662740\n",
       "views             favs                0.634304\n",
       "favs              views               0.634304\n",
       "votes_plus        comments            0.613961\n",
       "comments          votes_plus          0.613961\n",
       "favs_lognorm      favs                0.587982\n",
       "favs              favs_lognorm        0.587982\n",
       "views_lognorm     views               0.585105\n",
       "views             views_lognorm       0.585105\n",
       "comments_lognorm  views_lognorm       0.546530\n",
       "views_lognorm     comments_lognorm    0.546530\n",
       "comments_lognorm  votes_plus          0.525081\n",
       "votes_plus        comments_lognorm    0.525081\n",
       "favs_lognorm      comments_lognorm    0.479476\n",
       "comments_lognorm  favs_lognorm        0.479476\n",
       "votes_plus        votes_minus         0.464168\n",
       "                                        ...   \n",
       "votes_minus       polling             0.027116\n",
       "polling           votes_minus         0.027116\n",
       "                  views               0.025660\n",
       "views             polling             0.025660\n",
       "polling           favs                0.006882\n",
       "favs              polling             0.006882\n",
       "post_id           comments_lognorm   -0.001605\n",
       "comments_lognorm  post_id            -0.001605\n",
       "content_len       polling            -0.003337\n",
       "polling           content_len        -0.003337\n",
       "views_lognorm     polling            -0.003523\n",
       "polling           views_lognorm      -0.003523\n",
       "post_id           favs_lognorm       -0.005845\n",
       "favs_lognorm      post_id            -0.005845\n",
       "views_lognorm     post_id            -0.010376\n",
       "post_id           views_lognorm      -0.010376\n",
       "content_len       comments           -0.023544\n",
       "comments          content_len        -0.023544\n",
       "polling           votes_plus         -0.033505\n",
       "votes_plus        polling            -0.033505\n",
       "favs_lognorm      polling            -0.036385\n",
       "polling           favs_lognorm       -0.036385\n",
       "content_len       votes_minus        -0.078686\n",
       "votes_minus       content_len        -0.078686\n",
       "comments          post_id            -0.147763\n",
       "post_id           comments           -0.147763\n",
       "                  votes_plus         -0.187885\n",
       "votes_plus        post_id            -0.187885\n",
       "post_id           votes_minus        -0.235594\n",
       "votes_minus       post_id            -0.235594\n",
       "dtype: float64"
      ]
     },
     "execution_count": 14,
     "metadata": {},
     "output_type": "execute_result"
    }
   ],
   "source": [
    "#ваш код здесь\n",
    "train_df.corr().unstack().sort_values(inplace=False, ascending=False)"
   ]
  },
  {
   "cell_type": "markdown",
   "metadata": {},
   "source": [
    "<font color='red'>Вопрос 2.</font> В каком году было больше всего публикаций? (Рассматриваем train_df)\n",
    "- 2014\n",
    "- 2015 + \n",
    "- 2016\n",
    "- 2017"
   ]
  },
  {
   "cell_type": "code",
   "execution_count": 22,
   "metadata": {
    "collapsed": false
   },
   "outputs": [],
   "source": [
    "#ваш код здесь\n",
    "train_df['published'] = train_df['published'].apply(pd.to_datetime)"
   ]
  },
  {
   "cell_type": "code",
   "execution_count": 24,
   "metadata": {
    "collapsed": false
   },
   "outputs": [
    {
     "data": {
      "text/html": [
       "<div>\n",
       "<table border=\"1\" class=\"dataframe\">\n",
       "  <thead>\n",
       "    <tr style=\"text-align: right;\">\n",
       "      <th></th>\n",
       "      <th>post_id</th>\n",
       "      <th>published</th>\n",
       "      <th>published_year</th>\n",
       "    </tr>\n",
       "  </thead>\n",
       "  <tbody>\n",
       "    <tr>\n",
       "      <th>0</th>\n",
       "      <td>18284</td>\n",
       "      <td>2008-01-01 18:19:00</td>\n",
       "      <td>2008</td>\n",
       "    </tr>\n",
       "    <tr>\n",
       "      <th>1</th>\n",
       "      <td>18285</td>\n",
       "      <td>2008-01-01 18:30:00</td>\n",
       "      <td>2008</td>\n",
       "    </tr>\n",
       "    <tr>\n",
       "      <th>2</th>\n",
       "      <td>18286</td>\n",
       "      <td>2008-01-01 18:34:00</td>\n",
       "      <td>2008</td>\n",
       "    </tr>\n",
       "    <tr>\n",
       "      <th>3</th>\n",
       "      <td>18291</td>\n",
       "      <td>2008-01-02 01:32:00</td>\n",
       "      <td>2008</td>\n",
       "    </tr>\n",
       "    <tr>\n",
       "      <th>4</th>\n",
       "      <td>18294</td>\n",
       "      <td>2008-01-02 14:34:00</td>\n",
       "      <td>2008</td>\n",
       "    </tr>\n",
       "  </tbody>\n",
       "</table>\n",
       "</div>"
      ],
      "text/plain": [
       "   post_id           published  published_year\n",
       "0    18284 2008-01-01 18:19:00            2008\n",
       "1    18285 2008-01-01 18:30:00            2008\n",
       "2    18286 2008-01-01 18:34:00            2008\n",
       "3    18291 2008-01-02 01:32:00            2008\n",
       "4    18294 2008-01-02 14:34:00            2008"
      ]
     },
     "execution_count": 24,
     "metadata": {},
     "output_type": "execute_result"
    }
   ],
   "source": [
    "train_df['published_year'] = train_df['published'].apply(lambda x: x.year)\n",
    "train_df[['post_id', 'published', 'published_year']].head()"
   ]
  },
  {
   "cell_type": "code",
   "execution_count": 25,
   "metadata": {
    "collapsed": false
   },
   "outputs": [
    {
     "data": {
      "text/plain": [
       "published_year\n",
       "2008     7743\n",
       "2009    10783\n",
       "2010    13091\n",
       "2011    15063\n",
       "2012    15972\n",
       "2013    15537\n",
       "2014    16180\n",
       "2015    23452\n",
       "2016    16316\n",
       "Name: post_id, dtype: int64"
      ]
     },
     "execution_count": 25,
     "metadata": {},
     "output_type": "execute_result"
    }
   ],
   "source": [
    "posts_per_year = train_df.groupby('published_year')['post_id'].count()\n",
    "posts_per_year"
   ]
  },
  {
   "cell_type": "code",
   "execution_count": 30,
   "metadata": {
    "collapsed": false
   },
   "outputs": [
    {
     "data": {
      "text/plain": [
       "<matplotlib.axes._subplots.AxesSubplot at 0xd6c14f2dd8>"
      ]
     },
     "execution_count": 30,
     "metadata": {},
     "output_type": "execute_result"
    },
    {
     "data": {
      "image/png": "[encoded data removed]",
      "text/plain": [
       "<matplotlib.figure.Figure at 0xd6c14eab00>"
      ]
     },
     "metadata": {},
     "output_type": "display_data"
    }
   ],
   "source": [
    "posts_per_year.plot(kind='bar')"
   ]
  },
  {
   "cell_type": "code",
   "execution_count": 28,
   "metadata": {
    "collapsed": false
   },
   "outputs": [
    {
     "data": {
      "text/plain": [
       "<matplotlib.axes._subplots.AxesSubplot at 0xd6c805bba8>"
      ]
     },
     "execution_count": 28,
     "metadata": {},
     "output_type": "execute_result"
    },
    {
     "data": {
      "image/png": "[encoded data removed]",
      "text/plain": [
       "<matplotlib.figure.Figure at 0xd6c72136d8>"
      ]
     },
     "metadata": {},
     "output_type": "display_data"
    }
   ],
   "source": [
    "train_df['published_year'].value_counts().plot(kind='bar')"
   ]
  },
  {
   "cell_type": "markdown",
   "metadata": {},
   "source": [
    "## Разбиение на train/valid\n",
    "Используем только признаки 'author', 'flow', 'domain' и 'title'"
   ]
  },
  {
   "cell_type": "code",
   "execution_count": 31,
   "metadata": {
    "collapsed": true
   },
   "outputs": [],
   "source": [
    "features = ['author', 'flow', 'domain','title']\n",
    "train_size = int(0.7 * train_df.shape[0])"
   ]
  },
  {
   "cell_type": "code",
   "execution_count": 32,
   "metadata": {
    "collapsed": false
   },
   "outputs": [
    {
     "data": {
      "text/plain": [
       "(134137, 93895)"
      ]
     },
     "execution_count": 32,
     "metadata": {},
     "output_type": "execute_result"
    }
   ],
   "source": [
    "len(train_df),train_size"
   ]
  },
  {
   "cell_type": "code",
   "execution_count": 33,
   "metadata": {
    "collapsed": true
   },
   "outputs": [],
   "source": [
    "X, y = train_df.ix[:, features],  train_df['favs_lognorm'] #отделяем признаки от целевой переменной\n",
    "\n",
    "X_test = test_df.ix[:, features]"
   ]
  },
  {
   "cell_type": "code",
   "execution_count": 37,
   "metadata": {
    "collapsed": false
   },
   "outputs": [
    {
     "data": {
      "text/html": [
       "<div>\n",
       "<table border=\"1\" class=\"dataframe\">\n",
       "  <thead>\n",
       "    <tr style=\"text-align: right;\">\n",
       "      <th></th>\n",
       "      <th>author</th>\n",
       "      <th>flow</th>\n",
       "      <th>domain</th>\n",
       "      <th>title</th>\n",
       "    </tr>\n",
       "  </thead>\n",
       "  <tbody>\n",
       "    <tr>\n",
       "      <th>0</th>\n",
       "      <td>@Tapac</td>\n",
       "      <td>develop</td>\n",
       "      <td>habrahabr.ru</td>\n",
       "      <td>Новогодний подарок блоггерам — WordPress 2.3.2</td>\n",
       "    </tr>\n",
       "    <tr>\n",
       "      <th>1</th>\n",
       "      <td>@DezmASter</td>\n",
       "      <td>design</td>\n",
       "      <td>habrahabr.ru</td>\n",
       "      <td>Сумасшедшие яйца, или сервис для отслеживания ...</td>\n",
       "    </tr>\n",
       "    <tr>\n",
       "      <th>2</th>\n",
       "      <td>@DezmASter</td>\n",
       "      <td>design</td>\n",
       "      <td>habrahabr.ru</td>\n",
       "      <td>Сумасшедшие яйца, или сервис для отслеживания ...</td>\n",
       "    </tr>\n",
       "    <tr>\n",
       "      <th>3</th>\n",
       "      <td>@Taoorus</td>\n",
       "      <td>design</td>\n",
       "      <td>habrahabr.ru</td>\n",
       "      <td>Сглаживание шрифтов, и субпиксельная отрисовка</td>\n",
       "    </tr>\n",
       "    <tr>\n",
       "      <th>4</th>\n",
       "      <td>@dennydo</td>\n",
       "      <td>NaN</td>\n",
       "      <td>geektimes.ru</td>\n",
       "      <td>Почему мне не нравится iPhone</td>\n",
       "    </tr>\n",
       "  </tbody>\n",
       "</table>\n",
       "</div>"
      ],
      "text/plain": [
       "       author     flow        domain  \\\n",
       "0      @Tapac  develop  habrahabr.ru   \n",
       "1  @DezmASter   design  habrahabr.ru   \n",
       "2  @DezmASter   design  habrahabr.ru   \n",
       "3    @Taoorus   design  habrahabr.ru   \n",
       "4    @dennydo      NaN  geektimes.ru   \n",
       "\n",
       "                                               title  \n",
       "0     Новогодний подарок блоггерам — WordPress 2.3.2  \n",
       "1  Сумасшедшие яйца, или сервис для отслеживания ...  \n",
       "2  Сумасшедшие яйца, или сервис для отслеживания ...  \n",
       "3     Сглаживание шрифтов, и субпиксельная отрисовка  \n",
       "4                      Почему мне не нравится iPhone  "
      ]
     },
     "execution_count": 37,
     "metadata": {},
     "output_type": "execute_result"
    }
   ],
   "source": [
    "X.head()"
   ]
  },
  {
   "cell_type": "code",
   "execution_count": 38,
   "metadata": {
    "collapsed": false
   },
   "outputs": [
    {
     "data": {
      "text/plain": [
       "0   -1.344075\n",
       "1   -0.831946\n",
       "2    1.794023\n",
       "3    1.300050\n",
       "4    0.961094\n",
       "Name: favs_lognorm, dtype: float64"
      ]
     },
     "execution_count": 38,
     "metadata": {},
     "output_type": "execute_result"
    }
   ],
   "source": [
    "y.head()"
   ]
  },
  {
   "cell_type": "code",
   "execution_count": 39,
   "metadata": {
    "collapsed": false
   },
   "outputs": [],
   "source": [
    "X_train, X_valid = X.iloc[:train_size, :], X.iloc[train_size:,:]\n",
    "\n",
    "y_train, y_valid = y.iloc[:train_size], y.iloc[train_size:]"
   ]
  },
  {
   "cell_type": "markdown",
   "metadata": {},
   "source": [
    "## Применение TfidfVectorizer\n",
    "\n",
    "**TF-IDF** (от англ. TF — term frequency, IDF — inverse document frequency) — статистическая мера, используемая для оценки важности слова в контексте документа, являющегося частью коллекции документов или корпуса. Вес некоторого слова пропорционален количеству употребления этого слова в документе, и обратно пропорционален частоте употребления слова в других документах коллекции. [Подробнее в источнике](https://ru.wikipedia.org/wiki/TF-IDF)\n",
    "\n",
    "TfidfVectorizer преобразует тексты в матрицу TF-IDF признаков.\n",
    "\n",
    "**Основные параметры TfidfVectorizer в sklearn:**\n",
    "- **min_df** - при построении словаря слова, которые встречаются *реже*, чем указанное значение, игнорируются\n",
    "- **max_df** - при построении словаря слова, которые встречаются *чаще*, чем указанное значение, игнорируются\n",
    "- **analyzer** - определяет, строятся ли признаки по словам или по символам (буквам)\n",
    "- **ngram_range** - определяет, формируются ли признаки только из отдельных слов или из нескольких слов (в случае с analyzer='char' задает количество символов). Например, если указать analyzer='word' и ngram_range=(1,3),то признаки будут формироваться из отдельных слов, из пар слов и из троек слов.\n",
    "- **stop_words** - слова, которые игнорируются при построении матрицы\n",
    "\n",
    "Более подробно с параметрами можно ознакомиться в [документации](http://scikit-learn.org/stable/modules/generated/sklearn.feature_extraction.text.TfidfVectorizer.html)"
   ]
  },
  {
   "cell_type": "markdown",
   "metadata": {},
   "source": [
    "**Инициализируйте TfidfVectorizer с параметрами min_df=3, max_df=0.3 и ngram_range=(1, 3).<br />\n",
    "Примените метод fit_transform к X_train['title'] и метод transform к X_valid['title'] и X_test['title']**"
   ]
  },
  {
   "cell_type": "markdown",
   "metadata": {},
   "source": [
    "<font color='red'>Вопрос 3.</font> Какой размер у полученного словаря?\n",
    "- 43789\n",
    "- 50624 +\n",
    "- 93895\n",
    "- 74378"
   ]
  },
  {
   "cell_type": "code",
   "execution_count": 95,
   "metadata": {
    "collapsed": true
   },
   "outputs": [],
   "source": [
    "#ваш код здесь\n",
    "vectorizer_title = TfidfVectorizer(min_df=3, max_df=0.3, ngram_range=(1,3))\n",
    "\n",
    "X_train_title = vectorizer_title.fit_transform(X_train['title'])\n",
    "X_valid_title = vectorizer_title.transform(X_valid['title'])\n",
    "X_test_title = vectorizer_title.transform(X_test['title'])"
   ]
  },
  {
   "cell_type": "code",
   "execution_count": 96,
   "metadata": {
    "collapsed": false
   },
   "outputs": [
    {
     "data": {
      "text/plain": [
       "{'кластеризация': 24985,\n",
       " 'ec': 3762,\n",
       " 'расширение opera поиск': 40917,\n",
       " 'ispmanager': 6036,\n",
       " 'от бывших': 33727,\n",
       " 'будущее за': 14627,\n",
       " 'чего вам': 49107,\n",
       " 'миниатюрная': 28065,\n",
       " 'fennec': 4191,\n",
       " 'помощью linq': 37157,\n",
       " 'подала иск': 36241,\n",
       " 'тело': 45933,\n",
       " 'офисной': 34294,\n",
       " 'anonymous': 1624,\n",
       " 'использование xml': 23585,\n",
       " 'сохраняем': 44370,\n",
       " 'define': 3310,\n",
       " 'kanban': 6352,\n",
       " 'отвечать': 33882,\n",
       " 'для встраиваемых систем': 19176,\n",
       " 'зоне': 22024,\n",
       " 'ati radeon hd': 1970,\n",
       " 'количестве': 25249,\n",
       " 'киберсквоттеров': 24851,\n",
       " 'something': 10235,\n",
       " 'способами': 44576,\n",
       " 'нативной библиотеки': 30565,\n",
       " 'вкусного': 15887,\n",
       " '10 10': 72,\n",
       " 'причиной': 38822,\n",
       " 'визиток': 15707,\n",
       " 'сравнительный анализ': 44674,\n",
       " 'обзор acer': 32097,\n",
       " 'выпустил': 16949,\n",
       " 'клиентами для': 25018,\n",
       " 'неудачная': 31290,\n",
       " 'quals': 9154,\n",
       " 'для демонстрации': 19197,\n",
       " 'проекта как': 39319,\n",
       " 'блин': 14226,\n",
       " 'установят': 47584,\n",
       " 'жесткий диск': 20726,\n",
       " 'для шрифтов': 19713,\n",
       " 'private cloud': 8912,\n",
       " 'не используйте': 30824,\n",
       " 'доска': 20196,\n",
       " 'lollipop для': 6774,\n",
       " 'rails шаг': 9227,\n",
       " 'чип для': 49361,\n",
       " 'новую технологию': 31592,\n",
       " 'будучи': 14618,\n",
       " 'февраль 2014': 47944,\n",
       " 'новогоднее': 31492,\n",
       " 'дефис': 18531,\n",
       " 'стартаперы': 44923,\n",
       " 'баге': 13550,\n",
       " 'iot': 5915,\n",
       " 'дайджест simple': 17968,\n",
       " 'надстройки': 30262,\n",
       " 'будьте осторожны': 14648,\n",
       " 'building blocks': 2419,\n",
       " 'типичного': 46322,\n",
       " 'wordpress на': 12176,\n",
       " 'apple не смогла': 1771,\n",
       " 'авторскому': 12723,\n",
       " 'touchpad': 11076,\n",
       " 'проблемами': 38903,\n",
       " 'об аудиотехнике форматах': 32012,\n",
       " 'преобразования': 38182,\n",
       " 'не работают': 30892,\n",
       " 'прямой московский': 39865,\n",
       " 'открытой регистрации': 34056,\n",
       " 'приложений из': 38528,\n",
       " 'вы больше всего': 16677,\n",
       " 'конкурс': 25616,\n",
       " 'vertica': 11515,\n",
       " 'файрвол': 47900,\n",
       " 'подробностей про class': 36458,\n",
       " 'opera не': 8218,\n",
       " 'гаджетах': 17238,\n",
       " 'завод по производству': 21150,\n",
       " 'за вами': 20921,\n",
       " 'закупок': 21386,\n",
       " 'законопроектов': 21339,\n",
       " 'key value': 6381,\n",
       " 'litecoin': 6725,\n",
       " 'типограф для': 46330,\n",
       " 'базу данных': 13613,\n",
       " 'телевизоре': 45861,\n",
       " 'на кончиках пальцев': 29657,\n",
       " 'думает': 20401,\n",
       " 'тендер на': 45979,\n",
       " 'временных': 16350,\n",
       " 'аватаров': 12553,\n",
       " 'данных google': 18043,\n",
       " 'морской бой': 28693,\n",
       " 'acer iconia': 1243,\n",
       " 'за два дня': 20939,\n",
       " 'что бывает': 49458,\n",
       " 'util concurrent': 11433,\n",
       " 'j2me': 6110,\n",
       " 'тестерам': 46113,\n",
       " 'моё': 28767,\n",
       " 'прием заявок': 38397,\n",
       " 'миллиона': 28020,\n",
       " 'рубли': 41761,\n",
       " 'маркетинговые': 27393,\n",
       " 'автоматизация управления': 12607,\n",
       " 'одного электровелосипеда своими': 32907,\n",
       " 'wikimedia foundation': 11954,\n",
       " 'кто': 26433,\n",
       " 'без их': 13760,\n",
       " 'закачек': 21303,\n",
       " 'сборка проекта': 42210,\n",
       " 'интриги расследования': 23413,\n",
       " 'realtime на': 9318,\n",
       " 'бы вам': 14685,\n",
       " 'ссылки на': 44749,\n",
       " 'keys': 6389,\n",
       " 'отправку': 34198,\n",
       " 'вышла третья': 17211,\n",
       " 'открытые данные': 34067,\n",
       " 'ny times': 7989,\n",
       " 'launcher для': 6512,\n",
       " 'so cl': 10187,\n",
       " 'azure services': 2049,\n",
       " 'шуточный конкурс': 49903,\n",
       " 'тексте': 45817,\n",
       " 'fi по': 4203,\n",
       " 'джефф': 18571,\n",
       " 'строка на службе': 45321,\n",
       " 'спецслужбам': 44504,\n",
       " 'браузера google chrome': 14497,\n",
       " '000 на kickstarter': 14,\n",
       " 'libreoffice': 6603,\n",
       " 'апрельские': 13292,\n",
       " 'it за последнюю': 6048,\n",
       " 'mini на': 7275,\n",
       " 'screen': 9807,\n",
       " 'infinite': 5711,\n",
       " 'надоели': 30261,\n",
       " 'обзор': 32095,\n",
       " 'наука дайджест опытов': 30576,\n",
       " 'автоматическая генерация': 12620,\n",
       " 'intersystems global': 5848,\n",
       " 'системы it мониторинга': 43178,\n",
       " 'microsoft adobe выпустили': 7149,\n",
       " 'imaging sdk': 5655,\n",
       " 'разработки': 40543,\n",
       " 'матчей': 27580,\n",
       " 'mysql performance': 7603,\n",
       " 'итоги года': 23841,\n",
       " 'критические': 26320,\n",
       " 'клавиатуры mac os': 24942,\n",
       " 'как найти': 24173,\n",
       " 'популярных игр': 37276,\n",
       " 'планшет на windows': 35438,\n",
       " '2009 года': 552,\n",
       " 'flex sdk': 4332,\n",
       " 'jquery плагин для': 6280,\n",
       " 'итоги конференции': 23846,\n",
       " 'смех': 43635,\n",
       " 'дайджест опытов': 17988,\n",
       " 'брайля': 14474,\n",
       " 'очень быстрый': 34386,\n",
       " 'hiring': 5318,\n",
       " 'новостей платформы': 31556,\n",
       " 'кто умнее': 26461,\n",
       " 'россия на': 41707,\n",
       " '701': 1116,\n",
       " 'правами': 37809,\n",
       " 'rule': 9608,\n",
       " 'multiple': 7539,\n",
       " 'временное': 16348,\n",
       " 'jolla': 6251,\n",
       " 'победить': 36043,\n",
       " 'ванне': 14876,\n",
       " 'kit на': 6423,\n",
       " 'веб камеры': 15046,\n",
       " 'property': 8969,\n",
       " 'или не быть': 22768,\n",
       " 'утечками': 47649,\n",
       " 'n810': 7619,\n",
       " 'http ddos': 5451,\n",
       " 'нарушении патентов': 30465,\n",
       " 'игрового рынка китае': 22119,\n",
       " 'icon': 5544,\n",
       " '265': 794,\n",
       " 'для изучающих английский': 19244,\n",
       " 'мм': 28228,\n",
       " 'для женщин': 19221,\n",
       " 'отдадут': 33888,\n",
       " 'четырех': 49347,\n",
       " 'расставляем точки над': 40861,\n",
       " 'проектирования': 39358,\n",
       " 'parted': 8430,\n",
       " 'вести': 15393,\n",
       " 'lua': 6803,\n",
       " 'дополненная': 20153,\n",
       " 'для windows phone': 19062,\n",
       " 'бинарный': 14149,\n",
       " 'evaluation': 3994,\n",
       " 'server 2012 часть': 9917,\n",
       " 'расширений для': 40937,\n",
       " 'eee pc': 3797,\n",
       " 'видео intel': 15528,\n",
       " 'веб разработку': 15075,\n",
       " 'неделя': 31018,\n",
       " 'конвертация': 25576,\n",
       " 'cve 2013': 3173,\n",
       " 'стабильность': 44764,\n",
       " 'для приложений': 19472,\n",
       " 'spm': 10329,\n",
       " 'осенние': 33462,\n",
       " 'сделать хороший': 42509,\n",
       " 'поставил': 37479,\n",
       " 'фиксим': 48002,\n",
       " 'modx': 7371,\n",
       " 'новостей платформы windows': 31557,\n",
       " 'встрече apple': 16560,\n",
       " 'чему готовиться разработчикам': 49225,\n",
       " 'веб страниц': 15112,\n",
       " 'вашем приложении': 14953,\n",
       " 'необычное': 31163,\n",
       " 'туториалов по': 46805,\n",
       " 'привёл': 38345,\n",
       " 'выгодно': 16803,\n",
       " 'возможностями': 16131,\n",
       " 'определение местоположения': 33208,\n",
       " '10000': 190,\n",
       " 'ios developer': 5883,\n",
       " 'печати': 35144,\n",
       " 'соревнование': 44262,\n",
       " 'морозу': 28690,\n",
       " 'складываем': 43276,\n",
       " 'цветовые профили': 48792,\n",
       " 'для веб дизайна': 19138,\n",
       " '3d принтер': 950,\n",
       " 'android sdk': 1527,\n",
       " 'начинается': 30685,\n",
       " 'прямой трансляции': 39867,\n",
       " 'жарко': 20660,\n",
       " 'работать по': 40097,\n",
       " 'lego nxt': 6546,\n",
       " 'активность': 12911,\n",
       " 'перевод английского главы': 34869,\n",
       " 'беларусь': 13867,\n",
       " 'studio xe7': 10586,\n",
       " 'jabber сервера': 6116,\n",
       " 'троллинг': 46732,\n",
       " '10 причин': 144,\n",
       " 'разработчика выпуск': 40593,\n",
       " 'доступна': 20272,\n",
       " 'по поиску': 35888,\n",
       " 'индийский': 22998,\n",
       " 'метрика виджеты': 27909,\n",
       " 'веб студий россии': 15120,\n",
       " '100 000': 167,\n",
       " 'нового kindle': 31480,\n",
       " 'ежеденельная подборка новостей': 20534,\n",
       " 'wolfram alpha': 12167,\n",
       " 'для онлайн': 19402,\n",
       " 'уменьшение': 47204,\n",
       " 'многоядерность': 28284,\n",
       " 'самого начала': 42055,\n",
       " 'тау': 45747,\n",
       " 'cyanogen': 3177,\n",
       " 'по косточкам': 35828,\n",
       " 'museum': 7547,\n",
       " 'руках': 41776,\n",
       " 'почувствовать себя': 37746,\n",
       " 'помощью iphone ipad': 37152,\n",
       " 'вмс сша': 15935,\n",
       " 'стимпанк': 45121,\n",
       " 'см': 43569,\n",
       " 'способны': 44585,\n",
       " 'включаем': 15849,\n",
       " 'чистоты': 49402,\n",
       " 'wcf': 11753,\n",
       " 'прокрутки': 39481,\n",
       " 'на moscow': 29242,\n",
       " 'пользователей twitter': 36993,\n",
       " 'презентации samsung': 38125,\n",
       " 'обязал': 32777,\n",
       " 'мосфильм': 28729,\n",
       " 'очередное обновление': 34399,\n",
       " 'новая волна': 31409,\n",
       " 'статус': 45012,\n",
       " 'приложения часть': 38596,\n",
       " 'посты': 37559,\n",
       " 'lance ru': 6485,\n",
       " 'доведет': 19885,\n",
       " 'divx': 3528,\n",
       " 'open source': 8126,\n",
       " 'простых': 39644,\n",
       " 'разделения прав': 40372,\n",
       " '15 перевод': 363,\n",
       " 'интернете как': 23354,\n",
       " 'никак не': 31337,\n",
       " 'издателям': 22524,\n",
       " 'методом монте': 27893,\n",
       " 'погода': 36132,\n",
       " 'правильно': 37837,\n",
       " 'полезная': 36789,\n",
       " 'формулы': 48197,\n",
       " 'любят': 27196,\n",
       " 'института': 23104,\n",
       " 'стресс тест': 45286,\n",
       " 'на карте мира': 29622,\n",
       " 'путём': 39975,\n",
       " 'старт': 44876,\n",
       " '15 июля': 353,\n",
       " 'игорем белкиным': 22061,\n",
       " 'полный экран': 36901,\n",
       " 'гаджета': 17236,\n",
       " 'через google play': 49244,\n",
       " 'на полный экран': 29832,\n",
       " 'nintendo 3ds': 7841,\n",
       " 'систему защиты от': 43168,\n",
       " 'здания': 21860,\n",
       " 'публикаций': 39899,\n",
       " 'ученым': 47733,\n",
       " 'за доступ': 20951,\n",
       " 'часть': 49010,\n",
       " 'приручаем': 38772,\n",
       " '100 ведущих студий': 174,\n",
       " 'нежно': 31042,\n",
       " 'coded ui': 2825,\n",
       " 'google показал': 4986,\n",
       " 'для навигации': 19340,\n",
       " 'нагрузочного': 30222,\n",
       " 'фестиваль 404 состоится': 47975,\n",
       " 'купер': 26497,\n",
       " 'конкурента': 25604,\n",
       " 'можете': 28560,\n",
       " 'приложения ms': 38565,\n",
       " 'на мобильные устройства': 29719,\n",
       " 'сетевой': 42900,\n",
       " 'как приручить облака': 24312,\n",
       " 'nasa собирается': 7656,\n",
       " 'политикам': 36851,\n",
       " 'новичков': 31466,\n",
       " 'планшета acer iconia': 35443,\n",
       " 'управляющие': 47411,\n",
       " 'сборе': 42201,\n",
       " 'мгновенный поиск': 27640,\n",
       " 'контента из': 25757,\n",
       " 'вход': 16653,\n",
       " 'поверхности': 36074,\n",
       " 'для увеличения': 19657,\n",
       " 'openwrt на': 8173,\n",
       " 'интеграция 1с': 23146,\n",
       " 'свойство': 42410,\n",
       " 'из углеродных нанотрубок': 22466,\n",
       " 'кухне': 26558,\n",
       " 'состоит': 44300,\n",
       " 'умрет': 47261,\n",
       " 'geeksphone peak': 4649,\n",
       " 'стажировки': 44786,\n",
       " 'хостеров': 48641,\n",
       " 'отлаживать': 34114,\n",
       " 'обзор коммуникатора': 32186,\n",
       " 'top': 11041,\n",
       " 'обновление': 32413,\n",
       " 'after': 1346,\n",
       " 'соискателя': 44167,\n",
       " 'сенсорными дисплеями': 42655,\n",
       " 'матрица часть': 27572,\n",
       " 'option': 8241,\n",
       " 'разработка игры': 40488,\n",
       " 'ответит': 33855,\n",
       " 'стив балмер': 45084,\n",
       " 'раздела': 40368,\n",
       " 'sun java': 10627,\n",
       " 'крупных проектов': 26419,\n",
       " 'rapid': 9246,\n",
       " 'pimp': 8696,\n",
       " 'конкурса': 25653,\n",
       " 'социального графа': 44392,\n",
       " 'процесса разработки': 39760,\n",
       " 'предложение для': 37990,\n",
       " 'сборку': 42216,\n",
       " 'transcoder': 11116,\n",
       " 'от google play': 33653,\n",
       " 'средней полосе': 44694,\n",
       " 'во фрилансе': 16042,\n",
       " 'хакатона опыт': 48471,\n",
       " 'шагомер': 49708,\n",
       " 'cve': 3171,\n",
       " 'сглаживание шрифтов': 42461,\n",
       " 'кафе': 24744,\n",
       " 'dell vrtx': 3332,\n",
       " 'который нужно': 26150,\n",
       " 'роскомнадзора': 41645,\n",
       " 'codeforces': 2827,\n",
       " 'интересам': 23220,\n",
       " 'сообщений для': 44228,\n",
       " 'как учат': 24448,\n",
       " 'сенсоры': 42660,\n",
       " 'прилагается': 38453,\n",
       " 'атака': 13436,\n",
       " 'при помощи apache': 38253,\n",
       " 'detected': 3374,\n",
       " 'разве': 40295,\n",
       " 'мюнхена': 28960,\n",
       " 'красивые': 26192,\n",
       " 'цифрового': 48902,\n",
       " 'адаптивной верстки': 12764,\n",
       " 'на первом': 29803,\n",
       " 'раздача': 40358,\n",
       " 'tier iii': 10938,\n",
       " 'виртуальный сервер': 15801,\n",
       " 'проекта часть': 39327,\n",
       " 'новейший': 31451,\n",
       " 'богатых': 14301,\n",
       " 'ушли на': 47799,\n",
       " 'падает': 34459,\n",
       " 'профессионалы': 39716,\n",
       " 'wi fi сетей': 11926,\n",
       " 'boot to': 2342,\n",
       " 'готовится запуску': 17772,\n",
       " 'com ua kiev': 2858,\n",
       " 'dram': 3643,\n",
       " 'фреймворка для': 48305,\n",
       " 'оборот моей': 32499,\n",
       " 'продвижение приложений': 39219,\n",
       " 'очереди': 34394,\n",
       " 'asus transformer book': 1953,\n",
       " 'для браузера': 19119,\n",
       " 'распространенных': 40828,\n",
       " 'по expression': 35682,\n",
       " 'правильно делать': 37838,\n",
       " 'evernote dev': 4004,\n",
       " 'такую': 45722,\n",
       " 'мск': 28773,\n",
       " 'мы не': 28887,\n",
       " 'python на': 9082,\n",
       " 'сетевого нейтралитета': 42892,\n",
       " 'диссертации': 18774,\n",
       " 'на qml': 29311,\n",
       " 'бесплатные лицензии': 13952,\n",
       " 'отечественных': 33926,\n",
       " 'сервер на debian': 42687,\n",
       " 'приемником': 38405,\n",
       " 'книг': 25080,\n",
       " 'протокол spdy': 39689,\n",
       " 'отряд': 34220,\n",
       " 'iconia': 5550,\n",
       " 'unmetered': 11359,\n",
       " 'чем их': 49180,\n",
       " 'swipe': 10664,\n",
       " 'coworking': 3041,\n",
       " 'финансовый': 48072,\n",
       " 'php использованием': 8626,\n",
       " 'подали': 36245,\n",
       " 'orm для': 8289,\n",
       " 'iphone проблемы': 5981,\n",
       " 'новое решение': 31521,\n",
       " 'обновление прошивки': 32441,\n",
       " 'начать жить': 30672,\n",
       " 'macos 10': 6883,\n",
       " 'js webgl': 6299,\n",
       " 'занял первое': 21455,\n",
       " 'равновесие': 40218,\n",
       " 'попробовал': 37249,\n",
       " 'эффективных': 50369,\n",
       " 'для медиа': 19314,\n",
       " 'свои руки': 42349,\n",
       " 'парка': 34588,\n",
       " 'что думают яндексе': 49499,\n",
       " 'способна': 44580,\n",
       " 'шифруем': 49768,\n",
       " 'появлении': 37782,\n",
       " 'учебного': 47716,\n",
       " 'ваше мнение': 14925,\n",
       " 'со скоростью': 43760,\n",
       " 'выпуск виктором зуевым': 16928,\n",
       " 'веб аналитика анализируй': 15025,\n",
       " 'внутренние': 15994,\n",
       " 'mango': 6942,\n",
       " 'холодильника': 48596,\n",
       " 'торрентах': 46512,\n",
       " 'элт': 50171,\n",
       " 'циклами': 48888,\n",
       " 'на подходе': 29829,\n",
       " 'киберпанк': 24846,\n",
       " 'exif': 4044,\n",
       " 'кое что данных': 25236,\n",
       " 'спикеры': 44513,\n",
       " 'для silverlight': 19026,\n",
       " 'робота камерой часть': 41569,\n",
       " 'смотрите на': 43660,\n",
       " 'от экс': 33831,\n",
       " 'google возможно': 4924,\n",
       " 'ли код': 26804,\n",
       " 'для удаленного обучения': 19661,\n",
       " 'опыт установки': 33352,\n",
       " 'поле формы': 36784,\n",
       " 'дню программиста': 19760,\n",
       " 'платными': 35529,\n",
       " 'ibox': 5523,\n",
       " 'укрощение': 47142,\n",
       " 'антидизайн': 13244,\n",
       " 'ice cream sandwich': 5537,\n",
       " 'составили': 44287,\n",
       " 'или установка': 22859,\n",
       " 'day на': 3240,\n",
       " 'путешествия во': 39952,\n",
       " 'seagate': 9841,\n",
       " 'смп on банк': 43668,\n",
       " 'объявлены цены': 32741,\n",
       " 'на игровой': 29599,\n",
       " 'на этапе написания': 30121,\n",
       " 'джеймса бонда': 18565,\n",
       " 'meridian': 7114,\n",
       " 'на двух': 29552,\n",
       " 'мобильная версия': 28305,\n",
       " 'обновлять': 32477,\n",
       " 'сотового': 44318,\n",
       " 'новая форма': 31444,\n",
       " 'сделаем': 42474,\n",
       " 'планировщика': 35413,\n",
       " 'на мобильный': 29720,\n",
       " 'мой первый': 28611,\n",
       " 'бизнес для': 14083,\n",
       " 'bar': 2109,\n",
       " 'ieee 802': 5605,\n",
       " 'macbook': 6870,\n",
       " '22 23': 704,\n",
       " 'pdc': 8483,\n",
       " 'новые продукты': 31634,\n",
       " '550': 1056,\n",
       " '201': 555,\n",
       " 'citrix': 2703,\n",
       " 'автоматизация работы': 12601,\n",
       " 'часть обзор': 49045,\n",
       " 'зеркалирование': 21890,\n",
       " 'доступ интернет': 20235,\n",
       " 'файловое хранилище': 47873,\n",
       " 'технологии': 46248,\n",
       " '16 июня': 392,\n",
       " 'для 3d печати': 18814,\n",
       " 'мебель': 27649,\n",
       " 'worklite': 12186,\n",
       " 'навигатор': 30176,\n",
       " 'создание простейшего': 44082,\n",
       " 'админы': 12798,\n",
       " 'максимума': 27302,\n",
       " '108': 207,\n",
       " 'система контроля': 43104,\n",
       " 'тест производительности': 46104,\n",
       " 'dell latitude': 3325,\n",
       " 'запускаем': 21574,\n",
       " 'уменьшить вероятность': 47207,\n",
       " 'строковые': 45327,\n",
       " 'cs6': 3094,\n",
       " 'google удалил': 5026,\n",
       " 'миллионов раз': 28039,\n",
       " 'smm': 10161,\n",
       " 'товарный': 46378,\n",
       " 'платежный': 35506,\n",
       " 'precise': 8883,\n",
       " 'counter strike': 3032,\n",
       " 'звонок деду': 21837,\n",
       " 'head up': 5248,\n",
       " 'хорошо забытое старое': 48630,\n",
       " 'летающего робота': 26737,\n",
       " 'другие плюшки': 20354,\n",
       " 'ubuntu 10 04': 11231,\n",
       " 'на honeycomb': 29167,\n",
       " 'верстальщика': 15350,\n",
       " 'функций': 48357,\n",
       " 'vita': 11605,\n",
       " 'server compact': 9923,\n",
       " 'финансов за': 48063,\n",
       " 'регулярные выражения': 41120,\n",
       " 'tesla motors': 10833,\n",
       " 'краш': 26245,\n",
       " 'слепым': 43447,\n",
       " 'sql инъекции': 10376,\n",
       " 'standards': 10436,\n",
       " 'другого': 20362,\n",
       " 'student camp': 10563,\n",
       " 'wow': 12202,\n",
       " 'ноутбуков': 31899,\n",
       " 'сеть утекла': 42966,\n",
       " 'goto': 5044,\n",
       " 'weblogic server': 11855,\n",
       " 'универсальный': 47280,\n",
       " 'конкурса стартапов': 25664,\n",
       " 'возможность покупки': 16127,\n",
       " 'между дата центрами': 27699,\n",
       " 'marvel': 6990,\n",
       " 'конвертирование': 25580,\n",
       " 'для своих': 19573,\n",
       " 'презентует': 38139,\n",
       " 'рефакторинга': 41411,\n",
       " 'опыт применения': 33343,\n",
       " 'офис киеве': 34278,\n",
       " 'взрослых': 15501,\n",
       " 'tds': 10769,\n",
       " 'шанс': 49710,\n",
       " 'android на борту': 1555,\n",
       " 'осени': 33459,\n",
       " 'scroll': 9811,\n",
       " 'запаха': 21477,\n",
       " '01': 24,\n",
       " 'ричард столлман': 41534,\n",
       " 'по технологии': 35986,\n",
       " 'javascript jquery': 6188,\n",
       " '86рк на': 1157,\n",
       " 'телефонные': 45917,\n",
       " 'nyse': 7990,\n",
       " 'разрезание на': 40648,\n",
       " 'chrome hackathon contest': 2639,\n",
       " 'президент google': 38141,\n",
       " 'на всех': 29516,\n",
       " 'форматах': 48174,\n",
       " 'пороге дополненной реальности': 37300,\n",
       " 'уже скоро': 47074,\n",
       " 'потратил': 37604,\n",
       " 'для windows на': 19068,\n",
       " 'full hd экраном': 4534,\n",
       " 'распределённая': 40808,\n",
       " 'августа сентября': 12562,\n",
       " 'как яндекс': 24475,\n",
       " 'matrix': 7015,\n",
       " 'открываем регистрацию': 33988,\n",
       " 'stm32f4': 10507,\n",
       " 'градусов': 17803,\n",
       " 'распределенные': 40802,\n",
       " 'помнить': 37078,\n",
       " 'лучше': 27094,\n",
       " 'планировать': 35410,\n",
       " 'devcon 11': 3390,\n",
       " 'складной': 43274,\n",
       " 'военная': 16072,\n",
       " 'надейтесь': 30251,\n",
       " 'установленных': 47580,\n",
       " 'подсетей': 36489,\n",
       " 'для владельцев сайтов': 19162,\n",
       " 'интернет банка': 23278,\n",
       " 'сенсорной': 42645,\n",
       " 'большая': 14345,\n",
       " 'так ли он': 45683,\n",
       " 'ласточка': 26634,\n",
       " 'нести': 31261,\n",
       " 'разделения прав доступа': 40373,\n",
       " 'os snow leopard': 8308,\n",
       " 'дед': 18263,\n",
       " 'переходим': 35026,\n",
       " 'микросхему': 27994,\n",
       " 'стипендии': 45123,\n",
       " 'хочешь сделать': 48701,\n",
       " 'как она есть': 24229,\n",
       " 'шоу': 49837,\n",
       " 'появления': 37783,\n",
       " 'expression studio': 4073,\n",
       " 'зарубежные': 21659,\n",
       " 'вышел bundle transformer': 17137,\n",
       " 'выиграли': 16861,\n",
       " 'бла бла': 14202,\n",
       " 'всем пользователям': 16445,\n",
       " 'html5 css3': 5431,\n",
       " 'timelapse видео': 10951,\n",
       " 'день на': 18419,\n",
       " 'предоставит': 38012,\n",
       " 'как устроено': 24442,\n",
       " 'перспективная': 35093,\n",
       " 'снятия': 43733,\n",
       " 'entity framework code': 3914,\n",
       " 'для россии': 19548,\n",
       " 'секция': 42591,\n",
       " 'comstar': 2934,\n",
       " 'блокирующие': 14282,\n",
       " 'revolution': 9429,\n",
       " 'для metastock': 18953,\n",
       " 're как': 9289,\n",
       " 'продвигает': 39213,\n",
       " 'гладить': 17513,\n",
       " 'равные': 40219,\n",
       " 'mobilefest': 7345,\n",
       " 'шлюзе': 49823,\n",
       " 'уволился': 46918,\n",
       " 'для серверов hp': 19581,\n",
       " 'по данным': 35775,\n",
       " 'летнюю школу': 26759,\n",
       " 'как сми': 24370,\n",
       " 'ses': 9946,\n",
       " 'контактные': 25721,\n",
       " 'ах': 13530,\n",
       " 'бизнес': 14074,\n",
       " 'как насчет': 24183,\n",
       " 'при поиске': 38248,\n",
       " 'боролся': 14427,\n",
       " 'codeigniter': 2828,\n",
       " 'движок часть': 18198,\n",
       " 'ruward': 9646,\n",
       " 'пишем клиент': 35295,\n",
       " 'sms спама': 10171,\n",
       " 'продлевает': 39239,\n",
       " 'семи': 42616,\n",
       " 'ужасно интересных': 47048,\n",
       " 'названы': 30284,\n",
       " 'управления версиями': 47365,\n",
       " 'гигантские': 17435,\n",
       " 'бизнес план': 14098,\n",
       " 'штаб': 49868,\n",
       " 'на nas': 29258,\n",
       " 'по маркетингу': 35833,\n",
       " 'wi fi': 11920,\n",
       " 'сотрудничать': 44344,\n",
       " 'шлюз на': 49821,\n",
       " 'что происходит': 49581,\n",
       " 'вышел rust': 17159,\n",
       " 'банит': 13652,\n",
       " 'оцениваете': 34361,\n",
       " 'новостей игровой индустрии': 31548,\n",
       " 'что из': 49520,\n",
       " 'для написания': 19343,\n",
       " 'семинар api': 42618,\n",
       " 'workbench': 12180,\n",
       " 'eee': 3792,\n",
       " 'gradle': 5069,\n",
       " 'редактирование': 41128,\n",
       " 'extend': 4083,\n",
       " 'япония': 50589,\n",
       " 'phpstorm': 8664,\n",
       " 'программируем графику': 39089,\n",
       " 'корпоративный': 26014,\n",
       " 'на dingoo a320': 29102,\n",
       " 'влюбляемся доза': 15926,\n",
       " 'уголовное дело': 46936,\n",
       " 'канобувости выпуск': 24600,\n",
       " 'тренируем': 46681,\n",
       " 'нелицензионное': 31116,\n",
       " 'для веб': 19137,\n",
       " 'gcd': 4625,\n",
       " 'защищают': 21782,\n",
       " 'wallet': 11722,\n",
       " 'мебели': 27648,\n",
       " 'системе защиты': 43134,\n",
       " 'предположения': 38023,\n",
       " 'конференции tech': 25831,\n",
       " 'wds': 11763,\n",
       " 'симулятор': 43031,\n",
       " 'неттопа': 31285,\n",
       " 'ip sla': 5919,\n",
       " 'мобильный wimax': 28370,\n",
       " 'новый набор': 31718,\n",
       " 'вышла opera': 17190,\n",
       " 'ваше': 14920,\n",
       " 'используете почему': 23651,\n",
       " 'часть не': 49044,\n",
       " 'мы': 28853,\n",
       " 'пароля': 34613,\n",
       " 'орбите': 33370,\n",
       " 'розничной': 41619,\n",
       " 'andreas': 1502,\n",
       " 'maps для': 6964,\n",
       " 'для arduino': 18839,\n",
       " 'артефактов': 13339,\n",
       " 'подведены итоги': 36293,\n",
       " 'приёмник': 38846,\n",
       " 'для крупного': 19287,\n",
       " 'границу': 17819,\n",
       " 'сайт как': 41956,\n",
       " 'справедливости': 44603,\n",
       " 'rma': 9461,\n",
       " 'многокритериальный выбор альтернатив': 28261,\n",
       " 'тут': 46801,\n",
       " 'gamm kyiv': 4605,\n",
       " 'пользовательский интерфейс': 37018,\n",
       " 'смогла': 43645,\n",
       " 'на серверах': 29986,\n",
       " 'затраты': 21701,\n",
       " 'финал imagine': 48037,\n",
       " 'транзакции': 46561,\n",
       " 'habrahabr': 5156,\n",
       " 'всемирный': 16450,\n",
       " 'внести': 15963,\n",
       " 'интеллектуальной': 23174,\n",
       " 'стартапу': 44935,\n",
       " 'из космоса': 22378,\n",
       " 'cуд': 3190,\n",
       " 'лечить': 26772,\n",
       " 'зонт': 22029,\n",
       " 'звоним': 21827,\n",
       " 'клиентов на': 25024,\n",
       " 'коллайдер своими глазами': 25257,\n",
       " 'локальных': 27062,\n",
       " 'тестированию': 46156,\n",
       " 'было бы': 14718,\n",
       " 'добавила': 19837,\n",
       " 'microsoft выпустила программу': 7206,\n",
       " 'сотрудникам': 44336,\n",
       " 'серверов из': 42735,\n",
       " 'существующих': 45517,\n",
       " 'toolbar для firefox': 11031,\n",
       " 'открытых данных': 34082,\n",
       " 'вывести из': 16784,\n",
       " 'методы распознавания': 27904,\n",
       " 'theora': 10895,\n",
       " 'роботах': 41573,\n",
       " 'создание языка': 44101,\n",
       " 'сделать прибыльной разработку': 42503,\n",
       " 'новые возможности часть': 31607,\n",
       " 'клип': 25047,\n",
       " 'встреча московских': 16536,\n",
       " 'университете': 47289,\n",
       " 'parallels plesk': 8415,\n",
       " 'освоить': 33458,\n",
       " 'средствами net': 44715,\n",
       " 'al': 1394,\n",
       " 'блоггера': 14240,\n",
       " 'мира мобильных': 28139,\n",
       " 'хлопот': 48565,\n",
       " 'думай': 20404,\n",
       " 'php программиста': 8638,\n",
       " 'программа для': 39009,\n",
       " 'дизайна сайта': 18655,\n",
       " 'об облаках': 32031,\n",
       " 'нельзя': 31118,\n",
       " 'системный администратор': 43151,\n",
       " 'образования': 32550,\n",
       " 'тайны': 45670,\n",
       " 'web access': 11772,\n",
       " 'проведение': 38940,\n",
       " 'песочнице': 35112,\n",
       " 'документах': 19955,\n",
       " 'птички': 39896,\n",
       " 'биовычисления по': 14153,\n",
       " 'афишей': 13524,\n",
       " 'лос': 27074,\n",
       " 'для ios приложения': 18914,\n",
       " 'на риф киб': 29930,\n",
       " 'case': 2519,\n",
       " '3dmark': 963,\n",
       " 'спор': 44540,\n",
       " 'главных трендов': 17509,\n",
       " 'делаем свой': 18321,\n",
       " 'idcee 2012': 5571,\n",
       " 'фрагментацию': 48277,\n",
       " 'стив джобс на': 45088,\n",
       " 'возможных': 16139,\n",
       " 'вышла первая бета': 17208,\n",
       " 'dell inspiron mini': 3324,\n",
       " 'пишем простую': 35317,\n",
       " 'корыстных целях': 26050,\n",
       " 'ошибок которые': 34445,\n",
       " 'нелегальным контентом': 31115,\n",
       " 'backup': 2088,\n",
       " 'htc evo': 5386,\n",
       " 'отправлять push': 34204,\n",
       " 'абстракция': 12545,\n",
       " 'устранить': 47592,\n",
       " 'классификация': 24964,\n",
       " 'встраивание': 16520,\n",
       " 'пакетная обработка': 34478,\n",
       " 'для не': 19360,\n",
       " 'обзор современных': 32246,\n",
       " 'построили': 37536,\n",
       " 'потоке': 37592,\n",
       " 'самый удобный': 42130,\n",
       " 'ношу собой': 31911,\n",
       " 'смену': 43627,\n",
       " 'hole': 5330,\n",
       " 'выпуск новостей': 16932,\n",
       " 'recorder': 9324,\n",
       " 'предложил': 37996,\n",
       " 'контекстные': 25745,\n",
       " 'попробуй': 37252,\n",
       " 'уверен': 46907,\n",
       " 'kombat': 6446,\n",
       " 'symbian на': 10680,\n",
       " 'мой опыт работы': 28609,\n",
       " 'отпечатанный на': 34178,\n",
       " 'логика мышления часть': 26999,\n",
       " 'доменных имён': 20112,\n",
       " 'аспирантура японии': 13405,\n",
       " 'для вас': 19128,\n",
       " 'лучшую': 27132,\n",
       " 'куда уходит': 26484,\n",
       " 'архитектуре по': 13369,\n",
       " '3d принтера': 954,\n",
       " 'для metastock нуля': 18954,\n",
       " 'предупреждает об': 38107,\n",
       " 'новое релизе kerio': 31520,\n",
       " 'apple опубликовала': 1773,\n",
       " 'на хостинге': 30095,\n",
       " 'piwik': 8722,\n",
       " 'дизайн youtube': 18632,\n",
       " 'марка': 27375,\n",
       " 'новый конкурс от': 31708,\n",
       " 'console': 2962,\n",
       " 'помощью embedded visual': 37144,\n",
       " 'взаимопомощи': 15448,\n",
       " 'на всякий': 29521,\n",
       " 'высокий': 17018,\n",
       " 'быстрый поиск': 14755,\n",
       " 'микро фреймворк': 27968,\n",
       " 'тайм менеджмент': 45659,\n",
       " 'платежный сервис': 35507,\n",
       " '1c': 476,\n",
       " 'восстановлен': 16252,\n",
       " 'запустился': 21608,\n",
       " 'тетрис': 46208,\n",
       " 'его не': 20489,\n",
       " 'сатья наделла': 42173,\n",
       " 'на русский': 29939,\n",
       " 'регистратора': 41090,\n",
       " 'как samsung': 23978,\n",
       " 'devexpress': 3433,\n",
       " 'как мы не': 24145,\n",
       " 'на windows xp': 29399,\n",
       " 'наручный': 30458,\n",
       " 'строки на': 45326,\n",
       " 'архивация': 13348,\n",
       " 'deb пакета': 3277,\n",
       " 'ними бороться': 31360,\n",
       " 'пингвинов': 35189,\n",
       " 'современная': 43937,\n",
       " 'авторизация на': 12699,\n",
       " 'java hosting': 6137,\n",
       " 'университетах': 47288,\n",
       " 'структуры данных картинках': 45356,\n",
       " 'окружающей среды': 32994,\n",
       " 'наследник': 30487,\n",
       " 'google maps javascript': 4851,\n",
       " 'хостера на': 48639,\n",
       " 'nginx на': 7821,\n",
       " 'радиоволн': 40232,\n",
       " 'по технологиям': 35987,\n",
       " 'терабайтный': 46065,\n",
       " 'автора': 12689,\n",
       " 'сеть выложили': 42958,\n",
       " '1520': 379,\n",
       " 'платы на': 35595,\n",
       " 'проведении': 38941,\n",
       " 'на кикстартер': 29626,\n",
       " 'проектирование веб': 39341,\n",
       " 'почему люди': 37658,\n",
       " 'от компании': 33754,\n",
       " 'youtube появилась': 12444,\n",
       " 'key': 6380,\n",
       " 'внимание при': 15985,\n",
       " 'mapreduce': 6957,\n",
       " 'in app billing': 5673,\n",
       " 'keds': 6367,\n",
       " 'познания': 36595,\n",
       " 'synology представляет': 10702,\n",
       " 'api интеграция': 1673,\n",
       " 'meizu': 7084,\n",
       " 'нагрузочный тест': 30228,\n",
       " 'group ib': 5094,\n",
       " 'nokia 3310': 7877,\n",
       " 'браузерная': 14514,\n",
       " 'печать из': 35157,\n",
       " 'symfony camp ua': 10683,\n",
       " 'магазина windows': 27229,\n",
       " 'инциденты': 23480,\n",
       " 'да будет': 17934,\n",
       " 'управления умным': 47383,\n",
       " 'белые': 13881,\n",
       " 'хеширования': 48542,\n",
       " 'событийная модель oracle': 43859,\n",
       " 'innovation week': 5741,\n",
       " 'cintiq': 2685,\n",
       " 'старичок': 44869,\n",
       " 'шаг ближе': 49686,\n",
       " 'кто там': 26458,\n",
       " 'тебя username': 45793,\n",
       " 'по следам': 35966,\n",
       " 'mesh': 7115,\n",
       " 'мобильных сайтов': 28408,\n",
       " 'на pirate bay': 29299,\n",
       " 'php gd': 8612,\n",
       " 'видеоконференциях': 15603,\n",
       " 'odeon tpc 10': 8025,\n",
       " 'конкуренции': 25612,\n",
       " 'для этого': 19718,\n",
       " 'ряду': 41941,\n",
       " 'blind': 2285,\n",
       " 'ebs': 3761,\n",
       " 'действиях': 18281,\n",
       " 'парадигмы программирования': 34559,\n",
       " 'мысли': 28930,\n",
       " 'по улучшению': 35995,\n",
       " 'для андроида': 19101,\n",
       " 'продакшн': 39191,\n",
       " 'лицензия для': 26938,\n",
       " 'пишем веб': 35283,\n",
       " 'подсказки на': 36501,\n",
       " 'аккаунты google': 12866,\n",
       " 'нервы': 31211,\n",
       " 'часть 11': 49012,\n",
       " '2013 14 июня': 625,\n",
       " 'ответа': 33849,\n",
       " 'полезные ссылки': 36818,\n",
       " 'youtube теперь': 12446,\n",
       " ...}"
      ]
     },
     "execution_count": 96,
     "metadata": {},
     "output_type": "execute_result"
    }
   ],
   "source": [
    "#Можно посмотреть словарь в виде {'термин': индекс признака,...}\n",
    "vectorizer_title.vocabulary_"
   ]
  },
  {
   "cell_type": "code",
   "execution_count": 97,
   "metadata": {
    "collapsed": false
   },
   "outputs": [
    {
     "data": {
      "text/plain": [
       "50624"
      ]
     },
     "execution_count": 97,
     "metadata": {},
     "output_type": "execute_result"
    }
   ],
   "source": [
    "#ваш код здесь\n",
    "len(vectorizer_title.vocabulary_)"
   ]
  },
  {
   "cell_type": "markdown",
   "metadata": {},
   "source": [
    "<font color='red'>Вопрос 4.</font> Какой индекс у слова 'python'?\n",
    "- 1\n",
    "- 10\n",
    "- 9065 + \n",
    "- 15679"
   ]
  },
  {
   "cell_type": "code",
   "execution_count": 63,
   "metadata": {
    "collapsed": false
   },
   "outputs": [
    {
     "data": {
      "text/plain": [
       "9065"
      ]
     },
     "execution_count": 63,
     "metadata": {},
     "output_type": "execute_result"
    }
   ],
   "source": [
    "#ваш код здесь\n",
    "vectorizer_title.vocabulary_['python']"
   ]
  },
  {
   "cell_type": "markdown",
   "metadata": {},
   "source": [
    "**Инициализируйте TfidfVectorizer, указав analyzer='char'.<br />\n",
    "Примените метод fit_transform к X_train['title'] и метод transform к X_valid['title'] и X_test['title']**"
   ]
  },
  {
   "cell_type": "markdown",
   "metadata": {},
   "source": [
    "<font color='red'>Вопрос 5.</font> Какой размер у полученного словаря?\n",
    "- 218 +\n",
    "- 510\n",
    "- 125\n",
    "- 981"
   ]
  },
  {
   "cell_type": "code",
   "execution_count": 98,
   "metadata": {
    "collapsed": true
   },
   "outputs": [],
   "source": [
    "vectorizer_title_ch = TfidfVectorizer(analyzer='char')\n",
    "\n",
    "X_train_title_ch = vectorizer_title_ch.fit_transform(X_train['title'])\n",
    "X_valid_title_ch = vectorizer_title_ch.transform(X_valid['title'])\n",
    "X_test_title_ch = vectorizer_title_ch.transform(X_test['title'])"
   ]
  },
  {
   "cell_type": "code",
   "execution_count": 99,
   "metadata": {
    "collapsed": false
   },
   "outputs": [
    {
     "data": {
      "text/plain": [
       "{' ': 0,\n",
       " '!': 1,\n",
       " '\"': 2,\n",
       " '#': 3,\n",
       " '$': 4,\n",
       " '%': 5,\n",
       " '&': 6,\n",
       " \"'\": 7,\n",
       " '(': 8,\n",
       " ')': 9,\n",
       " '*': 10,\n",
       " '+': 11,\n",
       " ',': 12,\n",
       " '-': 13,\n",
       " '.': 14,\n",
       " '/': 15,\n",
       " '0': 16,\n",
       " '1': 17,\n",
       " '2': 18,\n",
       " '3': 19,\n",
       " '4': 20,\n",
       " '5': 21,\n",
       " '6': 22,\n",
       " '7': 23,\n",
       " '8': 24,\n",
       " '9': 25,\n",
       " ':': 26,\n",
       " ';': 27,\n",
       " '<': 28,\n",
       " '=': 29,\n",
       " '>': 30,\n",
       " '?': 31,\n",
       " '@': 32,\n",
       " '[': 33,\n",
       " '\\\\': 34,\n",
       " ']': 35,\n",
       " '^': 36,\n",
       " '_': 37,\n",
       " '`': 38,\n",
       " 'a': 39,\n",
       " 'b': 40,\n",
       " 'c': 41,\n",
       " 'd': 42,\n",
       " 'e': 43,\n",
       " 'f': 44,\n",
       " 'g': 45,\n",
       " 'h': 46,\n",
       " 'i': 47,\n",
       " 'j': 48,\n",
       " 'k': 49,\n",
       " 'l': 50,\n",
       " 'm': 51,\n",
       " 'n': 52,\n",
       " 'o': 53,\n",
       " 'p': 54,\n",
       " 'q': 55,\n",
       " 'r': 56,\n",
       " 's': 57,\n",
       " 't': 58,\n",
       " 'u': 59,\n",
       " 'v': 60,\n",
       " 'w': 61,\n",
       " 'x': 62,\n",
       " 'y': 63,\n",
       " 'z': 64,\n",
       " '{': 65,\n",
       " '|': 66,\n",
       " '}': 67,\n",
       " '~': 68,\n",
       " '\\x92': 69,\n",
       " '\\x97': 70,\n",
       " '\\xa0': 71,\n",
       " '£': 72,\n",
       " '¥': 73,\n",
       " '§': 74,\n",
       " '©': 75,\n",
       " '«': 76,\n",
       " '\\xad': 77,\n",
       " '®': 78,\n",
       " '°': 79,\n",
       " '±': 80,\n",
       " '²': 81,\n",
       " 'µ': 82,\n",
       " '·': 83,\n",
       " '¹': 84,\n",
       " '»': 85,\n",
       " '¼': 86,\n",
       " '½': 87,\n",
       " '×': 88,\n",
       " 'à': 89,\n",
       " 'á': 90,\n",
       " 'â': 91,\n",
       " 'ä': 92,\n",
       " 'ç': 93,\n",
       " 'é': 94,\n",
       " 'ë': 95,\n",
       " 'ï': 96,\n",
       " 'ñ': 97,\n",
       " 'ò': 98,\n",
       " 'ó': 99,\n",
       " 'ö': 100,\n",
       " 'ø': 101,\n",
       " 'ù': 102,\n",
       " 'ú': 103,\n",
       " 'ü': 104,\n",
       " 'ı': 105,\n",
       " 'ǝ': 106,\n",
       " 'ɟ': 107,\n",
       " 'ʇ': 108,\n",
       " '́': 109,\n",
       " '̆': 110,\n",
       " '̱': 111,\n",
       " '̲': 112,\n",
       " '̶': 113,\n",
       " 'β': 114,\n",
       " 'δ': 115,\n",
       " 'λ': 116,\n",
       " 'μ': 117,\n",
       " 'π': 118,\n",
       " 'ω': 119,\n",
       " 'а': 120,\n",
       " 'б': 121,\n",
       " 'в': 122,\n",
       " 'г': 123,\n",
       " 'д': 124,\n",
       " 'е': 125,\n",
       " 'ж': 126,\n",
       " 'з': 127,\n",
       " 'и': 128,\n",
       " 'й': 129,\n",
       " 'к': 130,\n",
       " 'л': 131,\n",
       " 'м': 132,\n",
       " 'н': 133,\n",
       " 'о': 134,\n",
       " 'п': 135,\n",
       " 'р': 136,\n",
       " 'с': 137,\n",
       " 'т': 138,\n",
       " 'у': 139,\n",
       " 'ф': 140,\n",
       " 'х': 141,\n",
       " 'ц': 142,\n",
       " 'ч': 143,\n",
       " 'ш': 144,\n",
       " 'щ': 145,\n",
       " 'ъ': 146,\n",
       " 'ы': 147,\n",
       " 'ь': 148,\n",
       " 'э': 149,\n",
       " 'ю': 150,\n",
       " 'я': 151,\n",
       " 'ё': 152,\n",
       " 'і': 153,\n",
       " 'ї': 154,\n",
       " 'ј': 155,\n",
       " 'ў': 156,\n",
       " 'ѣ': 157,\n",
       " 'қ': 158,\n",
       " '۞': 159,\n",
       " '۩': 160,\n",
       " '฿': 161,\n",
       " '\\u2002': 162,\n",
       " '\\u2006': 163,\n",
       " '\\u2009': 164,\n",
       " '\\u200b': 165,\n",
       " '\\u200e': 166,\n",
       " '‐': 167,\n",
       " '‑': 168,\n",
       " '–': 169,\n",
       " '—': 170,\n",
       " '―': 171,\n",
       " '‘': 172,\n",
       " '’': 173,\n",
       " '“': 174,\n",
       " '”': 175,\n",
       " '„': 176,\n",
       " '•': 177,\n",
       " '…': 178,\n",
       " '\\u2028': 179,\n",
       " '\\u202c': 180,\n",
       " '\\u202d': 181,\n",
       " '′': 182,\n",
       " '″': 183,\n",
       " '‽': 184,\n",
       " '⁰': 185,\n",
       " '€': 186,\n",
       " '№': 187,\n",
       " '™': 188,\n",
       " '⅓': 189,\n",
       " '⅜': 190,\n",
       " '←': 191,\n",
       " '↑': 192,\n",
       " '→': 193,\n",
       " '↔': 194,\n",
       " '↺': 195,\n",
       " '⇄': 196,\n",
       " '⇒': 197,\n",
       " '⇨': 198,\n",
       " '−': 199,\n",
       " '∙': 200,\n",
       " '≈': 201,\n",
       " '≠': 202,\n",
       " '━': 203,\n",
       " '▼': 204,\n",
       " '☠': 205,\n",
       " '☢': 206,\n",
       " '☣': 207,\n",
       " '☼': 208,\n",
       " '♠': 209,\n",
       " '♥': 210,\n",
       " '♫': 211,\n",
       " '❤': 212,\n",
       " '印': 213,\n",
       " '打': 214,\n",
       " '机': 215,\n",
       " '\\ufeff': 216,\n",
       " '！': 217}"
      ]
     },
     "execution_count": 99,
     "metadata": {},
     "output_type": "execute_result"
    }
   ],
   "source": [
    "#Здесь так же можно посмотреть словарь\n",
    "#Заметьте насколько отличаются словари для TfidfVectorizer с analyzer='word' и analyzer='char'\n",
    "vectorizer_title_ch.vocabulary_"
   ]
  },
  {
   "cell_type": "code",
   "execution_count": 100,
   "metadata": {
    "collapsed": false
   },
   "outputs": [
    {
     "data": {
      "text/plain": [
       "218"
      ]
     },
     "execution_count": 100,
     "metadata": {},
     "output_type": "execute_result"
    }
   ],
   "source": [
    "#ваш код здесь\n",
    "len(vectorizer_title_ch.vocabulary_)"
   ]
  },
  {
   "cell_type": "markdown",
   "metadata": {},
   "source": [
    "## Работа с категориальными признаками\n",
    "\n",
    "Для обработки категориальных признаков 'author', 'flow', 'domain' мы будем использовать DictVectorizer из sklearn."
   ]
  },
  {
   "cell_type": "code",
   "execution_count": 70,
   "metadata": {
    "collapsed": false,
    "scrolled": true
   },
   "outputs": [
    {
     "data": {
      "text/html": [
       "<div>\n",
       "<table border=\"1\" class=\"dataframe\">\n",
       "  <thead>\n",
       "    <tr style=\"text-align: right;\">\n",
       "      <th></th>\n",
       "      <th>author</th>\n",
       "      <th>flow</th>\n",
       "      <th>domain</th>\n",
       "    </tr>\n",
       "  </thead>\n",
       "  <tbody>\n",
       "    <tr>\n",
       "      <th>0</th>\n",
       "      <td>@Tapac</td>\n",
       "      <td>develop</td>\n",
       "      <td>habrahabr.ru</td>\n",
       "    </tr>\n",
       "    <tr>\n",
       "      <th>1</th>\n",
       "      <td>@DezmASter</td>\n",
       "      <td>design</td>\n",
       "      <td>habrahabr.ru</td>\n",
       "    </tr>\n",
       "    <tr>\n",
       "      <th>2</th>\n",
       "      <td>@DezmASter</td>\n",
       "      <td>design</td>\n",
       "      <td>habrahabr.ru</td>\n",
       "    </tr>\n",
       "    <tr>\n",
       "      <th>3</th>\n",
       "      <td>@Taoorus</td>\n",
       "      <td>design</td>\n",
       "      <td>habrahabr.ru</td>\n",
       "    </tr>\n",
       "    <tr>\n",
       "      <th>4</th>\n",
       "      <td>@dennydo</td>\n",
       "      <td>NaN</td>\n",
       "      <td>geektimes.ru</td>\n",
       "    </tr>\n",
       "  </tbody>\n",
       "</table>\n",
       "</div>"
      ],
      "text/plain": [
       "       author     flow        domain\n",
       "0      @Tapac  develop  habrahabr.ru\n",
       "1  @DezmASter   design  habrahabr.ru\n",
       "2  @DezmASter   design  habrahabr.ru\n",
       "3    @Taoorus   design  habrahabr.ru\n",
       "4    @dennydo      NaN  geektimes.ru"
      ]
     },
     "execution_count": 70,
     "metadata": {},
     "output_type": "execute_result"
    }
   ],
   "source": [
    "feats = ['author', 'flow', 'domain']\n",
    "X_train[feats][:5]"
   ]
  },
  {
   "cell_type": "markdown",
   "metadata": {},
   "source": [
    "Рассмотрим как он работает на примере первых пяти строк"
   ]
  },
  {
   "cell_type": "code",
   "execution_count": 69,
   "metadata": {
    "collapsed": false
   },
   "outputs": [
    {
     "data": {
      "text/html": [
       "<div>\n",
       "<table border=\"1\" class=\"dataframe\">\n",
       "  <thead>\n",
       "    <tr style=\"text-align: right;\">\n",
       "      <th></th>\n",
       "      <th>author</th>\n",
       "      <th>flow</th>\n",
       "      <th>domain</th>\n",
       "    </tr>\n",
       "  </thead>\n",
       "  <tbody>\n",
       "    <tr>\n",
       "      <th>0</th>\n",
       "      <td>@Tapac</td>\n",
       "      <td>develop</td>\n",
       "      <td>habrahabr.ru</td>\n",
       "    </tr>\n",
       "    <tr>\n",
       "      <th>1</th>\n",
       "      <td>@DezmASter</td>\n",
       "      <td>design</td>\n",
       "      <td>habrahabr.ru</td>\n",
       "    </tr>\n",
       "    <tr>\n",
       "      <th>2</th>\n",
       "      <td>@DezmASter</td>\n",
       "      <td>design</td>\n",
       "      <td>habrahabr.ru</td>\n",
       "    </tr>\n",
       "    <tr>\n",
       "      <th>3</th>\n",
       "      <td>@Taoorus</td>\n",
       "      <td>design</td>\n",
       "      <td>habrahabr.ru</td>\n",
       "    </tr>\n",
       "    <tr>\n",
       "      <th>4</th>\n",
       "      <td>@dennydo</td>\n",
       "      <td>-</td>\n",
       "      <td>geektimes.ru</td>\n",
       "    </tr>\n",
       "  </tbody>\n",
       "</table>\n",
       "</div>"
      ],
      "text/plain": [
       "       author     flow        domain\n",
       "0      @Tapac  develop  habrahabr.ru\n",
       "1  @DezmASter   design  habrahabr.ru\n",
       "2  @DezmASter   design  habrahabr.ru\n",
       "3    @Taoorus   design  habrahabr.ru\n",
       "4    @dennydo        -  geektimes.ru"
      ]
     },
     "execution_count": 69,
     "metadata": {},
     "output_type": "execute_result"
    }
   ],
   "source": [
    "#сначала заполняем пропуски прочерком\n",
    "X_train[feats][:5].fillna('-')"
   ]
  },
  {
   "cell_type": "code",
   "execution_count": 72,
   "metadata": {
    "collapsed": false
   },
   "outputs": [
    {
     "data": {
      "text/plain": [
       "{0: {'author': '@Tapac', 'domain': 'habrahabr.ru', 'flow': 'develop'},\n",
       " 1: {'author': '@DezmASter', 'domain': 'habrahabr.ru', 'flow': 'design'},\n",
       " 2: {'author': '@DezmASter', 'domain': 'habrahabr.ru', 'flow': 'design'},\n",
       " 3: {'author': '@Taoorus', 'domain': 'habrahabr.ru', 'flow': 'design'},\n",
       " 4: {'author': '@dennydo', 'domain': 'geektimes.ru', 'flow': '-'}}"
      ]
     },
     "execution_count": 72,
     "metadata": {},
     "output_type": "execute_result"
    }
   ],
   "source": [
    "#Преобразуем датафрейм в словарь, где ключами являются индексы объектов (именно для этого мы транспонировали датафрейм),\n",
    "#а значениями являются словари в виде 'название_колонки':'значение'\n",
    "X_train[feats][:5].fillna('-').T.to_dict()"
   ]
  },
  {
   "cell_type": "code",
   "execution_count": 73,
   "metadata": {
    "collapsed": false
   },
   "outputs": [
    {
     "data": {
      "text/plain": [
       "dict_values([{'flow': 'develop', 'domain': 'habrahabr.ru', 'author': '@Tapac'}, {'flow': 'design', 'domain': 'habrahabr.ru', 'author': '@DezmASter'}, {'flow': 'design', 'domain': 'habrahabr.ru', 'author': '@DezmASter'}, {'flow': 'design', 'domain': 'habrahabr.ru', 'author': '@Taoorus'}, {'flow': '-', 'domain': 'geektimes.ru', 'author': '@dennydo'}])"
      ]
     },
     "execution_count": 73,
     "metadata": {},
     "output_type": "execute_result"
    }
   ],
   "source": [
    "#В DictVectorizer нам нужно будет передать список словарей для каждого объекта в виде 'название_колонки':'значение',\n",
    "#поэтому используем .values()\n",
    "X_train[feats][:5].fillna('-').T.to_dict().values()"
   ]
  },
  {
   "cell_type": "code",
   "execution_count": 76,
   "metadata": {
    "collapsed": false
   },
   "outputs": [
    {
     "data": {
      "text/plain": [
       "<5x9 sparse matrix of type '<class 'numpy.float64'>'\n",
       "\twith 15 stored elements in Compressed Sparse Row format>"
      ]
     },
     "execution_count": 76,
     "metadata": {},
     "output_type": "execute_result"
    }
   ],
   "source": [
    "#В итоге получается разреженная матрица\n",
    "dict_vect = DictVectorizer()\n",
    "dict_vect_matrix = dict_vect.fit_transform(X_train[feats][:5].fillna('-').T.to_dict().values())\n",
    "dict_vect_matrix"
   ]
  },
  {
   "cell_type": "code",
   "execution_count": 77,
   "metadata": {
    "collapsed": false
   },
   "outputs": [
    {
     "data": {
      "text/plain": [
       "array([[ 0.,  0.,  1.,  0.,  0.,  1.,  0.,  0.,  1.],\n",
       "       [ 1.,  0.,  0.,  0.,  0.,  1.,  0.,  1.,  0.],\n",
       "       [ 1.,  0.,  0.,  0.,  0.,  1.,  0.,  1.,  0.],\n",
       "       [ 0.,  1.,  0.,  0.,  0.,  1.,  0.,  1.,  0.],\n",
       "       [ 0.,  0.,  0.,  1.,  1.,  0.,  1.,  0.,  0.]])"
      ]
     },
     "execution_count": 77,
     "metadata": {},
     "output_type": "execute_result"
    }
   ],
   "source": [
    "#Но можно преобразовать ее в numpy array с помощью .toarray()\n",
    "dict_vect_matrix.toarray()"
   ]
  },
  {
   "cell_type": "code",
   "execution_count": 18,
   "metadata": {
    "collapsed": false
   },
   "outputs": [
    {
     "data": {
      "text/plain": [
       "(5, 9)"
      ]
     },
     "execution_count": 18,
     "metadata": {},
     "output_type": "execute_result"
    }
   ],
   "source": [
    "#В получившейся матрице 5 строк (по числу объектов) и 9 столбцов\n",
    "#Далее разберемся почему колонок именно 9\n",
    "dict_vect_matrix.shape"
   ]
  },
  {
   "cell_type": "markdown",
   "metadata": {},
   "source": [
    "Посмотрим сколько уникальных значений в каждой колонке.<br />\n",
    "Суммарно их 9 - столько же, сколько и колонок. Это объясняется тем, что для категориальных признаков со строковыми значениями DictVectorizer делает кодирование бинарными признаками - каждому уникальному значению признака соответствует один новый бинарный признак, который равен 1 только в том случае, если в исходной матрице этот признак принимает значение, которому соответствует эта колонка новой матрицы."
   ]
  },
  {
   "cell_type": "code",
   "execution_count": 19,
   "metadata": {
    "collapsed": false
   },
   "outputs": [
    {
     "name": "stdout",
     "output_type": "stream",
     "text": [
      "author 4\n",
      "flow 3\n",
      "domain 2\n"
     ]
    }
   ],
   "source": [
    "for col in feats:\n",
    "    print(col,len(X_train[col][:5].fillna('-').unique()))"
   ]
  },
  {
   "cell_type": "markdown",
   "metadata": {},
   "source": [
    "Также можно посмотреть что означает каждая колонка полученной матрицы"
   ]
  },
  {
   "cell_type": "code",
   "execution_count": 20,
   "metadata": {
    "collapsed": false
   },
   "outputs": [
    {
     "data": {
      "text/plain": [
       "['author=@DezmASter',\n",
       " 'author=@Taoorus',\n",
       " 'author=@Tapac',\n",
       " 'author=@dennydo',\n",
       " 'domain=geektimes.ru',\n",
       " 'domain=habrahabr.ru',\n",
       " 'flow=-',\n",
       " 'flow=design',\n",
       " 'flow=develop']"
      ]
     },
     "execution_count": 20,
     "metadata": {},
     "output_type": "execute_result"
    }
   ],
   "source": [
    "#например, самая первая колонка называется 'author=@DezmASter' - то есть принимает значение 1 только если автор @DezmASter\n",
    "dict_vect.feature_names_"
   ]
  },
  {
   "cell_type": "markdown",
   "metadata": {},
   "source": [
    "**Инициализируйте DictVectorizer с параметрами по умолчанию.<br />\n",
    "Примените метод fit_transform к признакам 'author', 'flow', 'domain' X_train и метод transform к тем же признакам X_valid и X_test**"
   ]
  },
  {
   "cell_type": "code",
   "execution_count": 101,
   "metadata": {
    "collapsed": false
   },
   "outputs": [],
   "source": [
    "vectorizer_feats = DictVectorizer()\n",
    "\n",
    "X_train_feats = vectorizer_feats.fit_transform(X_train[feats].fillna('-').T.to_dict().values())\n",
    "X_valid_feats = vectorizer_feats.transform(X_valid[feats].fillna('-').T.to_dict().values())\n",
    "X_test_feats = vectorizer_feats.transform(X_test[feats].fillna('-').T.to_dict().values())"
   ]
  },
  {
   "cell_type": "code",
   "execution_count": 102,
   "metadata": {
    "collapsed": false
   },
   "outputs": [
    {
     "data": {
      "text/plain": [
       "(93895, 17869)"
      ]
     },
     "execution_count": 102,
     "metadata": {},
     "output_type": "execute_result"
    }
   ],
   "source": [
    "X_train_feats.shape"
   ]
  },
  {
   "cell_type": "code",
   "execution_count": 103,
   "metadata": {
    "collapsed": false
   },
   "outputs": [],
   "source": [
    "#pd.get_dummies(X_train[feats].fillna('-')).shape"
   ]
  },
  {
   "cell_type": "markdown",
   "metadata": {},
   "source": [
    "Соединим все полученные матрицы при помощи scipy.sparse.hstack()"
   ]
  },
  {
   "cell_type": "code",
   "execution_count": 104,
   "metadata": {
    "collapsed": false
   },
   "outputs": [],
   "source": [
    "X_train_new = scipy.sparse.hstack([X_train_title, X_train_feats, X_train_title_ch])\n",
    "X_valid_new = scipy.sparse.hstack([X_valid_title, X_valid_feats, X_valid_title_ch])\n",
    "X_test_new =  scipy.sparse.hstack([X_test_title, X_test_feats, X_test_title_ch])"
   ]
  },
  {
   "cell_type": "code",
   "execution_count": 105,
   "metadata": {
    "collapsed": false
   },
   "outputs": [
    {
     "data": {
      "text/plain": [
       "(93895, 68711)"
      ]
     },
     "execution_count": 105,
     "metadata": {},
     "output_type": "execute_result"
    }
   ],
   "source": [
    "X_train_new.shape"
   ]
  },
  {
   "cell_type": "code",
   "execution_count": 106,
   "metadata": {
    "collapsed": false
   },
   "outputs": [
    {
     "data": {
      "text/plain": [
       "(40242, 68711)"
      ]
     },
     "execution_count": 106,
     "metadata": {},
     "output_type": "execute_result"
    }
   ],
   "source": [
    "X_valid_new.shape"
   ]
  },
  {
   "cell_type": "code",
   "execution_count": 107,
   "metadata": {
    "collapsed": false
   },
   "outputs": [
    {
     "data": {
      "text/plain": [
       "(3990, 68711)"
      ]
     },
     "execution_count": 107,
     "metadata": {},
     "output_type": "execute_result"
    }
   ],
   "source": [
    "X_test_new.shape"
   ]
  },
  {
   "cell_type": "markdown",
   "metadata": {},
   "source": [
    "## Обучение модели\n",
    "\n",
    "Далее будем использовать Ridge, линейную модель с l2-регуляризацией.\n",
    "[Документация](http://scikit-learn.org/stable/modules/generated/sklearn.linear_model.Ridge.html)\n",
    "\n",
    "Основной параметр Ridge - **alpha, коэффициент регуляризации**. Регуляризация используется для улучшения обобщающей способности модели - прибавляя к функционалу потерь сумму квадратов весов, умноженную на коэффициент регуляризации (та самая alpha), мы штрафуем модель за слишком большие значения весов и не позволяем ей переобучаться. Чем больше этот коээфициент, тем сильнее эффект."
   ]
  },
  {
   "cell_type": "markdown",
   "metadata": {},
   "source": [
    "**Обучите две модели на X_train_new, y_train, задав в первой alpha=0.1 и random_state = 1, а во второй alpha=1.0 и random_state = 1**\n",
    "\n",
    "**Рассчитайте среднеквадратичную ошибку каждой модели (mean_squared_error). Сравните значения ошибки на обучающей и тестовой выборках и ответьте на вопросы.**"
   ]
  },
  {
   "cell_type": "markdown",
   "metadata": {},
   "source": [
    "<font color='red'>Вопрос 6.</font> Выберите верные утверждения:\n",
    "- обе модели показывают одинаковый результат (среднеквадратичная ошибка отличается не больше чем на тысячные), регуляризация ничего не меняет\n",
    "- при alpha=0.1 модель переобучается +\n",
    "- среднеквадратичная ошибка первой модели на тесте меньше \n",
    "- при alpha=1.0 у модели обощающая способность лучше, чем у при alpha=0.1 +"
   ]
  },
  {
   "cell_type": "code",
   "execution_count": 109,
   "metadata": {
    "collapsed": false,
    "scrolled": true
   },
   "outputs": [
    {
     "name": "stdout",
     "output_type": "stream",
     "text": [
      "Wall time: 17.3 s\n"
     ]
    }
   ],
   "source": [
    "%%time\n",
    "model1 = Ridge(alpha=0.1, random_state=1)\n",
    "model1.fit(X_train_new, y_train)"
   ]
  },
  {
   "cell_type": "code",
   "execution_count": 110,
   "metadata": {
    "collapsed": false
   },
   "outputs": [
    {
     "name": "stdout",
     "output_type": "stream",
     "text": [
      "Ошибка на трейне 0.184107031582\n",
      "Ошибка на тесте 0.996233534497\n"
     ]
    }
   ],
   "source": [
    "train_preds1 = model1.predict(X_train_new)\n",
    "valid_preds1 = model1.predict(X_valid_new)\n",
    "\n",
    "print('Ошибка на трейне',mean_squared_error(y_train, train_preds1))\n",
    "print('Ошибка на тесте',mean_squared_error(y_valid, valid_preds1))"
   ]
  },
  {
   "cell_type": "code",
   "execution_count": 111,
   "metadata": {
    "collapsed": false
   },
   "outputs": [
    {
     "name": "stdout",
     "output_type": "stream",
     "text": [
      "Wall time: 6.78 s\n"
     ]
    }
   ],
   "source": [
    "%%time\n",
    "model2 = Ridge(alpha=1.0, random_state=1)\n",
    "model2.fit(X_train_new, y_train)"
   ]
  },
  {
   "cell_type": "code",
   "execution_count": 112,
   "metadata": {
    "collapsed": false
   },
   "outputs": [
    {
     "name": "stdout",
     "output_type": "stream",
     "text": [
      "Ошибка на трейне 0.28624407471\n",
      "Ошибка на тесте 0.80695156251\n"
     ]
    }
   ],
   "source": [
    "train_preds2 = model2.predict(X_train_new)\n",
    "valid_preds2 = model2.predict(X_valid_new)\n",
    "\n",
    "print('Ошибка на трейне',mean_squared_error(y_train, train_preds2))\n",
    "print('Ошибка на тесте',mean_squared_error(y_valid, valid_preds2))"
   ]
  },
  {
   "cell_type": "markdown",
   "metadata": {},
   "source": [
    "## Baseline\n",
    "\n",
    "**Теперь попытаемся получить бейзлайн для соревования - используйте Ridge с параметрами по умолчанию и обучите модель на всех данных - соедините X_train_new X_valid_new (используйте scipy.sparse.vstack()), а целевой переменной будет y.**"
   ]
  },
  {
   "cell_type": "code",
   "execution_count": 114,
   "metadata": {
    "collapsed": false
   },
   "outputs": [
    {
     "name": "stdout",
     "output_type": "stream",
     "text": [
      "Wall time: 12.1 s\n"
     ]
    }
   ],
   "source": [
    "%%time\n",
    "model = Ridge()\n",
    "model.fit(scipy.sparse.vstack([X_train_new, X_valid_new]), y)\n",
    "#обучите модель на всех данных\n",
    "\n",
    "test_preds = model.predict(X_test_new)"
   ]
  },
  {
   "cell_type": "code",
   "execution_count": 115,
   "metadata": {
    "collapsed": false
   },
   "outputs": [
    {
     "data": {
      "text/plain": [
       "array([ 0.3881152 , -0.56894421,  0.70190327, ...,  0.50969549,\n",
       "        0.03276925,  0.57566586])"
      ]
     },
     "execution_count": 115,
     "metadata": {},
     "output_type": "execute_result"
    }
   ],
   "source": [
    "test_preds"
   ]
  },
  {
   "cell_type": "code",
   "execution_count": 117,
   "metadata": {
    "collapsed": false
   },
   "outputs": [],
   "source": [
    "sample_submission = pd.read_csv('sample_submission.csv', index_col='url')"
   ]
  },
  {
   "cell_type": "code",
   "execution_count": 118,
   "metadata": {
    "collapsed": false
   },
   "outputs": [
    {
     "data": {
      "text/html": [
       "<div>\n",
       "<table border=\"1\" class=\"dataframe\">\n",
       "  <thead>\n",
       "    <tr style=\"text-align: right;\">\n",
       "      <th></th>\n",
       "      <th>favs_lognorm</th>\n",
       "    </tr>\n",
       "    <tr>\n",
       "      <th>url</th>\n",
       "      <th></th>\n",
       "    </tr>\n",
       "  </thead>\n",
       "  <tbody>\n",
       "    <tr>\n",
       "      <th>https://habrahabr.ru/post/314080/</th>\n",
       "      <td>0.323588</td>\n",
       "    </tr>\n",
       "    <tr>\n",
       "      <th>https://habrahabr.ru/company/plesk/blog/313732/</th>\n",
       "      <td>0.560105</td>\n",
       "    </tr>\n",
       "    <tr>\n",
       "      <th>https://habrahabr.ru/company/etagi/blog/314000/</th>\n",
       "      <td>0.667039</td>\n",
       "    </tr>\n",
       "    <tr>\n",
       "      <th>https://habrahabr.ru/company/knopka/blog/314030/</th>\n",
       "      <td>0.149563</td>\n",
       "    </tr>\n",
       "    <tr>\n",
       "      <th>https://geektimes.ru/company/audiomania/blog/282058/</th>\n",
       "      <td>0.670754</td>\n",
       "    </tr>\n",
       "  </tbody>\n",
       "</table>\n",
       "</div>"
      ],
      "text/plain": [
       "                                                    favs_lognorm\n",
       "url                                                             \n",
       "https://habrahabr.ru/post/314080/                       0.323588\n",
       "https://habrahabr.ru/company/plesk/blog/313732/         0.560105\n",
       "https://habrahabr.ru/company/etagi/blog/314000/         0.667039\n",
       "https://habrahabr.ru/company/knopka/blog/314030/        0.149563\n",
       "https://geektimes.ru/company/audiomania/blog/28...      0.670754"
      ]
     },
     "execution_count": 118,
     "metadata": {},
     "output_type": "execute_result"
    }
   ],
   "source": [
    "sample_submission.head()"
   ]
  },
  {
   "cell_type": "code",
   "execution_count": 119,
   "metadata": {
    "collapsed": false
   },
   "outputs": [],
   "source": [
    "ridge_submission = sample_submission.copy()\n",
    "ridge_submission['favs_lognorm'] = test_preds\n",
    "ridge_submission.to_csv('ridge_baseline.csv') #а вот и бейзлайн"
   ]
  }
 ],
 "metadata": {
  "anaconda-cloud": {},
  "kernelspec": {
   "display_name": "Python 3",
   "language": "python",
   "name": "python3"
  },
  "language_info": {
   "codemirror_mode": {
    "name": "ipython",
    "version": 3
   },
   "file_extension": ".py",
   "mimetype": "text/x-python",
   "name": "python",
   "nbconvert_exporter": "python",
   "pygments_lexer": "ipython3",
   "version": "3.5.2"
  }
 },
 "nbformat": 4,
 "nbformat_minor": 0
}
