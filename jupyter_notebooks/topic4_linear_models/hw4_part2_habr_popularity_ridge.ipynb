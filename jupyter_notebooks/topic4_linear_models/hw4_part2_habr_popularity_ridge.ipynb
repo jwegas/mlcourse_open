{
 "cells": [
  {
   "cell_type": "markdown",
   "metadata": {},
   "source": [
    "<center>\n",
    "<img src=\"../../img/ods_stickers.jpg\">\n",
    "## Открытый курс по машинному обучению\n",
    "</center>\n",
    "<center>Автор материала: Ольга Дайховская"
   ]
  },
  {
   "cell_type": "markdown",
   "metadata": {},
   "source": [
    "# <center> Домашнее задание № 4. Часть 2\n",
    "## <center>  Прогнозирование популярности статей на TechMedia с помощью линейных моделей\n",
    "\n",
    "**В задании Вам предлагается разобраться с тем, как работает TfidfVectorizer и DictVectorizer, затем обучить и настроить модель линейной регрессии Ridge на данных о публикациях на Хабрахабре. Пройдя все шаги, вы сможете получить бейзлайн для [соревнования](https://inclass.kaggle.com/c/howpop-habrahabr-favs-lognorm). \n",
    "Ответьте на все вопросы в этой тетрадке и заполните ответы в [гугл-форме](https://docs.google.com/forms/d/e/1FAIpQLSd8E7naU38ikc9-rd31KeVfez3emCo4Ok1WrpQTr-XCDelRiw/viewform).**"
   ]
  },
  {
   "cell_type": "markdown",
   "metadata": {},
   "source": [
    "**Описание соревнования**\n",
    "\n",
    "Предскажите, как много звездочек наберет статья, зная только ее текст и время публикации\n",
    "\n",
    "Необходимо предсказать популярность поста на Хабре по содержанию и времени публикации. Как известно, пользователи Хабра могут добавлять статьи к себе в избранное. Общее количество пользователей, которое это сделали отображается у статьи количеством звездочек. Будем считать, что число звездочек, поставленных статье, наиболее хорошо отражает ее популярность.\n",
    "\n",
    "Более формально, в качестве метрики популярности статьи будем использовать долю статей за последний месяц, у которых количество звездочек меньше чем у текущей статьи. А точнее, доле числа звездочек можно поставить в соответствие квантили стандартного распределения, таким образом получаем числовую характеристику популярности статьи. Популярность статьи 0 означает, что статья получила ровно столько звездочек, сколько в среднем получают статьи. И соответственно чем больше звездочек получила статья по сравнению со средним, тем выше это число."
   ]
  },
  {
   "cell_type": "markdown",
   "metadata": {},
   "source": [
    "**Приступим:** импортируем необходимые библиотеки и скачаем данные"
   ]
  },
  {
   "cell_type": "code",
   "execution_count": 1,
   "metadata": {
    "collapsed": false
   },
   "outputs": [],
   "source": [
    "import pandas as pd\n",
    "\n",
    "from sklearn.feature_extraction.text import TfidfVectorizer\n",
    "from sklearn.feature_extraction import DictVectorizer\n",
    "\n",
    "#В зависимости от версии sklearn\n",
    "from sklearn.model_selection import train_test_split\n",
    "#from sklearn.cross_validation import train_test_split\n",
    "\n",
    "from sklearn.linear_model import Ridge\n",
    "from sklearn.metrics import mean_squared_error\n",
    "\n",
    "import numpy as np\n",
    "import scipy\n",
    "\n",
    "%matplotlib inline\n",
    "from matplotlib import pyplot as plt"
   ]
  },
  {
   "cell_type": "code",
   "execution_count": 2,
   "metadata": {
    "collapsed": false,
    "scrolled": true
   },
   "outputs": [],
   "source": [
    "train_df = pd.read_csv('../../data/howpop_train.csv')\n",
    "test_df  = pd.read_csv('../../data/howpop_test.csv')"
   ]
  },
  {
   "cell_type": "code",
   "execution_count": 3,
   "metadata": {
    "collapsed": false
   },
   "outputs": [
    {
     "data": {
      "text/html": [
       "<div>\n",
       "<table border=\"1\" class=\"dataframe\">\n",
       "  <thead>\n",
       "    <tr style=\"text-align: right;\">\n",
       "      <th></th>\n",
       "      <th>0</th>\n",
       "      <th>1</th>\n",
       "      <th>2</th>\n",
       "    </tr>\n",
       "  </thead>\n",
       "  <tbody>\n",
       "    <tr>\n",
       "      <th>url</th>\n",
       "      <td>https://habrahabr.ru/post/18284/</td>\n",
       "      <td>https://habrahabr.ru/post/18285/</td>\n",
       "      <td>https://habrahabr.ru/post/18286/</td>\n",
       "    </tr>\n",
       "    <tr>\n",
       "      <th>domain</th>\n",
       "      <td>habrahabr.ru</td>\n",
       "      <td>habrahabr.ru</td>\n",
       "      <td>habrahabr.ru</td>\n",
       "    </tr>\n",
       "    <tr>\n",
       "      <th>post_id</th>\n",
       "      <td>18284</td>\n",
       "      <td>18285</td>\n",
       "      <td>18286</td>\n",
       "    </tr>\n",
       "    <tr>\n",
       "      <th>published</th>\n",
       "      <td>2008-01-01 18:19:00</td>\n",
       "      <td>2008-01-01 18:30:00</td>\n",
       "      <td>2008-01-01 18:34:00</td>\n",
       "    </tr>\n",
       "    <tr>\n",
       "      <th>author</th>\n",
       "      <td>@Tapac</td>\n",
       "      <td>@DezmASter</td>\n",
       "      <td>@DezmASter</td>\n",
       "    </tr>\n",
       "    <tr>\n",
       "      <th>flow</th>\n",
       "      <td>develop</td>\n",
       "      <td>design</td>\n",
       "      <td>design</td>\n",
       "    </tr>\n",
       "    <tr>\n",
       "      <th>polling</th>\n",
       "      <td>False</td>\n",
       "      <td>False</td>\n",
       "      <td>False</td>\n",
       "    </tr>\n",
       "    <tr>\n",
       "      <th>content_len</th>\n",
       "      <td>4305</td>\n",
       "      <td>7344</td>\n",
       "      <td>8431</td>\n",
       "    </tr>\n",
       "    <tr>\n",
       "      <th>title</th>\n",
       "      <td>Новогодний подарок блоггерам — WordPress 2.3.2</td>\n",
       "      <td>Сумасшедшие яйца, или сервис для отслеживания ...</td>\n",
       "      <td>Сумасшедшие яйца, или сервис для отслеживания ...</td>\n",
       "    </tr>\n",
       "    <tr>\n",
       "      <th>comments</th>\n",
       "      <td>0</td>\n",
       "      <td>1</td>\n",
       "      <td>47</td>\n",
       "    </tr>\n",
       "    <tr>\n",
       "      <th>favs</th>\n",
       "      <td>0</td>\n",
       "      <td>1</td>\n",
       "      <td>72</td>\n",
       "    </tr>\n",
       "    <tr>\n",
       "      <th>views</th>\n",
       "      <td>236</td>\n",
       "      <td>353</td>\n",
       "      <td>1200</td>\n",
       "    </tr>\n",
       "    <tr>\n",
       "      <th>votes_plus</th>\n",
       "      <td>0</td>\n",
       "      <td>1</td>\n",
       "      <td>45</td>\n",
       "    </tr>\n",
       "    <tr>\n",
       "      <th>votes_minus</th>\n",
       "      <td>0</td>\n",
       "      <td>0</td>\n",
       "      <td>5</td>\n",
       "    </tr>\n",
       "    <tr>\n",
       "      <th>views_lognorm</th>\n",
       "      <td>-0.792687</td>\n",
       "      <td>-0.485214</td>\n",
       "      <td>0.44609</td>\n",
       "    </tr>\n",
       "    <tr>\n",
       "      <th>favs_lognorm</th>\n",
       "      <td>-1.34407</td>\n",
       "      <td>-0.831946</td>\n",
       "      <td>1.79402</td>\n",
       "    </tr>\n",
       "    <tr>\n",
       "      <th>comments_lognorm</th>\n",
       "      <td>-2.43687</td>\n",
       "      <td>-1.87319</td>\n",
       "      <td>0.574656</td>\n",
       "    </tr>\n",
       "  </tbody>\n",
       "</table>\n",
       "</div>"
      ],
      "text/plain": [
       "                                                               0  \\\n",
       "url                             https://habrahabr.ru/post/18284/   \n",
       "domain                                              habrahabr.ru   \n",
       "post_id                                                    18284   \n",
       "published                                    2008-01-01 18:19:00   \n",
       "author                                                    @Tapac   \n",
       "flow                                                     develop   \n",
       "polling                                                    False   \n",
       "content_len                                                 4305   \n",
       "title             Новогодний подарок блоггерам — WordPress 2.3.2   \n",
       "comments                                                       0   \n",
       "favs                                                           0   \n",
       "views                                                        236   \n",
       "votes_plus                                                     0   \n",
       "votes_minus                                                    0   \n",
       "views_lognorm                                          -0.792687   \n",
       "favs_lognorm                                            -1.34407   \n",
       "comments_lognorm                                        -2.43687   \n",
       "\n",
       "                                                                  1  \\\n",
       "url                                https://habrahabr.ru/post/18285/   \n",
       "domain                                                 habrahabr.ru   \n",
       "post_id                                                       18285   \n",
       "published                                       2008-01-01 18:30:00   \n",
       "author                                                   @DezmASter   \n",
       "flow                                                         design   \n",
       "polling                                                       False   \n",
       "content_len                                                    7344   \n",
       "title             Сумасшедшие яйца, или сервис для отслеживания ...   \n",
       "comments                                                          1   \n",
       "favs                                                              1   \n",
       "views                                                           353   \n",
       "votes_plus                                                        1   \n",
       "votes_minus                                                       0   \n",
       "views_lognorm                                             -0.485214   \n",
       "favs_lognorm                                              -0.831946   \n",
       "comments_lognorm                                           -1.87319   \n",
       "\n",
       "                                                                  2  \n",
       "url                                https://habrahabr.ru/post/18286/  \n",
       "domain                                                 habrahabr.ru  \n",
       "post_id                                                       18286  \n",
       "published                                       2008-01-01 18:34:00  \n",
       "author                                                   @DezmASter  \n",
       "flow                                                         design  \n",
       "polling                                                       False  \n",
       "content_len                                                    8431  \n",
       "title             Сумасшедшие яйца, или сервис для отслеживания ...  \n",
       "comments                                                         47  \n",
       "favs                                                             72  \n",
       "views                                                          1200  \n",
       "votes_plus                                                       45  \n",
       "votes_minus                                                       5  \n",
       "views_lognorm                                               0.44609  \n",
       "favs_lognorm                                                1.79402  \n",
       "comments_lognorm                                           0.574656  "
      ]
     },
     "execution_count": 3,
     "metadata": {},
     "output_type": "execute_result"
    }
   ],
   "source": [
    "train_df.head(3).T"
   ]
  },
  {
   "cell_type": "code",
   "execution_count": 4,
   "metadata": {
    "collapsed": false
   },
   "outputs": [
    {
     "data": {
      "text/plain": [
       "((134137, 17), (3990, 9))"
      ]
     },
     "execution_count": 4,
     "metadata": {},
     "output_type": "execute_result"
    }
   ],
   "source": [
    "train_df.shape, test_df.shape"
   ]
  },
  {
   "cell_type": "markdown",
   "metadata": {},
   "source": [
    "Убедимся, что данные отсортированы по признаку `published`"
   ]
  },
  {
   "cell_type": "code",
   "execution_count": 5,
   "metadata": {
    "collapsed": false
   },
   "outputs": [
    {
     "data": {
      "image/png": "[encoded data removed]",
      "text/plain": [
       "<matplotlib.figure.Figure at 0x7fb320ba5390>"
      ]
     },
     "metadata": {},
     "output_type": "display_data"
    }
   ],
   "source": [
    "train_df['published'].apply(lambda ts: pd.to_datetime(ts).value).plot();"
   ]
  },
  {
   "cell_type": "markdown",
   "metadata": {},
   "source": [
    "**Чтобы ответить на вопросы 1 и 2, можно использовать [pandas.DataFrame.corr()](http://pandas.pydata.org/pandas-docs/stable/generated/pandas.DataFrame.corr.html), [pandas.to_datetime()](http://pandas.pydata.org/pandas-docs/stable/generated/pandas.to_datetime.html) и [pandas.Series.value_counts()](http://pandas.pydata.org/pandas-docs/stable/generated/pandas.Series.value_counts.html)**"
   ]
  },
  {
   "cell_type": "markdown",
   "metadata": {},
   "source": [
    "<font color='red'>Вопрос 1.</font> Есть ли в train_df признаки, корреляция между которыми больше 0.9? Обратите внимание, именно различные признаки - корреляция признака с самим собой естественно больше 0.9 :)\n",
    "- да\n",
    "- нет +\n",
    "- не знаю"
   ]
  },
  {
   "cell_type": "code",
   "execution_count": 6,
   "metadata": {
    "collapsed": false
   },
   "outputs": [
    {
     "data": {
      "text/plain": [
       "comments_lognorm  comments_lognorm    1.000000\n",
       "favs_lognorm      favs_lognorm        1.000000\n",
       "polling           polling             1.000000\n",
       "content_len       content_len         1.000000\n",
       "comments          comments            1.000000\n",
       "favs              favs                1.000000\n",
       "votes_plus        votes_plus          1.000000\n",
       "votes_minus       votes_minus         1.000000\n",
       "views_lognorm     views_lognorm       1.000000\n",
       "views             views               1.000000\n",
       "post_id           post_id             1.000000\n",
       "views_lognorm     favs_lognorm        0.688811\n",
       "favs_lognorm      views_lognorm       0.688811\n",
       "comments          comments_lognorm    0.662740\n",
       "comments_lognorm  comments            0.662740\n",
       "views             favs                0.634304\n",
       "favs              views               0.634304\n",
       "votes_plus        comments            0.613961\n",
       "comments          votes_plus          0.613961\n",
       "favs_lognorm      favs                0.587982\n",
       "favs              favs_lognorm        0.587982\n",
       "views_lognorm     views               0.585105\n",
       "views             views_lognorm       0.585105\n",
       "comments_lognorm  views_lognorm       0.546530\n",
       "views_lognorm     comments_lognorm    0.546530\n",
       "comments_lognorm  votes_plus          0.525081\n",
       "votes_plus        comments_lognorm    0.525081\n",
       "favs_lognorm      comments_lognorm    0.479476\n",
       "comments_lognorm  favs_lognorm        0.479476\n",
       "votes_plus        votes_minus         0.464168\n",
       "                                        ...   \n",
       "votes_minus       polling             0.027116\n",
       "polling           votes_minus         0.027116\n",
       "                  views               0.025660\n",
       "views             polling             0.025660\n",
       "polling           favs                0.006882\n",
       "favs              polling             0.006882\n",
       "post_id           comments_lognorm   -0.001605\n",
       "comments_lognorm  post_id            -0.001605\n",
       "content_len       polling            -0.003337\n",
       "polling           content_len        -0.003337\n",
       "views_lognorm     polling            -0.003523\n",
       "polling           views_lognorm      -0.003523\n",
       "post_id           favs_lognorm       -0.005845\n",
       "favs_lognorm      post_id            -0.005845\n",
       "views_lognorm     post_id            -0.010376\n",
       "post_id           views_lognorm      -0.010376\n",
       "content_len       comments           -0.023544\n",
       "comments          content_len        -0.023544\n",
       "polling           votes_plus         -0.033505\n",
       "votes_plus        polling            -0.033505\n",
       "favs_lognorm      polling            -0.036385\n",
       "polling           favs_lognorm       -0.036385\n",
       "content_len       votes_minus        -0.078686\n",
       "votes_minus       content_len        -0.078686\n",
       "comments          post_id            -0.147763\n",
       "post_id           comments           -0.147763\n",
       "                  votes_plus         -0.187885\n",
       "votes_plus        post_id            -0.187885\n",
       "post_id           votes_minus        -0.235594\n",
       "votes_minus       post_id            -0.235594\n",
       "dtype: float64"
      ]
     },
     "execution_count": 6,
     "metadata": {},
     "output_type": "execute_result"
    }
   ],
   "source": [
    "#ваш код здесь\n",
    "train_df.corr().unstack().sort_values(inplace=False, ascending=False)"
   ]
  },
  {
   "cell_type": "markdown",
   "metadata": {},
   "source": [
    "<font color='red'>Вопрос 2.</font> В каком году было больше всего публикаций? (Рассматриваем train_df)\n",
    "- 2014\n",
    "- 2015 + \n",
    "- 2016\n",
    "- 2017"
   ]
  },
  {
   "cell_type": "code",
   "execution_count": 7,
   "metadata": {
    "collapsed": false
   },
   "outputs": [],
   "source": [
    "#ваш код здесь\n",
    "train_df['published'] = train_df['published'].apply(pd.to_datetime)"
   ]
  },
  {
   "cell_type": "code",
   "execution_count": 8,
   "metadata": {
    "collapsed": false
   },
   "outputs": [
    {
     "data": {
      "text/html": [
       "<div>\n",
       "<table border=\"1\" class=\"dataframe\">\n",
       "  <thead>\n",
       "    <tr style=\"text-align: right;\">\n",
       "      <th></th>\n",
       "      <th>post_id</th>\n",
       "      <th>published</th>\n",
       "      <th>published_year</th>\n",
       "    </tr>\n",
       "  </thead>\n",
       "  <tbody>\n",
       "    <tr>\n",
       "      <th>0</th>\n",
       "      <td>18284</td>\n",
       "      <td>2008-01-01 18:19:00</td>\n",
       "      <td>2008</td>\n",
       "    </tr>\n",
       "    <tr>\n",
       "      <th>1</th>\n",
       "      <td>18285</td>\n",
       "      <td>2008-01-01 18:30:00</td>\n",
       "      <td>2008</td>\n",
       "    </tr>\n",
       "    <tr>\n",
       "      <th>2</th>\n",
       "      <td>18286</td>\n",
       "      <td>2008-01-01 18:34:00</td>\n",
       "      <td>2008</td>\n",
       "    </tr>\n",
       "    <tr>\n",
       "      <th>3</th>\n",
       "      <td>18291</td>\n",
       "      <td>2008-01-02 01:32:00</td>\n",
       "      <td>2008</td>\n",
       "    </tr>\n",
       "    <tr>\n",
       "      <th>4</th>\n",
       "      <td>18294</td>\n",
       "      <td>2008-01-02 14:34:00</td>\n",
       "      <td>2008</td>\n",
       "    </tr>\n",
       "  </tbody>\n",
       "</table>\n",
       "</div>"
      ],
      "text/plain": [
       "   post_id           published  published_year\n",
       "0    18284 2008-01-01 18:19:00            2008\n",
       "1    18285 2008-01-01 18:30:00            2008\n",
       "2    18286 2008-01-01 18:34:00            2008\n",
       "3    18291 2008-01-02 01:32:00            2008\n",
       "4    18294 2008-01-02 14:34:00            2008"
      ]
     },
     "execution_count": 8,
     "metadata": {},
     "output_type": "execute_result"
    }
   ],
   "source": [
    "train_df['published_year'] = train_df['published'].apply(lambda x: x.year)\n",
    "train_df[['post_id', 'published', 'published_year']].head()"
   ]
  },
  {
   "cell_type": "code",
   "execution_count": 9,
   "metadata": {
    "collapsed": false
   },
   "outputs": [
    {
     "data": {
      "text/plain": [
       "published_year\n",
       "2008     7743\n",
       "2009    10783\n",
       "2010    13091\n",
       "2011    15063\n",
       "2012    15972\n",
       "2013    15537\n",
       "2014    16180\n",
       "2015    23452\n",
       "2016    16316\n",
       "Name: post_id, dtype: int64"
      ]
     },
     "execution_count": 9,
     "metadata": {},
     "output_type": "execute_result"
    }
   ],
   "source": [
    "posts_per_year = train_df.groupby('published_year')['post_id'].count()\n",
    "posts_per_year"
   ]
  },
  {
   "cell_type": "code",
   "execution_count": 10,
   "metadata": {
    "collapsed": false
   },
   "outputs": [
    {
     "data": {
      "text/plain": [
       "<matplotlib.axes._subplots.AxesSubplot at 0x7fb31eb914a8>"
      ]
     },
     "execution_count": 10,
     "metadata": {},
     "output_type": "execute_result"
    },
    {
     "data": {
      "image/png": "[encoded data removed]",
      "text/plain": [
       "<matplotlib.figure.Figure at 0x7fb31eab9668>"
      ]
     },
     "metadata": {},
     "output_type": "display_data"
    }
   ],
   "source": [
    "posts_per_year.plot(kind='bar')"
   ]
  },
  {
   "cell_type": "code",
   "execution_count": 11,
   "metadata": {
    "collapsed": false
   },
   "outputs": [
    {
     "data": {
      "text/plain": [
       "<matplotlib.axes._subplots.AxesSubplot at 0x7fb31caae550>"
      ]
     },
     "execution_count": 11,
     "metadata": {},
     "output_type": "execute_result"
    },
    {
     "data": {
      "image/png": "[encoded data removed]",
      "text/plain": [
       "<matplotlib.figure.Figure at 0x7fb35463a0f0>"
      ]
     },
     "metadata": {},
     "output_type": "display_data"
    }
   ],
   "source": [
    "train_df['published_year'].value_counts().plot(kind='bar')"
   ]
  },
  {
   "cell_type": "markdown",
   "metadata": {},
   "source": [
    "## Разбиение на train/valid\n",
    "Используем только признаки 'author', 'flow', 'domain' и 'title'"
   ]
  },
  {
   "cell_type": "code",
   "execution_count": 12,
   "metadata": {
    "collapsed": true
   },
   "outputs": [],
   "source": [
    "features = ['author', 'flow', 'domain','title']\n",
    "train_size = int(0.7 * train_df.shape[0])"
   ]
  },
  {
   "cell_type": "code",
   "execution_count": 13,
   "metadata": {
    "collapsed": false
   },
   "outputs": [
    {
     "data": {
      "text/plain": [
       "(134137, 93895)"
      ]
     },
     "execution_count": 13,
     "metadata": {},
     "output_type": "execute_result"
    }
   ],
   "source": [
    "len(train_df),train_size"
   ]
  },
  {
   "cell_type": "code",
   "execution_count": 14,
   "metadata": {
    "collapsed": true
   },
   "outputs": [],
   "source": [
    "X, y = train_df.ix[:, features],  train_df['favs_lognorm'] #отделяем признаки от целевой переменной\n",
    "\n",
    "X_test = test_df.ix[:, features]"
   ]
  },
  {
   "cell_type": "code",
   "execution_count": 15,
   "metadata": {
    "collapsed": false
   },
   "outputs": [
    {
     "data": {
      "text/html": [
       "<div>\n",
       "<table border=\"1\" class=\"dataframe\">\n",
       "  <thead>\n",
       "    <tr style=\"text-align: right;\">\n",
       "      <th></th>\n",
       "      <th>author</th>\n",
       "      <th>flow</th>\n",
       "      <th>domain</th>\n",
       "      <th>title</th>\n",
       "    </tr>\n",
       "  </thead>\n",
       "  <tbody>\n",
       "    <tr>\n",
       "      <th>0</th>\n",
       "      <td>@Tapac</td>\n",
       "      <td>develop</td>\n",
       "      <td>habrahabr.ru</td>\n",
       "      <td>Новогодний подарок блоггерам — WordPress 2.3.2</td>\n",
       "    </tr>\n",
       "    <tr>\n",
       "      <th>1</th>\n",
       "      <td>@DezmASter</td>\n",
       "      <td>design</td>\n",
       "      <td>habrahabr.ru</td>\n",
       "      <td>Сумасшедшие яйца, или сервис для отслеживания ...</td>\n",
       "    </tr>\n",
       "    <tr>\n",
       "      <th>2</th>\n",
       "      <td>@DezmASter</td>\n",
       "      <td>design</td>\n",
       "      <td>habrahabr.ru</td>\n",
       "      <td>Сумасшедшие яйца, или сервис для отслеживания ...</td>\n",
       "    </tr>\n",
       "    <tr>\n",
       "      <th>3</th>\n",
       "      <td>@Taoorus</td>\n",
       "      <td>design</td>\n",
       "      <td>habrahabr.ru</td>\n",
       "      <td>Сглаживание шрифтов, и субпиксельная отрисовка</td>\n",
       "    </tr>\n",
       "    <tr>\n",
       "      <th>4</th>\n",
       "      <td>@dennydo</td>\n",
       "      <td>NaN</td>\n",
       "      <td>geektimes.ru</td>\n",
       "      <td>Почему мне не нравится iPhone</td>\n",
       "    </tr>\n",
       "  </tbody>\n",
       "</table>\n",
       "</div>"
      ],
      "text/plain": [
       "       author     flow        domain  \\\n",
       "0      @Tapac  develop  habrahabr.ru   \n",
       "1  @DezmASter   design  habrahabr.ru   \n",
       "2  @DezmASter   design  habrahabr.ru   \n",
       "3    @Taoorus   design  habrahabr.ru   \n",
       "4    @dennydo      NaN  geektimes.ru   \n",
       "\n",
       "                                               title  \n",
       "0     Новогодний подарок блоггерам — WordPress 2.3.2  \n",
       "1  Сумасшедшие яйца, или сервис для отслеживания ...  \n",
       "2  Сумасшедшие яйца, или сервис для отслеживания ...  \n",
       "3     Сглаживание шрифтов, и субпиксельная отрисовка  \n",
       "4                      Почему мне не нравится iPhone  "
      ]
     },
     "execution_count": 15,
     "metadata": {},
     "output_type": "execute_result"
    }
   ],
   "source": [
    "X.head()"
   ]
  },
  {
   "cell_type": "code",
   "execution_count": 16,
   "metadata": {
    "collapsed": false
   },
   "outputs": [
    {
     "data": {
      "text/plain": [
       "0   -1.344075\n",
       "1   -0.831946\n",
       "2    1.794023\n",
       "3    1.300050\n",
       "4    0.961094\n",
       "Name: favs_lognorm, dtype: float64"
      ]
     },
     "execution_count": 16,
     "metadata": {},
     "output_type": "execute_result"
    }
   ],
   "source": [
    "y.head()"
   ]
  },
  {
   "cell_type": "code",
   "execution_count": 17,
   "metadata": {
    "collapsed": false
   },
   "outputs": [],
   "source": [
    "X_train, X_valid = X.iloc[:train_size, :], X.iloc[train_size:,:]\n",
    "\n",
    "y_train, y_valid = y.iloc[:train_size], y.iloc[train_size:]"
   ]
  },
  {
   "cell_type": "markdown",
   "metadata": {},
   "source": [
    "## Применение TfidfVectorizer\n",
    "\n",
    "**TF-IDF** (от англ. TF — term frequency, IDF — inverse document frequency) — статистическая мера, используемая для оценки важности слова в контексте документа, являющегося частью коллекции документов или корпуса. Вес некоторого слова пропорционален количеству употребления этого слова в документе, и обратно пропорционален частоте употребления слова в других документах коллекции. [Подробнее в источнике](https://ru.wikipedia.org/wiki/TF-IDF)\n",
    "\n",
    "TfidfVectorizer преобразует тексты в матрицу TF-IDF признаков.\n",
    "\n",
    "**Основные параметры TfidfVectorizer в sklearn:**\n",
    "- **min_df** - при построении словаря слова, которые встречаются *реже*, чем указанное значение, игнорируются\n",
    "- **max_df** - при построении словаря слова, которые встречаются *чаще*, чем указанное значение, игнорируются\n",
    "- **analyzer** - определяет, строятся ли признаки по словам или по символам (буквам)\n",
    "- **ngram_range** - определяет, формируются ли признаки только из отдельных слов или из нескольких слов (в случае с analyzer='char' задает количество символов). Например, если указать analyzer='word' и ngram_range=(1,3),то признаки будут формироваться из отдельных слов, из пар слов и из троек слов.\n",
    "- **stop_words** - слова, которые игнорируются при построении матрицы\n",
    "\n",
    "Более подробно с параметрами можно ознакомиться в [документации](http://scikit-learn.org/stable/modules/generated/sklearn.feature_extraction.text.TfidfVectorizer.html)"
   ]
  },
  {
   "cell_type": "markdown",
   "metadata": {},
   "source": [
    "**Инициализируйте TfidfVectorizer с параметрами min_df=3, max_df=0.3 и ngram_range=(1, 3).<br />\n",
    "Примените метод fit_transform к X_train['title'] и метод transform к X_valid['title'] и X_test['title']**"
   ]
  },
  {
   "cell_type": "markdown",
   "metadata": {},
   "source": [
    "<font color='red'>Вопрос 3.</font> Какой размер у полученного словаря?\n",
    "- 43789\n",
    "- 50624 +\n",
    "- 93895\n",
    "- 74378"
   ]
  },
  {
   "cell_type": "code",
   "execution_count": 18,
   "metadata": {
    "collapsed": true
   },
   "outputs": [],
   "source": [
    "#ваш код здесь\n",
    "vectorizer_title = TfidfVectorizer(min_df=3, max_df=0.3, ngram_range=(1,3))\n",
    "\n",
    "X_train_title = vectorizer_title.fit_transform(X_train['title'])\n",
    "X_valid_title = vectorizer_title.transform(X_valid['title'])\n",
    "X_test_title = vectorizer_title.transform(X_test['title'])"
   ]
  },
  {
   "cell_type": "code",
   "execution_count": 19,
   "metadata": {
    "collapsed": false
   },
   "outputs": [
    {
     "data": {
      "text/plain": [
       "{'ит инфраструктуры компании': 23809,\n",
       " 'мы учимся': 28922,\n",
       " 'вдогонку': 15017,\n",
       " 'детей от': 18507,\n",
       " 'со скидкой': 43759,\n",
       " 'милнера': 28046,\n",
       " 'росяма': 41725,\n",
       " 'ssi': 10412,\n",
       " 'оказался': 32966,\n",
       " 'запускает сервис': 21582,\n",
       " 'java конференция': 6158,\n",
       " 'похороны': 37629,\n",
       " 'хранилище': 48730,\n",
       " 'advanced format': 1336,\n",
       " 'высоконагруженного': 17032,\n",
       " 'ddos атака на': 3265,\n",
       " 'сессий php': 42885,\n",
       " 'фракталы': 48286,\n",
       " 'программируемый': 39095,\n",
       " 'пароли': 34605,\n",
       " 'одного человека': 32905,\n",
       " 'свободы программного': 42323,\n",
       " 'azure federations': 2042,\n",
       " 'банков': 13663,\n",
       " 'заменили': 21397,\n",
       " 'использование сканера': 23596,\n",
       " 'злые': 21918,\n",
       " 'технологий для': 46262,\n",
       " 'знать перед': 21978,\n",
       " 'amazon': 1443,\n",
       " 'разработка использованием': 40492,\n",
       " '04 raring ringtail': 42,\n",
       " 'икра': 22660,\n",
       " 'примере одного': 38649,\n",
       " 'по виртуализации': 35756,\n",
       " 'indesign': 5698,\n",
       " 'фестиваль 404 состоится': 47975,\n",
       " 'позиция': 36591,\n",
       " 'неделю 24': 31009,\n",
       " 'на ночь': 29753,\n",
       " 'рунету': 41838,\n",
       " 'путешествия': 39951,\n",
       " 'как работает': 24324,\n",
       " 'основе оценок': 33503,\n",
       " 'альфа версия': 13020,\n",
       " 'майкл': 27266,\n",
       " 'растений': 40884,\n",
       " 'распознавание речи часть': 40780,\n",
       " 'олимпиада по': 33023,\n",
       " 'для apache': 18835,\n",
       " 'прототипирование': 39703,\n",
       " 'товаров услуг': 46385,\n",
       " 'std': 10481,\n",
       " 'win32': 11965,\n",
       " 'волнового': 16179,\n",
       " 'гонке': 17676,\n",
       " 'для open': 18985,\n",
       " 'нужен ли на': 31941,\n",
       " 'весенний апдейт': 15387,\n",
       " 'реальной работе': 41024,\n",
       " 'синтаксический': 43054,\n",
       " 'от экс архитектора': 33832,\n",
       " 'qml': 9108,\n",
       " 'судебные': 45456,\n",
       " 'введение ocaml': 14981,\n",
       " 'анализ цен': 13067,\n",
       " 'создадут': 43991,\n",
       " 'инфраструктуры': 23473,\n",
       " 'страницах': 45225,\n",
       " 'ят': 50615,\n",
       " 'как поступить': 24299,\n",
       " 'nokia n810': 7900,\n",
       " 'like': 6622,\n",
       " 'письмами': 35252,\n",
       " 'родительном': 41592,\n",
       " 'glasses': 4726,\n",
       " 'поддержка windows': 36349,\n",
       " 'как уменьшить вероятность': 24431,\n",
       " 'сетевых': 42913,\n",
       " 'tizen': 10970,\n",
       " 'файлов': 47851,\n",
       " 'научной работы': 30600,\n",
       " 'тысяч долларов': 46817,\n",
       " 'сильных': 43020,\n",
       " 'websphere application': 11883,\n",
       " 'королевский': 25987,\n",
       " 'без': 13735,\n",
       " 'toshiba qosmio': 11062,\n",
       " 'web сервис': 11833,\n",
       " 'opera mobile для': 8207,\n",
       " 'scrumtrek agilerussia': 9815,\n",
       " 'для предзаказа': 19464,\n",
       " 'задания': 21236,\n",
       " 'под управлением ос': 36231,\n",
       " 'на russian ai': 29324,\n",
       " 'месяц': 27843,\n",
       " 'разработка своего': 40520,\n",
       " 'без сторонних': 13798,\n",
       " 'незаметно': 31054,\n",
       " 'визы': 15729,\n",
       " 'telnet': 10820,\n",
       " 'теперь доступны': 46027,\n",
       " 'java часть': 6173,\n",
       " 'mobility': 7348,\n",
       " 'качественнее': 24758,\n",
       " 'шифрование для': 49760,\n",
       " 'сканеров': 43244,\n",
       " 'данных javascript': 18045,\n",
       " 'передвижения компьютерных персонажей': 34928,\n",
       " 'платформе net': 35556,\n",
       " 'отчёт по': 34271,\n",
       " 'разработке по': 40532,\n",
       " 'оценка эффективности': 34369,\n",
       " 'как делают': 24048,\n",
       " 'google научился': 4961,\n",
       " 'j2ee': 6109,\n",
       " 'metro для': 7136,\n",
       " 'через google': 49243,\n",
       " 'тегов на': 45802,\n",
       " 'директор по': 18726,\n",
       " 'параметры': 34581,\n",
       " 'чипа': 49362,\n",
       " 'm3': 6845,\n",
       " 'win': 11963,\n",
       " 'на бесплатный семинар': 29462,\n",
       " 'generated': 4661,\n",
       " 'fowler gui architectures': 4431,\n",
       " 'на openshift': 29279,\n",
       " 'steamworks часть': 10490,\n",
       " 'shield': 9987,\n",
       " 'galileo часть': 4589,\n",
       " 'возглавил': 16088,\n",
       " 'age of': 1350,\n",
       " 'системное администрирование': 43143,\n",
       " 'датами': 18111,\n",
       " 'образовании': 32548,\n",
       " 'коллективной работы': 25268,\n",
       " 'встречайте': 16549,\n",
       " 'аналитики для': 13096,\n",
       " 'менеджеры': 27768,\n",
       " 'для разных': 19514,\n",
       " 'инкубатор для': 23051,\n",
       " 'mongodb vs': 7389,\n",
       " 'дубль': 20396,\n",
       " 'воплотить': 16195,\n",
       " 'онлайн игра': 33070,\n",
       " 'самостоятельное': 42090,\n",
       " 'за 10 дней': 20843,\n",
       " 'из социальных сетей': 22448,\n",
       " 'sc': 9774,\n",
       " 'html pdf': 5415,\n",
       " 'который не': 26147,\n",
       " '600 рублей': 1083,\n",
       " 'startups': 10471,\n",
       " 'required': 9393,\n",
       " 'франциско': 48291,\n",
       " 'рубика': 41754,\n",
       " 'пошло не так': 37761,\n",
       " 'предварительную': 37968,\n",
       " 'реле': 41307,\n",
       " 'на сенсорных': 29981,\n",
       " 'данных для': 18059,\n",
       " '2600': 792,\n",
       " 'потоком': 37600,\n",
       " 'на устройстве': 30075,\n",
       " 'достоянием': 20225,\n",
       " 'госуслуги': 17757,\n",
       " 'от skype': 33701,\n",
       " 'осрв': 33564,\n",
       " 'обзор видео': 32166,\n",
       " 'attached': 1988,\n",
       " 'java или': 6154,\n",
       " 'бизнес модель': 14094,\n",
       " 'стриминг': 45289,\n",
       " 'объектов php': 32713,\n",
       " 'масштабируемые': 27512,\n",
       " 'исполняется': 23569,\n",
       " 'работа usb': 40037,\n",
       " 'веб типографика сегодня': 15126,\n",
       " 'несколько вариантов': 31220,\n",
       " 'visual studio 2013': 11595,\n",
       " 'на vkontakte': 29382,\n",
       " 'обновился google': 32403,\n",
       " 'администрированию': 12788,\n",
       " 'создана программа': 44020,\n",
       " 'зарубежных': 21660,\n",
       " 'вам календарик': 14861,\n",
       " 'геометрических': 17391,\n",
       " 'анонимность': 13190,\n",
       " 'основанных на': 33485,\n",
       " 'bing': 2229,\n",
       " 'поиска по': 36639,\n",
       " 'марса от': 27413,\n",
       " 'samsung представит': 9742,\n",
       " '150': 367,\n",
       " 'восстановление': 16253,\n",
       " 'стоит помнить': 45147,\n",
       " 'instagram для': 5756,\n",
       " 'google cloud': 4810,\n",
       " 'def кодов': 3303,\n",
       " 'крови': 26332,\n",
       " 'друзьями': 20386,\n",
       " 'работы php': 40159,\n",
       " 'developer preview': 3419,\n",
       " 'диапазон': 18618,\n",
       " 'разные': 40426,\n",
       " 'приглашаю': 38363,\n",
       " 'движок': 18191,\n",
       " 'цвета': 48776,\n",
       " 'языкам': 50462,\n",
       " 'как добавить': 24053,\n",
       " 'практика': 37901,\n",
       " 'вкладками': 15844,\n",
       " 'бесплатных онлайн': 13996,\n",
       " 'зеркалок': 21893,\n",
       " 'запрещать': 21531,\n",
       " 'на ext': 29120,\n",
       " 'привёл': 38345,\n",
       " 'как подружил': 24277,\n",
       " 'основы linux': 33530,\n",
       " 'умные очки': 47236,\n",
       " 'динамическом': 18713,\n",
       " 'инстансов': 23101,\n",
       " 'tool': 11028,\n",
       " 'сатурна': 42171,\n",
       " 'черного': 49301,\n",
       " 'fusion drive': 4550,\n",
       " 'дефолтный': 18532,\n",
       " 'сокращение': 44180,\n",
       " 'файловых серверов': 47886,\n",
       " 'сообщения на': 44233,\n",
       " 'ведет переговоры': 15174,\n",
       " 'office 15': 8054,\n",
       " 'трудовой': 46754,\n",
       " 'android приложений для': 1578,\n",
       " 'как повысить': 24269,\n",
       " 'воин': 16157,\n",
       " 'новый модуль': 31717,\n",
       " 'редактор для': 41134,\n",
       " 'шкатулка': 49776,\n",
       " '11 10 oneiric': 219,\n",
       " 'мессенджера': 27817,\n",
       " 'помощью apache solr': 37134,\n",
       " 'персонализация': 35069,\n",
       " 'иностранный язык': 23080,\n",
       " 'из за рубежа': 22361,\n",
       " '12 октября': 283,\n",
       " 'activedirectory': 1278,\n",
       " 'исторических': 23720,\n",
       " 'главой': 17510,\n",
       " 'ошибиться': 34424,\n",
       " 'предлагают': 37988,\n",
       " 'враг': 16306,\n",
       " 'вышла публичная': 17210,\n",
       " 'найти инвестора': 30321,\n",
       " 'крупнейшая': 26391,\n",
       " '10 июня москве': 115,\n",
       " 'кулера': 26487,\n",
       " 'offers': 8052,\n",
       " 'visual studio 2005': 11591,\n",
       " 'геолокации': 17382,\n",
       " 'session manager': 9948,\n",
       " 'postgresql настройка': 8848,\n",
       " 'история двух': 23733,\n",
       " 'мы пишем': 28892,\n",
       " 'greenlight': 5089,\n",
       " 'браузер от': 14492,\n",
       " 'еду': 20523,\n",
       " 'концепции идеи': 25908,\n",
       " 'умные': 47234,\n",
       " 'студий': 45387,\n",
       " 'видеообзор ультрабука': 15641,\n",
       " 'шина': 49749,\n",
       " 'млечный': 28212,\n",
       " 'как купить': 24117,\n",
       " 'защита прав': 21746,\n",
       " 'солнечных батареях': 44207,\n",
       " '690': 1111,\n",
       " 'закладок': 21309,\n",
       " 'первый смартфон на': 34833,\n",
       " 'газ': 17244,\n",
       " 'стать богатым айтишником': 45019,\n",
       " 'смиритесь': 43643,\n",
       " 'как попасть': 24292,\n",
       " 'нужно помнить': 31959,\n",
       " 'разрабатывать приложения': 40454,\n",
       " 'беспроводных': 14027,\n",
       " 'для дизайнера': 19202,\n",
       " 'lapse': 6496,\n",
       " 'управления сайтами': 47379,\n",
       " 'тестирование приложений облаке': 46143,\n",
       " 'heartbleed': 5253,\n",
       " 'другие улучшения': 20356,\n",
       " 'максим': 27292,\n",
       " 'admeld': 1306,\n",
       " 'столов': 45178,\n",
       " 'net micro framework': 7708,\n",
       " 'сортировка': 44274,\n",
       " 'qip ru': 9100,\n",
       " 'движении': 18178,\n",
       " 'эксперту': 50027,\n",
       " 'на github': 29140,\n",
       " 'tt': 11161,\n",
       " 'yate': 12400,\n",
       " 'калининграде': 24533,\n",
       " 'динамически': 18699,\n",
       " 'скорости света': 43313,\n",
       " 'многие ко многим': 28242,\n",
       " 'иллюстрация история': 22878,\n",
       " 'во flex': 16014,\n",
       " 'bubble': 2399,\n",
       " 'украинской': 47131,\n",
       " '10 подкаст': 139,\n",
       " 'облачные услуги': 32335,\n",
       " 'практический js': 37924,\n",
       " 'версии skype': 15276,\n",
       " 'литий ионных': 26897,\n",
       " 'неудачная': 31290,\n",
       " 'международной': 27714,\n",
       " 'интернет банк': 23277,\n",
       " 'другой взгляд': 20365,\n",
       " 'альтернативный способ': 13009,\n",
       " 'бывшие сотрудники': 14702,\n",
       " 'trek': 11136,\n",
       " 'nutanix': 7977,\n",
       " 'по регистрации': 35940,\n",
       " 'вышел modx': 17153,\n",
       " 'аккаунтом': 12863,\n",
       " 'вышел twitter': 17166,\n",
       " 'микрофона': 27999,\n",
       " 'пишем первую': 35305,\n",
       " 'разработка iframe': 40471,\n",
       " 'нагрузкой 000 000': 30220,\n",
       " 'основе': 33494,\n",
       " 'wi fi': 11920,\n",
       " 'n900': 7621,\n",
       " 'неизвестные': 31061,\n",
       " 'verbatim': 11508,\n",
       " 'swift': 10662,\n",
       " 'gosuslugi ru': 5042,\n",
       " 'для своего сайта': 19570,\n",
       " 'работодателя': 40138,\n",
       " 'школа windows phone': 49784,\n",
       " 'начать использовать': 30673,\n",
       " 'депутатов': 18452,\n",
       " 'ringtail': 9447,\n",
       " 'приложений из': 38528,\n",
       " 'shadow': 9966,\n",
       " 'test': 10834,\n",
       " 'маркетинге': 27389,\n",
       " 'parallax scrolling': 8407,\n",
       " 'roverbook': 9512,\n",
       " 'дерева': 18454,\n",
       " 'sdk часть': 9829,\n",
       " 'на беспроводные сети': 29464,\n",
       " 'от бизнес': 33724,\n",
       " 'cgi': 2588,\n",
       " 'из двух': 22352,\n",
       " 'календарь событий': 24530,\n",
       " 'здорового образа': 21864,\n",
       " 'устроен': 47594,\n",
       " 'пароли открытом': 34607,\n",
       " 'плавная': 35352,\n",
       " 'лесу': 26720,\n",
       " 'скрестить': 43328,\n",
       " 'мосфильм': 28729,\n",
       " 'по 50': 35667,\n",
       " 'habr': 5153,\n",
       " '3d или': 933,\n",
       " 'за последнюю неделю': 21029,\n",
       " 'raspberry pi будет': 9256,\n",
       " 'wwdc 2014': 12229,\n",
       " 'roslyn': 9501,\n",
       " 'рекордный': 41296,\n",
       " 'opportunity': 8232,\n",
       " 'fitbit': 4285,\n",
       " 'четыре месяца': 49345,\n",
       " 'для opera': 18988,\n",
       " 'движением руки': 18177,\n",
       " 'умножения': 47229,\n",
       " 'методика': 27883,\n",
       " 'офисного': 34292,\n",
       " 'дороге': 20178,\n",
       " 'по libgdx часть': 35697,\n",
       " 'архитектуры x86': 13375,\n",
       " 'индикатор': 22999,\n",
       " 'программу без операционной': 39149,\n",
       " 'microsoft выпустили очередной': 7209,\n",
       " 'apple magic': 1749,\n",
       " 'polling': 8809,\n",
       " '500 миллионов долларов': 1038,\n",
       " 'туториал': 46802,\n",
       " 'rvm': 9647,\n",
       " '13 октября': 315,\n",
       " 'как обмануть': 24215,\n",
       " 'обзор asus eee': 32106,\n",
       " 'баумана': 13710,\n",
       " 'лидов': 26839,\n",
       " 'экономические': 49968,\n",
       " 'платформа 2010': 35539,\n",
       " 'simply': 10047,\n",
       " 'над системой': 30235,\n",
       " 'встречайте новый': 16558,\n",
       " 'биоинформатике': 14156,\n",
       " 'купить': 26507,\n",
       " 'это происходит': 50299,\n",
       " 'варианта': 14885,\n",
       " 'blogger': 2295,\n",
       " 'документов по': 19971,\n",
       " 'интервью бывшим участником': 23201,\n",
       " 'cross domain': 3079,\n",
       " 'silverlight': 10025,\n",
       " 'нововведениях': 31473,\n",
       " 'труда точки зрения': 46748,\n",
       " 'umi cms': 11297,\n",
       " 'не уйдёт': 30924,\n",
       " 'ведущие': 15180,\n",
       " 'об nlp часть': 32003,\n",
       " 'symfony cmf': 10684,\n",
       " 'разграничение прав': 40352,\n",
       " 'шанс': 49710,\n",
       " 'кому доверить': 25556,\n",
       " 'составляет': 44297,\n",
       " 'тратите': 46604,\n",
       " 'evernote теперь': 4016,\n",
       " 'за март': 20970,\n",
       " 'of persia': 8040,\n",
       " 'книга': 25085,\n",
       " 'самую': 42097,\n",
       " 'корпорация microsoft': 26029,\n",
       " 'js webgl': 6299,\n",
       " 'закончена': 21344,\n",
       " 'начать': 30671,\n",
       " 'стиву': 45102,\n",
       " 'первые мире': 34789,\n",
       " 'apple macbook': 1746,\n",
       " 'введение анализ': 14986,\n",
       " 'soft': 10200,\n",
       " 'it событий на': 6073,\n",
       " 'black isle': 2264,\n",
       " 'кратком изложении': 26235,\n",
       " 'инженер': 23016,\n",
       " 'этом месяце': 50329,\n",
       " 'pvs': 9039,\n",
       " 'обновление интерфейса': 32431,\n",
       " 'версии windows': 15280,\n",
       " 'на wp7': 29402,\n",
       " 'мультифон': 28835,\n",
       " 'materialized': 7007,\n",
       " 'троян для': 46738,\n",
       " 'карнеги меллон': 24636,\n",
       " 'миссии': 28183,\n",
       " 'проектом на': 39380,\n",
       " 'на sql': 29341,\n",
       " 'основанный': 33482,\n",
       " 'слияния': 43458,\n",
       " 'призовой': 38433,\n",
       " 'виток': 15836,\n",
       " 'производительность или': 39432,\n",
       " 'пакета': 34473,\n",
       " 'честно': 49325,\n",
       " 'активные': 12913,\n",
       " 'как всегда': 24018,\n",
       " 'компаний huawei': 25430,\n",
       " 'музыка для': 28787,\n",
       " 'проектировщиков': 39364,\n",
       " 'lance ru': 6485,\n",
       " 'егэ по информатике': 20500,\n",
       " 'командный': 25314,\n",
       " 'sms спама': 10171,\n",
       " 'дайджест интересных': 17973,\n",
       " 'amplifier xe': 1481,\n",
       " 'переезда на': 34936,\n",
       " 'monodevelop': 7394,\n",
       " 'поддержка': 36341,\n",
       " 'itablet': 6086,\n",
       " '30 ноября 2014': 867,\n",
       " 'совета которые': 43879,\n",
       " 'гаджет': 17234,\n",
       " 'wordpress на': 12176,\n",
       " 'красоты': 26212,\n",
       " 'geek week игровой': 4646,\n",
       " 'робот на': 41555,\n",
       " 'ricoh': 9441,\n",
       " 'watermark': 11746,\n",
       " 'как мы не': 24145,\n",
       " 'инструментах': 23123,\n",
       " 'directshow': 3506,\n",
       " 'подвергся хакерской': 36296,\n",
       " 'эргономика': 50226,\n",
       " 'посещения': 37388,\n",
       " 'сотовую сеть': 44326,\n",
       " 'qml qtquick': 9109,\n",
       " 'юар': 50380,\n",
       " 'комнате': 25395,\n",
       " 'veeam one': 11499,\n",
       " 'opera desktop': 8192,\n",
       " 'художника': 48760,\n",
       " 'система электронных дневников': 43124,\n",
       " 'простой rss': 39587,\n",
       " 'или пара слов': 22795,\n",
       " 'иже': 22267,\n",
       " 'backend для': 2085,\n",
       " 'общее': 32636,\n",
       " 'же он': 20683,\n",
       " 'выпуск 10': 16917,\n",
       " 'storm framework часть': 10536,\n",
       " 'история об': 23743,\n",
       " 'event driven': 3998,\n",
       " 'пишем веб': 35283,\n",
       " '11ac': 264,\n",
       " 'вас не': 14899,\n",
       " 'создание': 44022,\n",
       " 'e1tele com': 3742,\n",
       " '10 раз': 146,\n",
       " 'операция': 33170,\n",
       " 'ом единым': 33041,\n",
       " 'загрузка нескольких': 21193,\n",
       " 'ubuntu 04 beta': 11228,\n",
       " 'руководство по установке': 41805,\n",
       " 'путешествия по': 39954,\n",
       " 'конкурс на': 25637,\n",
       " 'круговая': 26385,\n",
       " 'нам на': 30367,\n",
       " 'сервисов windows': 42797,\n",
       " 'meego на': 7069,\n",
       " 'черно': 49297,\n",
       " 'установка alfresco community': 47544,\n",
       " 'lda': 6519,\n",
       " 'рунета 2014': 41835,\n",
       " 'flash память': 4319,\n",
       " 'за 2009 год': 20870,\n",
       " 'тестирует новый': 46184,\n",
       " 'открыто': 34046,\n",
       " 'уникальный': 47301,\n",
       " 'key': 6380,\n",
       " 'сложности выбора': 43491,\n",
       " 'проекта по': 39323,\n",
       " 'биометрическая': 14160,\n",
       " 'основе простейших примеров': 33506,\n",
       " 'интернет неделя': 23314,\n",
       " 'клиентом': 25026,\n",
       " 'adobe выпустили': 1328,\n",
       " 'restful web': 9417,\n",
       " 'show': 9997,\n",
       " 'facebook будет': 4122,\n",
       " 'end to end': 3885,\n",
       " 'продается': 39173,\n",
       " 'цифрах': 48896,\n",
       " 'близкое': 14223,\n",
       " 'ajax запросов': 1387,\n",
       " 'даст': 18097,\n",
       " 'защита персональных данных': 21745,\n",
       " 'обновляемся': 32474,\n",
       " 'web developer': 11781,\n",
       " 'для iphone ipod': 18920,\n",
       " 'используете вы': 23647,\n",
       " 'js модуль': 6306,\n",
       " 'грызун': 17904,\n",
       " 'отобразить': 34174,\n",
       " 'todomvc': 11018,\n",
       " 'данных реального проекта': 18083,\n",
       " 'десятков': 18490,\n",
       " 'box': 2355,\n",
       " 'изучаем derby': 22611,\n",
       " 'жестами': 20719,\n",
       " 'интернет не': 23313,\n",
       " 'элементы управления': 50165,\n",
       " 'последнюю неделю': 37429,\n",
       " 'mining': 7277,\n",
       " 'как замена': 24071,\n",
       " 'основе symfony2 часть': 33501,\n",
       " 'по ip': 35691,\n",
       " 'книг': 25080,\n",
       " 'современной': 43943,\n",
       " 'начало windows phone': 30650,\n",
       " 'vtune amplifier': 11699,\n",
       " 'прогноз': 38990,\n",
       " 'диалог выбора': 18612,\n",
       " 'что его': 49500,\n",
       " 'новые тарифы': 31644,\n",
       " 'деловых': 18370,\n",
       " 'we': 11764,\n",
       " 'начальника': 30665,\n",
       " 'instances': 5762,\n",
       " 'git visual': 4708,\n",
       " 'linux сервер': 6700,\n",
       " '210': 702,\n",
       " 'доллара': 20016,\n",
       " 'lte от': 6799,\n",
       " 'pentax': 8507,\n",
       " 'по фотографии': 36004,\n",
       " 'time machine': 10948,\n",
       " 'возможностями': 16131,\n",
       " 'квадрокоптер на': 24784,\n",
       " 'технологии которые': 46251,\n",
       " 'концерт': 25912,\n",
       " 'для netbeans': 18969,\n",
       " 'создание программ для': 44079,\n",
       " 'android для': 1540,\n",
       " 'слива': 43451,\n",
       " 'moai': 7313,\n",
       " 'управление active directory': 47330,\n",
       " 'месяцы': 27860,\n",
       " 'шаблонизатор на': 49669,\n",
       " 'на yet another': 29417,\n",
       " 'как смотреть': 24371,\n",
       " 'сервис подбора': 42765,\n",
       " 'продолжая': 39252,\n",
       " 'оптического распознавания': 33290,\n",
       " 'vlan': 11616,\n",
       " 'десктопа': 18476,\n",
       " 'days 2009': 3245,\n",
       " 'как это делается': 24466,\n",
       " 'вырос': 17008,\n",
       " 'бесплатный wi': 13960,\n",
       " 'для линукс': 19292,\n",
       " 'инжиниринга': 23040,\n",
       " 'патентах': 34673,\n",
       " 'создание проекта': 44081,\n",
       " 'смотреть': 43653,\n",
       " 'соломона': 44214,\n",
       " 'altium': 1439,\n",
       " 'выглядеть': 16798,\n",
       " '10 самых популярных': 150,\n",
       " 'корпорацией': 26021,\n",
       " 'code 2011': 2804,\n",
       " 'google public': 4875,\n",
       " 'компьютерных персонажей часть': 25541,\n",
       " 'server technical preview': 9927,\n",
       " 'написание': 30406,\n",
       " 'cvs': 3175,\n",
       " 'машинами kvm': 27601,\n",
       " 'меня': 27788,\n",
       " 'искусственный разум': 23526,\n",
       " 'авторского права часть': 12718,\n",
       " 'репозиторий для': 41380,\n",
       " 'для nix': 18973,\n",
       " 'всей': 16437,\n",
       " 'голоса': 17643,\n",
       " 'управленцем': 47389,\n",
       " 'firefox os': 4260,\n",
       " 'обработки текстов': 32534,\n",
       " 'browser': 2381,\n",
       " 'россии теперь': 41670,\n",
       " 'всё ли': 16598,\n",
       " 'mssql': 7521,\n",
       " 'ubuntu 14': 11243,\n",
       " 'кто пишет': 26452,\n",
       " 'счастье': 45563,\n",
       " 'org ua': 8283,\n",
       " 'зарядка': 21666,\n",
       " 'soap': 10189,\n",
       " 'java flex': 6136,\n",
       " 'легкий способ': 26657,\n",
       " 'rk3188': 9460,\n",
       " 'обновился': 32402,\n",
       " 'иерархические': 22263,\n",
       " 'американском': 13041,\n",
       " 'cream': 3062,\n",
       " 'своими': 42351,\n",
       " 'real time': 9310,\n",
       " 'на чипе': 30099,\n",
       " 'конференции cloud os': 25817,\n",
       " '1с битрикс': 486,\n",
       " 'архивация': 13348,\n",
       " 'шрифтами': 49861,\n",
       " 'pdp': 8490,\n",
       " 'по it': 35692,\n",
       " 'trend': 11138,\n",
       " 'персональный компьютер': 35082,\n",
       " 'закончить': 21351,\n",
       " 'специалиста': 44478,\n",
       " 'инъекция': 23483,\n",
       " 'master': 6995,\n",
       " 'net forge cms': 7704,\n",
       " 'успехе': 47509,\n",
       " 'анонсирована': 13215,\n",
       " 'консольное приложение': 25682,\n",
       " 'netwrix password': 7782,\n",
       " 'stackoverflow com': 10430,\n",
       " 'навигатора': 30179,\n",
       " 'докладчиков на': 19938,\n",
       " 'изображению': 22582,\n",
       " 'мысли вслух': 28931,\n",
       " 'v8': 11452,\n",
       " 'простой интерпретатор на': 39595,\n",
       " 'гиковский': 17452,\n",
       " 'добро или зло': 19872,\n",
       " 'столлмана': 45177,\n",
       " 'текста на': 45812,\n",
       " 'планшета asus': 35444,\n",
       " 'веб разработчику': 15083,\n",
       " 'мира айти': 28131,\n",
       " 'феерическая': 47958,\n",
       " 'коллегам': 25260,\n",
       " 'мая': 27626,\n",
       " 'пошаговое руководство': 37754,\n",
       " 'последний': 37418,\n",
       " 'apps for': 1807,\n",
       " 'на обычном': 29761,\n",
       " 'намерен': 30375,\n",
       " 'новости недели': 31574,\n",
       " 'флешки от': 48115,\n",
       " 'лучший': 27120,\n",
       " 'на торговых': 30057,\n",
       " 'слов': 43459,\n",
       " 'дизайн': 18627,\n",
       " 'микроволновка': 27972,\n",
       " 'создавал': 43978,\n",
       " 'голоса за': 17644,\n",
       " 'запустит': 21609,\n",
       " 'расширения для opera': 40948,\n",
       " 'лунохода': 27086,\n",
       " 'посмотрел': 37460,\n",
       " 'внес': 15961,\n",
       " 'как создается': 24383,\n",
       " 'доменное': 20099,\n",
       " 'мобильных приложений delphi': 28400,\n",
       " 'поисковиками': 36664,\n",
       " 'сетевое программирование для': 42898,\n",
       " 'практики часть': 37909,\n",
       " 'сети yota': 42928,\n",
       " 'компьютерная мышь': 25516,\n",
       " 'опроса': 33237,\n",
       " 'smart pc': 10141,\n",
       " 'ткань': 46351,\n",
       " 'предоставляет': 38016,\n",
       " 'способов улучшить': 44592,\n",
       " 'сравнение цен': 44662,\n",
       " 'поисковый': 36683,\n",
       " 'финальная регистрация': 48052,\n",
       " 'пачку': 34712,\n",
       " 'на nancyfx': 29256,\n",
       " 'новый иск': 31705,\n",
       " 'по электронной почте': 36017,\n",
       " 'доходы': 20316,\n",
       " 'разработчиков на платформе': 40635,\n",
       " 'награждения': 30212,\n",
       " 'z3 compact': 12452,\n",
       " 'жаргон': 20659,\n",
       " 'оказывается': 32968,\n",
       " 'ожидает': 32947,\n",
       " 'сводка': 42325,\n",
       " 'научился понимать': 30587,\n",
       " 'товаров': 46382,\n",
       " 'мук экспо 2013': 28818,\n",
       " 'js': 6288,\n",
       " 'что то очень': 49602,\n",
       " 'отчёт opera software': 34267,\n",
       " 'мы провели': 28900,\n",
       " 'модульные': 28512,\n",
       " 'запуск visual': 21564,\n",
       " 'эмулятор gameboy часть': 50183,\n",
       " 'nanocad спдс на': 7641,\n",
       " 'яндекс директа': 50524,\n",
       " 'восьми': 16272,\n",
       " 'желания': 20691,\n",
       " 'hyper windows': 5482,\n",
       " 'headhunter': 5250,\n",
       " 'tizen developer': 10973,\n",
       " 'html писем': 5419,\n",
       " 'искусство программирования под': 23531,\n",
       " 'high performance': 5299,\n",
       " 'тонкого': 46448,\n",
       " 'зависимость': 21142,\n",
       " 'sempron': 9881,\n",
       " 'форума на': 48212,\n",
       " 'отключения': 33979,\n",
       " 'приложения или': 38580,\n",
       " 'kolibrios что': 6444,\n",
       " 'избранного': 22489,\n",
       " 'release': 9361,\n",
       " 'один конец': 32841,\n",
       " 'фриланс как средство': 48314,\n",
       " 'зарядных': 21677,\n",
       " 'сбербанк онлайн': 42181,\n",
       " 'европейских': 20470,\n",
       " 'ru center': 9547,\n",
       " 'подсказки на': 36501,\n",
       " 'ces 2011': 2581,\n",
       " 'мысли по поводу': 28934,\n",
       " 'xx советы трюки': 12373,\n",
       " 'быстрой смены': 14748,\n",
       " 'android jelly': 1517,\n",
       " '19 февраля': 453,\n",
       " 'html5 camp': 5429,\n",
       " 'движется': 18183,\n",
       " 'park': 8419,\n",
       " 'web standards': 11798,\n",
       " 'казнить нельзя': 23960,\n",
       " 'головы': 17637,\n",
       " 'на android market': 29027,\n",
       " 'статьи интервью 23': 45038,\n",
       " 'плагинов для autocad': 35378,\n",
       " 'hyperloop': 5485,\n",
       " 'что где': 49478,\n",
       " 'rpg': 9518,\n",
       " 'вы относитесь': 16717,\n",
       " 'серьёзные проблемы': 42880,\n",
       " 'garbage collection': 4613,\n",
       " 'интеграции': 23137,\n",
       " 'моей студии': 28531,\n",
       " 'нету': 31287,\n",
       " 'новый тип': 31759,\n",
       " 'правила игры': 37827,\n",
       " 'игр на': 22073,\n",
       " 'нужны ли': 31967,\n",
       " 'фильме': 48016,\n",
       " 'телефонов': 45924,\n",
       " 'социальной сети': 44395,\n",
       " 'линзы': 26863,\n",
       " 'на mwc': 29249,\n",
       " 'проект для': 39298,\n",
       " 'v1': 11441,\n",
       " 'солнечный': 44202,\n",
       " 'версию для': 15300,\n",
       " 'todo': 11017,\n",
       " 'framework selenium': 4449,\n",
       " 'тестирования android приложений': 46160,\n",
       " 'led': 6539,\n",
       " 'взгляд со': 15466,\n",
       " 'meeting': 7073,\n",
       " 'принципов психологии для': 38732,\n",
       " 'хабру': 48457,\n",
       " 'прием граждан': 38396,\n",
       " 'отдельный': 33906,\n",
       " 'training': 11112,\n",
       " 'oracle adf': 8250,\n",
       " 'пин': 35184,\n",
       " 'толстой': 46407,\n",
       " 'неожиданные результаты': 31176,\n",
       " 'клонирования': 25052,\n",
       " 'на asterisk': 29047,\n",
       " 'продвинутый': 39233,\n",
       " 'корзине': 25970,\n",
       " 'как мне': 24126,\n",
       " 'соображения по архитектуре': 44219,\n",
       " 'провайдеров за': 38933,\n",
       " 'чистой': 49397,\n",
       " 'кривая': 26285,\n",
       " 'разрабатывать приложения для': 40455,\n",
       " 'актуальность': 12923,\n",
       " 'по проектированию пользовательских': 35913,\n",
       " 'на cms': 29073,\n",
       " 'интерпретаторов': 23365,\n",
       " 'двумя сенсорными дисплеями': 18216,\n",
       " 'phdays iv': 8557,\n",
       " '196': 455,\n",
       " 'ipod touch iphone': 6000,\n",
       " 'ouya': 8339,\n",
       " 'начать писать': 30675,\n",
       " 'общая информация': 32632,\n",
       " 'девятый': 18260,\n",
       " 'убить': 46871,\n",
       " 'самый полезный': 42124,\n",
       " 'кран': 26189,\n",
       " 'клеток': 24994,\n",
       " 'awards': 2024,\n",
       " 'rich': 9440,\n",
       " 'рекомендательная': 41268,\n",
       " 'на раз два': 29904,\n",
       " 'сохранение': 44360,\n",
       " '2008 году': 546,\n",
       " 'конференция foss': 25847,\n",
       " 'материалов за': 27546,\n",
       " 'большого адронного коллайдера': 14392,\n",
       " 'карме': 24630,\n",
       " '63': 1091,\n",
       " 'ней': 31067,\n",
       " 'жк': 20806,\n",
       " 'шлюзов': 49824,\n",
       " 'skype beta для': 10094,\n",
       " 'встречайте бесплатный': 16556,\n",
       " 'даже не': 17964,\n",
       " 'по новому': 35856,\n",
       " 'вычисления чисел фибоначчи': 17117,\n",
       " 'css без': 3107,\n",
       " 'паутины': 34709,\n",
       " 'vol': 11647,\n",
       " 'хороших разных': 48626,\n",
       " 'утечек памяти': 47646,\n",
       " 'отказались': 33950,\n",
       " 'профессию': 39726,\n",
       " 'xakep': 12261,\n",
       " 'мебели': 27648,\n",
       " 'алексей федосеев': 12974,\n",
       " 'призывает': 38440,\n",
       " 'вопросы экспертам': 16227,\n",
       " 'великие слова': 15207,\n",
       " 'rosa': 9499,\n",
       " 'последнюю неделю 19': 37436,\n",
       " 'nginx php': 7816,\n",
       " 'для виртуальных машин': 19159,\n",
       " 'для самых маленьких': 19564,\n",
       " 'конец света': 25588,\n",
       " 'сотрудников': 44340,\n",
       " 'из dvd': 22289,\n",
       " 'качеству': 24774,\n",
       " 'inde': 5695,\n",
       " 'corona sdk': 3023,\n",
       " 'зал': 21387,\n",
       " 'google android': 4785,\n",
       " 'dual boot': 3706,\n",
       " 'свободно': 42297,\n",
       " 'data services': 3214,\n",
       " 'qt для': 9134,\n",
       " 'leap motion': 6534,\n",
       " 'living': 6741,\n",
       " 'будущее за': 14627,\n",
       " 'на html5': 29178,\n",
       " 'планшета wacom': 35453,\n",
       " 'explay cms': 4052,\n",
       " 'нечетких дубликатов': 31307,\n",
       " 'ru не': 9570,\n",
       " 'recognition': 9321,\n",
       " 'стоит задуматься': 45141,\n",
       " 'меняться': 27798,\n",
       " 'web fonts': 11783,\n",
       " 'раскрыт': 40752,\n",
       " 'деньги кошелька': 18441,\n",
       " 'все лучшее': 16389,\n",
       " 'samba': 9687,\n",
       " 'недели': 30981,\n",
       " 'internet explorer для': 5841,\n",
       " 'telerik': 10819,\n",
       " 'наполовину': 30428,\n",
       " 'верните': 15251,\n",
       " 'исправление': 23679,\n",
       " 'для печати на': 19428,\n",
       " 'стороны заказчика': 45205,\n",
       " 'студии агентстве': 45382,\n",
       " 'за 2013': 20877,\n",
       " 'владивостока': 15899,\n",
       " 'электрическую': 50068,\n",
       " 'громкости': 17880,\n",
       " 'космических аппаратов': 26064,\n",
       " 'street попала': 10548,\n",
       " 'центрах': 48854,\n",
       " 'из бумаги': 22340,\n",
       " 'работа предпочтениями': 40054,\n",
       " 'phone windows': 8581,\n",
       " 'linux сервера': 6701,\n",
       " 'google google': 4838,\n",
       " 'мир лучше': 28123,\n",
       " 'groupon': 5098,\n",
       " 'сооснователи': 44249,\n",
       " 'архивов': 13351,\n",
       " 'forum 2014': 4416,\n",
       " 'новая услуга': 31439,\n",
       " 'любителей': 27156,\n",
       " 'неделя jquery': 31019,\n",
       " 'на выставке': 29527,\n",
       " 'задач windows': 21241,\n",
       " 'сервера apache': 42702,\n",
       " 'фотографа': 48236,\n",
       " 'развенчание': 40301,\n",
       " 'каждой': 23936,\n",
       " 'начал работать': 30635,\n",
       " 'jabber сервера': 6116,\n",
       " 'пароли пользователей': 34608,\n",
       " 'последнюю неделю 26': 37441,\n",
       " 'знаю ооп': 21994,\n",
       " 'отзывчивые изображения': 33934,\n",
       " 'jevix': 6237,\n",
       " 'для встраиваемых систем': 19176,\n",
       " 'воруют': 16234,\n",
       " 'стабильной версии': 44762,\n",
       " 'закончились': 21347,\n",
       " 'ботнету': 14457,\n",
       " 'кода от': 25194,\n",
       " 'системы распознавания речи': 43193,\n",
       " 'google наконец то': 4959,\n",
       " '200 миллионов': 519,\n",
       " 'то что': 46364,\n",
       " 'петербургской группы': 35129,\n",
       " 'обзор htc hd2': 32123,\n",
       " 'новой почты': 31530,\n",
       " 'nomobile ru на': 7913,\n",
       " 'страсти': 45253,\n",
       " 'алгоритмы поиска': 12963,\n",
       " 'обновление прошивки': 32441,\n",
       " 'списка sharepoint': 44517,\n",
       " 'разработчика мобильных': 40599,\n",
       " 'vcstart': 11489,\n",
       " 'выложены': 16887,\n",
       " 'telegram': 10818,\n",
       " 'server 2012 r2': 9916,\n",
       " 'про windows phone': 38860,\n",
       " 'оригами расширенная реальность': 33405,\n",
       " 'по libgdx': 35696,\n",
       " 'комета ison': 25323,\n",
       " 'алгоритме': 12953,\n",
       " 'просьбам': 39652,\n",
       " 'высокие': 17015,\n",
       " 'чемпионата': 49210,\n",
       " 'на службе полиции': 29998,\n",
       " 'edition на': 3784,\n",
       " 'школьная': 49798,\n",
       " 'доле': 19994,\n",
       " ...}"
      ]
     },
     "execution_count": 19,
     "metadata": {},
     "output_type": "execute_result"
    }
   ],
   "source": [
    "#Можно посмотреть словарь в виде {'термин': индекс признака,...}\n",
    "vectorizer_title.vocabulary_"
   ]
  },
  {
   "cell_type": "code",
   "execution_count": 20,
   "metadata": {
    "collapsed": false
   },
   "outputs": [
    {
     "data": {
      "text/plain": [
       "50624"
      ]
     },
     "execution_count": 20,
     "metadata": {},
     "output_type": "execute_result"
    }
   ],
   "source": [
    "#ваш код здесь\n",
    "len(vectorizer_title.vocabulary_)"
   ]
  },
  {
   "cell_type": "markdown",
   "metadata": {},
   "source": [
    "<font color='red'>Вопрос 4.</font> Какой индекс у слова 'python'?\n",
    "- 1\n",
    "- 10\n",
    "- 9065 + \n",
    "- 15679"
   ]
  },
  {
   "cell_type": "code",
   "execution_count": 21,
   "metadata": {
    "collapsed": false
   },
   "outputs": [
    {
     "data": {
      "text/plain": [
       "9065"
      ]
     },
     "execution_count": 21,
     "metadata": {},
     "output_type": "execute_result"
    }
   ],
   "source": [
    "#ваш код здесь\n",
    "vectorizer_title.vocabulary_['python']"
   ]
  },
  {
   "cell_type": "markdown",
   "metadata": {},
   "source": [
    "**Инициализируйте TfidfVectorizer, указав analyzer='char'.<br />\n",
    "Примените метод fit_transform к X_train['title'] и метод transform к X_valid['title'] и X_test['title']**"
   ]
  },
  {
   "cell_type": "markdown",
   "metadata": {},
   "source": [
    "<font color='red'>Вопрос 5.</font> Какой размер у полученного словаря?\n",
    "- 218 +\n",
    "- 510\n",
    "- 125\n",
    "- 981"
   ]
  },
  {
   "cell_type": "code",
   "execution_count": 22,
   "metadata": {
    "collapsed": true
   },
   "outputs": [],
   "source": [
    "vectorizer_title_ch = TfidfVectorizer(analyzer='char')\n",
    "\n",
    "X_train_title_ch = vectorizer_title_ch.fit_transform(X_train['title'])\n",
    "X_valid_title_ch = vectorizer_title_ch.transform(X_valid['title'])\n",
    "X_test_title_ch = vectorizer_title_ch.transform(X_test['title'])"
   ]
  },
  {
   "cell_type": "code",
   "execution_count": 23,
   "metadata": {
    "collapsed": false
   },
   "outputs": [
    {
     "data": {
      "text/plain": [
       "{' ': 0,\n",
       " '!': 1,\n",
       " '\"': 2,\n",
       " '#': 3,\n",
       " '$': 4,\n",
       " '%': 5,\n",
       " '&': 6,\n",
       " \"'\": 7,\n",
       " '(': 8,\n",
       " ')': 9,\n",
       " '*': 10,\n",
       " '+': 11,\n",
       " ',': 12,\n",
       " '-': 13,\n",
       " '.': 14,\n",
       " '/': 15,\n",
       " '0': 16,\n",
       " '1': 17,\n",
       " '2': 18,\n",
       " '3': 19,\n",
       " '4': 20,\n",
       " '5': 21,\n",
       " '6': 22,\n",
       " '7': 23,\n",
       " '8': 24,\n",
       " '9': 25,\n",
       " ':': 26,\n",
       " ';': 27,\n",
       " '<': 28,\n",
       " '=': 29,\n",
       " '>': 30,\n",
       " '?': 31,\n",
       " '@': 32,\n",
       " '[': 33,\n",
       " '\\\\': 34,\n",
       " ']': 35,\n",
       " '^': 36,\n",
       " '_': 37,\n",
       " '`': 38,\n",
       " 'a': 39,\n",
       " 'b': 40,\n",
       " 'c': 41,\n",
       " 'd': 42,\n",
       " 'e': 43,\n",
       " 'f': 44,\n",
       " 'g': 45,\n",
       " 'h': 46,\n",
       " 'i': 47,\n",
       " 'j': 48,\n",
       " 'k': 49,\n",
       " 'l': 50,\n",
       " 'm': 51,\n",
       " 'n': 52,\n",
       " 'o': 53,\n",
       " 'p': 54,\n",
       " 'q': 55,\n",
       " 'r': 56,\n",
       " 's': 57,\n",
       " 't': 58,\n",
       " 'u': 59,\n",
       " 'v': 60,\n",
       " 'w': 61,\n",
       " 'x': 62,\n",
       " 'y': 63,\n",
       " 'z': 64,\n",
       " '{': 65,\n",
       " '|': 66,\n",
       " '}': 67,\n",
       " '~': 68,\n",
       " '\\x92': 69,\n",
       " '\\x97': 70,\n",
       " '\\xa0': 71,\n",
       " '£': 72,\n",
       " '¥': 73,\n",
       " '§': 74,\n",
       " '©': 75,\n",
       " '«': 76,\n",
       " '\\xad': 77,\n",
       " '®': 78,\n",
       " '°': 79,\n",
       " '±': 80,\n",
       " '²': 81,\n",
       " 'µ': 82,\n",
       " '·': 83,\n",
       " '¹': 84,\n",
       " '»': 85,\n",
       " '¼': 86,\n",
       " '½': 87,\n",
       " '×': 88,\n",
       " 'à': 89,\n",
       " 'á': 90,\n",
       " 'â': 91,\n",
       " 'ä': 92,\n",
       " 'ç': 93,\n",
       " 'é': 94,\n",
       " 'ë': 95,\n",
       " 'ï': 96,\n",
       " 'ñ': 97,\n",
       " 'ò': 98,\n",
       " 'ó': 99,\n",
       " 'ö': 100,\n",
       " 'ø': 101,\n",
       " 'ù': 102,\n",
       " 'ú': 103,\n",
       " 'ü': 104,\n",
       " 'ı': 105,\n",
       " 'ǝ': 106,\n",
       " 'ɟ': 107,\n",
       " 'ʇ': 108,\n",
       " '́': 109,\n",
       " '̆': 110,\n",
       " '̱': 111,\n",
       " '̲': 112,\n",
       " '̶': 113,\n",
       " 'β': 114,\n",
       " 'δ': 115,\n",
       " 'λ': 116,\n",
       " 'μ': 117,\n",
       " 'π': 118,\n",
       " 'ω': 119,\n",
       " 'а': 120,\n",
       " 'б': 121,\n",
       " 'в': 122,\n",
       " 'г': 123,\n",
       " 'д': 124,\n",
       " 'е': 125,\n",
       " 'ж': 126,\n",
       " 'з': 127,\n",
       " 'и': 128,\n",
       " 'й': 129,\n",
       " 'к': 130,\n",
       " 'л': 131,\n",
       " 'м': 132,\n",
       " 'н': 133,\n",
       " 'о': 134,\n",
       " 'п': 135,\n",
       " 'р': 136,\n",
       " 'с': 137,\n",
       " 'т': 138,\n",
       " 'у': 139,\n",
       " 'ф': 140,\n",
       " 'х': 141,\n",
       " 'ц': 142,\n",
       " 'ч': 143,\n",
       " 'ш': 144,\n",
       " 'щ': 145,\n",
       " 'ъ': 146,\n",
       " 'ы': 147,\n",
       " 'ь': 148,\n",
       " 'э': 149,\n",
       " 'ю': 150,\n",
       " 'я': 151,\n",
       " 'ё': 152,\n",
       " 'і': 153,\n",
       " 'ї': 154,\n",
       " 'ј': 155,\n",
       " 'ў': 156,\n",
       " 'ѣ': 157,\n",
       " 'қ': 158,\n",
       " '۞': 159,\n",
       " '۩': 160,\n",
       " '฿': 161,\n",
       " '\\u2002': 162,\n",
       " '\\u2006': 163,\n",
       " '\\u2009': 164,\n",
       " '\\u200b': 165,\n",
       " '\\u200e': 166,\n",
       " '‐': 167,\n",
       " '‑': 168,\n",
       " '–': 169,\n",
       " '—': 170,\n",
       " '―': 171,\n",
       " '‘': 172,\n",
       " '’': 173,\n",
       " '“': 174,\n",
       " '”': 175,\n",
       " '„': 176,\n",
       " '•': 177,\n",
       " '…': 178,\n",
       " '\\u2028': 179,\n",
       " '\\u202c': 180,\n",
       " '\\u202d': 181,\n",
       " '′': 182,\n",
       " '″': 183,\n",
       " '‽': 184,\n",
       " '⁰': 185,\n",
       " '€': 186,\n",
       " '№': 187,\n",
       " '™': 188,\n",
       " '⅓': 189,\n",
       " '⅜': 190,\n",
       " '←': 191,\n",
       " '↑': 192,\n",
       " '→': 193,\n",
       " '↔': 194,\n",
       " '↺': 195,\n",
       " '⇄': 196,\n",
       " '⇒': 197,\n",
       " '⇨': 198,\n",
       " '−': 199,\n",
       " '∙': 200,\n",
       " '≈': 201,\n",
       " '≠': 202,\n",
       " '━': 203,\n",
       " '▼': 204,\n",
       " '☠': 205,\n",
       " '☢': 206,\n",
       " '☣': 207,\n",
       " '☼': 208,\n",
       " '♠': 209,\n",
       " '♥': 210,\n",
       " '♫': 211,\n",
       " '❤': 212,\n",
       " '印': 213,\n",
       " '打': 214,\n",
       " '机': 215,\n",
       " '\\ufeff': 216,\n",
       " '！': 217}"
      ]
     },
     "execution_count": 23,
     "metadata": {},
     "output_type": "execute_result"
    }
   ],
   "source": [
    "#Здесь так же можно посмотреть словарь\n",
    "#Заметьте насколько отличаются словари для TfidfVectorizer с analyzer='word' и analyzer='char'\n",
    "vectorizer_title_ch.vocabulary_"
   ]
  },
  {
   "cell_type": "code",
   "execution_count": 24,
   "metadata": {
    "collapsed": false
   },
   "outputs": [
    {
     "data": {
      "text/plain": [
       "218"
      ]
     },
     "execution_count": 24,
     "metadata": {},
     "output_type": "execute_result"
    }
   ],
   "source": [
    "#ваш код здесь\n",
    "len(vectorizer_title_ch.vocabulary_)"
   ]
  },
  {
   "cell_type": "markdown",
   "metadata": {},
   "source": [
    "## Работа с категориальными признаками\n",
    "\n",
    "Для обработки категориальных признаков 'author', 'flow', 'domain' мы будем использовать DictVectorizer из sklearn."
   ]
  },
  {
   "cell_type": "code",
   "execution_count": 25,
   "metadata": {
    "collapsed": false,
    "scrolled": true
   },
   "outputs": [
    {
     "data": {
      "text/html": [
       "<div>\n",
       "<table border=\"1\" class=\"dataframe\">\n",
       "  <thead>\n",
       "    <tr style=\"text-align: right;\">\n",
       "      <th></th>\n",
       "      <th>author</th>\n",
       "      <th>flow</th>\n",
       "      <th>domain</th>\n",
       "    </tr>\n",
       "  </thead>\n",
       "  <tbody>\n",
       "    <tr>\n",
       "      <th>0</th>\n",
       "      <td>@Tapac</td>\n",
       "      <td>develop</td>\n",
       "      <td>habrahabr.ru</td>\n",
       "    </tr>\n",
       "    <tr>\n",
       "      <th>1</th>\n",
       "      <td>@DezmASter</td>\n",
       "      <td>design</td>\n",
       "      <td>habrahabr.ru</td>\n",
       "    </tr>\n",
       "    <tr>\n",
       "      <th>2</th>\n",
       "      <td>@DezmASter</td>\n",
       "      <td>design</td>\n",
       "      <td>habrahabr.ru</td>\n",
       "    </tr>\n",
       "    <tr>\n",
       "      <th>3</th>\n",
       "      <td>@Taoorus</td>\n",
       "      <td>design</td>\n",
       "      <td>habrahabr.ru</td>\n",
       "    </tr>\n",
       "    <tr>\n",
       "      <th>4</th>\n",
       "      <td>@dennydo</td>\n",
       "      <td>NaN</td>\n",
       "      <td>geektimes.ru</td>\n",
       "    </tr>\n",
       "  </tbody>\n",
       "</table>\n",
       "</div>"
      ],
      "text/plain": [
       "       author     flow        domain\n",
       "0      @Tapac  develop  habrahabr.ru\n",
       "1  @DezmASter   design  habrahabr.ru\n",
       "2  @DezmASter   design  habrahabr.ru\n",
       "3    @Taoorus   design  habrahabr.ru\n",
       "4    @dennydo      NaN  geektimes.ru"
      ]
     },
     "execution_count": 25,
     "metadata": {},
     "output_type": "execute_result"
    }
   ],
   "source": [
    "feats = ['author', 'flow', 'domain']\n",
    "X_train[feats][:5]"
   ]
  },
  {
   "cell_type": "markdown",
   "metadata": {},
   "source": [
    "Рассмотрим как он работает на примере первых пяти строк"
   ]
  },
  {
   "cell_type": "code",
   "execution_count": 26,
   "metadata": {
    "collapsed": false
   },
   "outputs": [
    {
     "data": {
      "text/html": [
       "<div>\n",
       "<table border=\"1\" class=\"dataframe\">\n",
       "  <thead>\n",
       "    <tr style=\"text-align: right;\">\n",
       "      <th></th>\n",
       "      <th>author</th>\n",
       "      <th>flow</th>\n",
       "      <th>domain</th>\n",
       "    </tr>\n",
       "  </thead>\n",
       "  <tbody>\n",
       "    <tr>\n",
       "      <th>0</th>\n",
       "      <td>@Tapac</td>\n",
       "      <td>develop</td>\n",
       "      <td>habrahabr.ru</td>\n",
       "    </tr>\n",
       "    <tr>\n",
       "      <th>1</th>\n",
       "      <td>@DezmASter</td>\n",
       "      <td>design</td>\n",
       "      <td>habrahabr.ru</td>\n",
       "    </tr>\n",
       "    <tr>\n",
       "      <th>2</th>\n",
       "      <td>@DezmASter</td>\n",
       "      <td>design</td>\n",
       "      <td>habrahabr.ru</td>\n",
       "    </tr>\n",
       "    <tr>\n",
       "      <th>3</th>\n",
       "      <td>@Taoorus</td>\n",
       "      <td>design</td>\n",
       "      <td>habrahabr.ru</td>\n",
       "    </tr>\n",
       "    <tr>\n",
       "      <th>4</th>\n",
       "      <td>@dennydo</td>\n",
       "      <td>-</td>\n",
       "      <td>geektimes.ru</td>\n",
       "    </tr>\n",
       "  </tbody>\n",
       "</table>\n",
       "</div>"
      ],
      "text/plain": [
       "       author     flow        domain\n",
       "0      @Tapac  develop  habrahabr.ru\n",
       "1  @DezmASter   design  habrahabr.ru\n",
       "2  @DezmASter   design  habrahabr.ru\n",
       "3    @Taoorus   design  habrahabr.ru\n",
       "4    @dennydo        -  geektimes.ru"
      ]
     },
     "execution_count": 26,
     "metadata": {},
     "output_type": "execute_result"
    }
   ],
   "source": [
    "#сначала заполняем пропуски прочерком\n",
    "X_train[feats][:5].fillna('-')"
   ]
  },
  {
   "cell_type": "code",
   "execution_count": 27,
   "metadata": {
    "collapsed": false
   },
   "outputs": [
    {
     "data": {
      "text/plain": [
       "{0: {'author': '@Tapac', 'domain': 'habrahabr.ru', 'flow': 'develop'},\n",
       " 1: {'author': '@DezmASter', 'domain': 'habrahabr.ru', 'flow': 'design'},\n",
       " 2: {'author': '@DezmASter', 'domain': 'habrahabr.ru', 'flow': 'design'},\n",
       " 3: {'author': '@Taoorus', 'domain': 'habrahabr.ru', 'flow': 'design'},\n",
       " 4: {'author': '@dennydo', 'domain': 'geektimes.ru', 'flow': '-'}}"
      ]
     },
     "execution_count": 27,
     "metadata": {},
     "output_type": "execute_result"
    }
   ],
   "source": [
    "#Преобразуем датафрейм в словарь, где ключами являются индексы объектов (именно для этого мы транспонировали датафрейм),\n",
    "#а значениями являются словари в виде 'название_колонки':'значение'\n",
    "X_train[feats][:5].fillna('-').T.to_dict()"
   ]
  },
  {
   "cell_type": "code",
   "execution_count": 28,
   "metadata": {
    "collapsed": false
   },
   "outputs": [
    {
     "data": {
      "text/plain": [
       "dict_values([{'author': '@Tapac', 'flow': 'develop', 'domain': 'habrahabr.ru'}, {'author': '@DezmASter', 'flow': 'design', 'domain': 'habrahabr.ru'}, {'author': '@DezmASter', 'flow': 'design', 'domain': 'habrahabr.ru'}, {'author': '@Taoorus', 'flow': 'design', 'domain': 'habrahabr.ru'}, {'author': '@dennydo', 'flow': '-', 'domain': 'geektimes.ru'}])"
      ]
     },
     "execution_count": 28,
     "metadata": {},
     "output_type": "execute_result"
    }
   ],
   "source": [
    "#В DictVectorizer нам нужно будет передать список словарей для каждого объекта в виде 'название_колонки':'значение',\n",
    "#поэтому используем .values()\n",
    "X_train[feats][:5].fillna('-').T.to_dict().values()"
   ]
  },
  {
   "cell_type": "code",
   "execution_count": 29,
   "metadata": {
    "collapsed": false
   },
   "outputs": [
    {
     "data": {
      "text/plain": [
       "<5x9 sparse matrix of type '<class 'numpy.float64'>'\n",
       "\twith 15 stored elements in Compressed Sparse Row format>"
      ]
     },
     "execution_count": 29,
     "metadata": {},
     "output_type": "execute_result"
    }
   ],
   "source": [
    "#В итоге получается разреженная матрица\n",
    "dict_vect = DictVectorizer()\n",
    "dict_vect_matrix = dict_vect.fit_transform(X_train[feats][:5].fillna('-').T.to_dict().values())\n",
    "dict_vect_matrix"
   ]
  },
  {
   "cell_type": "code",
   "execution_count": 30,
   "metadata": {
    "collapsed": false
   },
   "outputs": [
    {
     "data": {
      "text/plain": [
       "array([[ 0.,  0.,  1.,  0.,  0.,  1.,  0.,  0.,  1.],\n",
       "       [ 1.,  0.,  0.,  0.,  0.,  1.,  0.,  1.,  0.],\n",
       "       [ 1.,  0.,  0.,  0.,  0.,  1.,  0.,  1.,  0.],\n",
       "       [ 0.,  1.,  0.,  0.,  0.,  1.,  0.,  1.,  0.],\n",
       "       [ 0.,  0.,  0.,  1.,  1.,  0.,  1.,  0.,  0.]])"
      ]
     },
     "execution_count": 30,
     "metadata": {},
     "output_type": "execute_result"
    }
   ],
   "source": [
    "#Но можно преобразовать ее в numpy array с помощью .toarray()\n",
    "dict_vect_matrix.toarray()"
   ]
  },
  {
   "cell_type": "code",
   "execution_count": 31,
   "metadata": {
    "collapsed": false
   },
   "outputs": [
    {
     "data": {
      "text/plain": [
       "(5, 9)"
      ]
     },
     "execution_count": 31,
     "metadata": {},
     "output_type": "execute_result"
    }
   ],
   "source": [
    "#В получившейся матрице 5 строк (по числу объектов) и 9 столбцов\n",
    "#Далее разберемся почему колонок именно 9\n",
    "dict_vect_matrix.shape"
   ]
  },
  {
   "cell_type": "markdown",
   "metadata": {},
   "source": [
    "Посмотрим сколько уникальных значений в каждой колонке.<br />\n",
    "Суммарно их 9 - столько же, сколько и колонок. Это объясняется тем, что для категориальных признаков со строковыми значениями DictVectorizer делает кодирование бинарными признаками - каждому уникальному значению признака соответствует один новый бинарный признак, который равен 1 только в том случае, если в исходной матрице этот признак принимает значение, которому соответствует эта колонка новой матрицы."
   ]
  },
  {
   "cell_type": "code",
   "execution_count": 32,
   "metadata": {
    "collapsed": false
   },
   "outputs": [
    {
     "name": "stdout",
     "output_type": "stream",
     "text": [
      "author 4\n",
      "flow 3\n",
      "domain 2\n"
     ]
    }
   ],
   "source": [
    "for col in feats:\n",
    "    print(col,len(X_train[col][:5].fillna('-').unique()))"
   ]
  },
  {
   "cell_type": "markdown",
   "metadata": {},
   "source": [
    "Также можно посмотреть что означает каждая колонка полученной матрицы"
   ]
  },
  {
   "cell_type": "code",
   "execution_count": 33,
   "metadata": {
    "collapsed": false
   },
   "outputs": [
    {
     "data": {
      "text/plain": [
       "['author=@DezmASter',\n",
       " 'author=@Taoorus',\n",
       " 'author=@Tapac',\n",
       " 'author=@dennydo',\n",
       " 'domain=geektimes.ru',\n",
       " 'domain=habrahabr.ru',\n",
       " 'flow=-',\n",
       " 'flow=design',\n",
       " 'flow=develop']"
      ]
     },
     "execution_count": 33,
     "metadata": {},
     "output_type": "execute_result"
    }
   ],
   "source": [
    "#например, самая первая колонка называется 'author=@DezmASter' - то есть принимает значение 1 только если автор @DezmASter\n",
    "dict_vect.feature_names_"
   ]
  },
  {
   "cell_type": "markdown",
   "metadata": {},
   "source": [
    "**Инициализируйте DictVectorizer с параметрами по умолчанию.<br />\n",
    "Примените метод fit_transform к признакам 'author', 'flow', 'domain' X_train и метод transform к тем же признакам X_valid и X_test**"
   ]
  },
  {
   "cell_type": "code",
   "execution_count": 34,
   "metadata": {
    "collapsed": false
   },
   "outputs": [],
   "source": [
    "vectorizer_feats = DictVectorizer()\n",
    "\n",
    "X_train_feats = vectorizer_feats.fit_transform(X_train[feats].fillna('-').T.to_dict().values())\n",
    "X_valid_feats = vectorizer_feats.transform(X_valid[feats].fillna('-').T.to_dict().values())\n",
    "X_test_feats = vectorizer_feats.transform(X_test[feats].fillna('-').T.to_dict().values())"
   ]
  },
  {
   "cell_type": "code",
   "execution_count": 35,
   "metadata": {
    "collapsed": false
   },
   "outputs": [
    {
     "data": {
      "text/plain": [
       "(93895, 17869)"
      ]
     },
     "execution_count": 35,
     "metadata": {},
     "output_type": "execute_result"
    }
   ],
   "source": [
    "X_train_feats.shape"
   ]
  },
  {
   "cell_type": "code",
   "execution_count": 36,
   "metadata": {
    "collapsed": false
   },
   "outputs": [],
   "source": [
    "#pd.get_dummies(X_train[feats].fillna('-')).shape"
   ]
  },
  {
   "cell_type": "markdown",
   "metadata": {},
   "source": [
    "Соединим все полученные матрицы при помощи scipy.sparse.hstack()"
   ]
  },
  {
   "cell_type": "code",
   "execution_count": 37,
   "metadata": {
    "collapsed": false
   },
   "outputs": [],
   "source": [
    "X_train_new = scipy.sparse.hstack([X_train_title, X_train_feats, X_train_title_ch])\n",
    "X_valid_new = scipy.sparse.hstack([X_valid_title, X_valid_feats, X_valid_title_ch])\n",
    "X_test_new =  scipy.sparse.hstack([X_test_title, X_test_feats, X_test_title_ch])"
   ]
  },
  {
   "cell_type": "code",
   "execution_count": 38,
   "metadata": {
    "collapsed": false
   },
   "outputs": [
    {
     "data": {
      "text/plain": [
       "(93895, 68711)"
      ]
     },
     "execution_count": 38,
     "metadata": {},
     "output_type": "execute_result"
    }
   ],
   "source": [
    "X_train_new.shape"
   ]
  },
  {
   "cell_type": "code",
   "execution_count": 39,
   "metadata": {
    "collapsed": false
   },
   "outputs": [
    {
     "data": {
      "text/plain": [
       "(40242, 68711)"
      ]
     },
     "execution_count": 39,
     "metadata": {},
     "output_type": "execute_result"
    }
   ],
   "source": [
    "X_valid_new.shape"
   ]
  },
  {
   "cell_type": "code",
   "execution_count": 40,
   "metadata": {
    "collapsed": false
   },
   "outputs": [
    {
     "data": {
      "text/plain": [
       "(3990, 68711)"
      ]
     },
     "execution_count": 40,
     "metadata": {},
     "output_type": "execute_result"
    }
   ],
   "source": [
    "X_test_new.shape"
   ]
  },
  {
   "cell_type": "markdown",
   "metadata": {},
   "source": [
    "## Обучение модели\n",
    "\n",
    "Далее будем использовать Ridge, линейную модель с l2-регуляризацией.\n",
    "[Документация](http://scikit-learn.org/stable/modules/generated/sklearn.linear_model.Ridge.html)\n",
    "\n",
    "Основной параметр Ridge - **alpha, коэффициент регуляризации**. Регуляризация используется для улучшения обобщающей способности модели - прибавляя к функционалу потерь сумму квадратов весов, умноженную на коэффициент регуляризации (та самая alpha), мы штрафуем модель за слишком большие значения весов и не позволяем ей переобучаться. Чем больше этот коээфициент, тем сильнее эффект."
   ]
  },
  {
   "cell_type": "markdown",
   "metadata": {},
   "source": [
    "**Обучите две модели на X_train_new, y_train, задав в первой alpha=0.1 и random_state = 1, а во второй alpha=1.0 и random_state = 1**\n",
    "\n",
    "**Рассчитайте среднеквадратичную ошибку каждой модели (mean_squared_error). Сравните значения ошибки на обучающей и тестовой выборках и ответьте на вопросы.**"
   ]
  },
  {
   "cell_type": "markdown",
   "metadata": {},
   "source": [
    "<font color='red'>Вопрос 6.</font> Выберите верные утверждения:\n",
    "- обе модели показывают одинаковый результат (среднеквадратичная ошибка отличается не больше чем на тысячные), регуляризация ничего не меняет\n",
    "- при alpha=0.1 модель переобучается +\n",
    "- среднеквадратичная ошибка первой модели на тесте меньше \n",
    "- при alpha=1.0 у модели обощающая способность лучше, чем у при alpha=0.1 +"
   ]
  },
  {
   "cell_type": "code",
   "execution_count": 41,
   "metadata": {
    "collapsed": false,
    "scrolled": true
   },
   "outputs": [
    {
     "name": "stdout",
     "output_type": "stream",
     "text": [
      "CPU times: user 12.4 s, sys: 12 ms, total: 12.4 s\n",
      "Wall time: 12.4 s\n"
     ]
    }
   ],
   "source": [
    "%%time\n",
    "model1 = Ridge(alpha=0.1, random_state=1)\n",
    "model1.fit(X_train_new, y_train)"
   ]
  },
  {
   "cell_type": "code",
   "execution_count": 42,
   "metadata": {
    "collapsed": false
   },
   "outputs": [
    {
     "name": "stdout",
     "output_type": "stream",
     "text": [
      "Ошибка на трейне 0.184107031582\n",
      "Ошибка на тесте 0.996233534497\n"
     ]
    }
   ],
   "source": [
    "train_preds1 = model1.predict(X_train_new)\n",
    "valid_preds1 = model1.predict(X_valid_new)\n",
    "\n",
    "print('Ошибка на трейне',mean_squared_error(y_train, train_preds1))\n",
    "print('Ошибка на тесте',mean_squared_error(y_valid, valid_preds1))"
   ]
  },
  {
   "cell_type": "code",
   "execution_count": 43,
   "metadata": {
    "collapsed": false
   },
   "outputs": [
    {
     "name": "stdout",
     "output_type": "stream",
     "text": [
      "CPU times: user 5.09 s, sys: 0 ns, total: 5.09 s\n",
      "Wall time: 5.09 s\n"
     ]
    }
   ],
   "source": [
    "%%time\n",
    "model2 = Ridge(alpha=1.0, random_state=1)\n",
    "model2.fit(X_train_new, y_train)"
   ]
  },
  {
   "cell_type": "code",
   "execution_count": 44,
   "metadata": {
    "collapsed": false
   },
   "outputs": [
    {
     "name": "stdout",
     "output_type": "stream",
     "text": [
      "Ошибка на трейне 0.28624407471\n",
      "Ошибка на тесте 0.80695156251\n"
     ]
    }
   ],
   "source": [
    "train_preds2 = model2.predict(X_train_new)\n",
    "valid_preds2 = model2.predict(X_valid_new)\n",
    "\n",
    "print('Ошибка на трейне',mean_squared_error(y_train, train_preds2))\n",
    "print('Ошибка на тесте',mean_squared_error(y_valid, valid_preds2))"
   ]
  },
  {
   "cell_type": "markdown",
   "metadata": {},
   "source": [
    "## Baseline\n",
    "\n",
    "**Теперь попытаемся получить бейзлайн для соревования - используйте Ridge с параметрами по умолчанию и обучите модель на всех данных - соедините X_train_new X_valid_new (используйте scipy.sparse.vstack()), а целевой переменной будет y.**"
   ]
  },
  {
   "cell_type": "code",
   "execution_count": 45,
   "metadata": {
    "collapsed": false
   },
   "outputs": [
    {
     "name": "stdout",
     "output_type": "stream",
     "text": [
      "CPU times: user 8.05 s, sys: 56 ms, total: 8.1 s\n",
      "Wall time: 8.1 s\n"
     ]
    }
   ],
   "source": [
    "%%time\n",
    "model = Ridge()\n",
    "model.fit(scipy.sparse.vstack([X_train_new, X_valid_new]), y)\n",
    "#обучите модель на всех данных\n",
    "\n",
    "test_preds = model.predict(X_test_new)"
   ]
  },
  {
   "cell_type": "code",
   "execution_count": 115,
   "metadata": {
    "collapsed": false
   },
   "outputs": [
    {
     "data": {
      "text/plain": [
       "array([ 0.3881152 , -0.56894421,  0.70190327, ...,  0.50969549,\n",
       "        0.03276925,  0.57566586])"
      ]
     },
     "execution_count": 115,
     "metadata": {},
     "output_type": "execute_result"
    }
   ],
   "source": [
    "test_preds"
   ]
  },
  {
   "cell_type": "code",
   "execution_count": 117,
   "metadata": {
    "collapsed": false
   },
   "outputs": [],
   "source": [
    "sample_submission = pd.read_csv('sample_submission.csv', index_col='url')"
   ]
  },
  {
   "cell_type": "code",
   "execution_count": 118,
   "metadata": {
    "collapsed": false
   },
   "outputs": [
    {
     "data": {
      "text/html": [
       "<div>\n",
       "<table border=\"1\" class=\"dataframe\">\n",
       "  <thead>\n",
       "    <tr style=\"text-align: right;\">\n",
       "      <th></th>\n",
       "      <th>favs_lognorm</th>\n",
       "    </tr>\n",
       "    <tr>\n",
       "      <th>url</th>\n",
       "      <th></th>\n",
       "    </tr>\n",
       "  </thead>\n",
       "  <tbody>\n",
       "    <tr>\n",
       "      <th>https://habrahabr.ru/post/314080/</th>\n",
       "      <td>0.323588</td>\n",
       "    </tr>\n",
       "    <tr>\n",
       "      <th>https://habrahabr.ru/company/plesk/blog/313732/</th>\n",
       "      <td>0.560105</td>\n",
       "    </tr>\n",
       "    <tr>\n",
       "      <th>https://habrahabr.ru/company/etagi/blog/314000/</th>\n",
       "      <td>0.667039</td>\n",
       "    </tr>\n",
       "    <tr>\n",
       "      <th>https://habrahabr.ru/company/knopka/blog/314030/</th>\n",
       "      <td>0.149563</td>\n",
       "    </tr>\n",
       "    <tr>\n",
       "      <th>https://geektimes.ru/company/audiomania/blog/282058/</th>\n",
       "      <td>0.670754</td>\n",
       "    </tr>\n",
       "  </tbody>\n",
       "</table>\n",
       "</div>"
      ],
      "text/plain": [
       "                                                    favs_lognorm\n",
       "url                                                             \n",
       "https://habrahabr.ru/post/314080/                       0.323588\n",
       "https://habrahabr.ru/company/plesk/blog/313732/         0.560105\n",
       "https://habrahabr.ru/company/etagi/blog/314000/         0.667039\n",
       "https://habrahabr.ru/company/knopka/blog/314030/        0.149563\n",
       "https://geektimes.ru/company/audiomania/blog/28...      0.670754"
      ]
     },
     "execution_count": 118,
     "metadata": {},
     "output_type": "execute_result"
    }
   ],
   "source": [
    "sample_submission.head()"
   ]
  },
  {
   "cell_type": "code",
   "execution_count": 119,
   "metadata": {
    "collapsed": false
   },
   "outputs": [],
   "source": [
    "ridge_submission = sample_submission.copy()\n",
    "ridge_submission['favs_lognorm'] = test_preds\n",
    "ridge_submission.to_csv('ridge_baseline.csv') #а вот и бейзлайн"
   ]
  }
 ],
 "metadata": {
  "anaconda-cloud": {},
  "kernelspec": {
   "display_name": "Python 3",
   "language": "python",
   "name": "python3"
  },
  "language_info": {
   "codemirror_mode": {
    "name": "ipython",
    "version": 3
   },
   "file_extension": ".py",
   "mimetype": "text/x-python",
   "name": "python",
   "nbconvert_exporter": "python",
   "pygments_lexer": "ipython3",
   "version": "3.5.2"
  }
 },
 "nbformat": 4,
 "nbformat_minor": 0
}
